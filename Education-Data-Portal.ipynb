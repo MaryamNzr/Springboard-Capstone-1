{
 "cells": [
  {
   "cell_type": "markdown",
   "id": "5999ae16",
   "metadata": {},
   "source": [
    "This school-level database contains data from the following sources: the National Center for Education Statistics’ Common Core of Data (CCD), the Civil Rights Data Collection (CRDC), the US Department of Education’s EDFacts, and IPUMS’ National Historical Geographic Information System (NHGIS). Although the CCD includes information on schools over a long period, the topics covered are more limited than in the CRDC. \n",
    "\n",
    "The CCD include basic information about the school (e.g., location, grade offerings, and charter status) and student enrollment demographics. \n",
    "\n",
    "The CRDC contains three years of data on every public school on such topics as student discipline, retention, course enrollment, chronic absenteeism, and SAT or ACT test-taking. \n",
    "\n",
    "EDFacts provides assessment and graduation rate data broken down by various subgroups. \n",
    "\n",
    "NHGIS provides census geographies such as tract and block group for each school."
   ]
  },
  {
   "cell_type": "markdown",
   "id": "4dd61916",
   "metadata": {},
   "source": [
    "Data sources:\n",
    "Common Core of Data\n",
    "The Common Core of Data is the US Department of Education's primary database on public elementary and secondary education. It provides directory and enrollment information at the school level and directory, enrollment, and finance data at the school district level.\n",
    "https://nces.ed.gov/ccd/\n",
    "\n",
    "The Civil Rights Data Collection\n",
    "The Civil Rights Data Collection (CRDC) is a biennial survey required by the US Department of Education's Office for Civil Rights. The CRDC features data about enrollment, math and science courses, Advanced Placement courses, discipline, school expenditures, and teacher experiences. The following endpoints are currently available:\n",
    "Directory\n",
    "Enrollment\n",
    "Discipline\n",
    "Harassment and bullying\n",
    "Restraint and seclusion\n",
    "Chronic absenteeism\n",
    "Advanced coursework\n",
    "AP exams\n",
    "SAT and ACT participation\n",
    "https://ocrdata.ed.gov/\n",
    "\n",
    "EDFacts\n",
    "The US Department of Education's EDFacts initiative collects, analyzes, and centralizes data from state education agencies on various topics. Currently included in the explorer and portal are assessment data for reading and math for grades 3–12 at both the school and school district level.\n",
    "https://www2.ed.gov/about/inits/ed/edfacts/index.html\n",
    "\n",
    "National Historical Geographic Information System\n",
    "Provided through IPUMS, the National Historical Geographic Information System contains population, housing, agriculture, and economic data for all census geographies from 1790 through the present.\n",
    "https://www.nhgis.org/\n",
    "\n",
    "Model Estimates of Poverty in Schools (MEPS)\n",
    "Model Estimates of Poverty in Schools is the Urban Institute's school-level measure of the percentage of students living in poverty. It is comparable across states and time. Derived from the CCD and the SAIPE, it provides the estimated percentage of students with family incomes up to 100 percent of the federal poverty level for the years 2013 through 2018.\n",
    "https://www.urban.org/research/publication/model-estimates-poverty-schools"
   ]
  },
  {
   "cell_type": "code",
   "execution_count": 69,
   "id": "2f217024",
   "metadata": {},
   "outputs": [],
   "source": [
    "import pandas as pd\n",
    "import numpy as np\n",
    "import matplotlib.pyplot as plt\n",
    "import seaborn as sns\n",
    "import os\n"
   ]
  },
  {
   "cell_type": "markdown",
   "id": "bef6b313",
   "metadata": {},
   "source": [
    "#This Directory contains school-level information on location, mailing addresses, school types, highest and lowest grades offered, and free and reduced-price lunch. This endpoint also contains the school-level data on the number of full-time eqivalent teachers."
   ]
  },
  {
   "cell_type": "code",
   "execution_count": 70,
   "id": "48a3936a",
   "metadata": {},
   "outputs": [],
   "source": [
    "from urllib.request import urlopen\n",
    "from json import loads\n",
    "url = \"https://educationdata.urban.org/api/v1/schools/ccd/directory/1988/\"\n",
    "response = urlopen(url)\n",
    "data = loads(response.read())"
   ]
  },
  {
   "cell_type": "code",
   "execution_count": 71,
   "id": "078d4865",
   "metadata": {},
   "outputs": [
    {
     "data": {
      "text/plain": [
       "dict_keys(['count', 'next', 'previous', 'results'])"
      ]
     },
     "execution_count": 71,
     "metadata": {},
     "output_type": "execute_result"
    }
   ],
   "source": [
    "data.keys()"
   ]
  },
  {
   "cell_type": "code",
   "execution_count": 72,
   "id": "2abc2bf9",
   "metadata": {},
   "outputs": [],
   "source": [
    "directory=pd.DataFrame(data)"
   ]
  },
  {
   "cell_type": "code",
   "execution_count": 73,
   "id": "212910e7",
   "metadata": {},
   "outputs": [
    {
     "data": {
      "text/html": [
       "<div>\n",
       "<style scoped>\n",
       "    .dataframe tbody tr th:only-of-type {\n",
       "        vertical-align: middle;\n",
       "    }\n",
       "\n",
       "    .dataframe tbody tr th {\n",
       "        vertical-align: top;\n",
       "    }\n",
       "\n",
       "    .dataframe thead th {\n",
       "        text-align: right;\n",
       "    }\n",
       "</style>\n",
       "<table border=\"1\" class=\"dataframe\">\n",
       "  <thead>\n",
       "    <tr style=\"text-align: right;\">\n",
       "      <th></th>\n",
       "      <th>count</th>\n",
       "      <th>next</th>\n",
       "      <th>previous</th>\n",
       "      <th>results</th>\n",
       "    </tr>\n",
       "  </thead>\n",
       "  <tbody>\n",
       "    <tr>\n",
       "      <th>0</th>\n",
       "      <td>84968</td>\n",
       "      <td>https://educationdata.urban.org/api/v1/schools...</td>\n",
       "      <td>None</td>\n",
       "      <td>{'year': 1988, 'ncessch': '010000201704', 'sch...</td>\n",
       "    </tr>\n",
       "    <tr>\n",
       "      <th>1</th>\n",
       "      <td>84968</td>\n",
       "      <td>https://educationdata.urban.org/api/v1/schools...</td>\n",
       "      <td>None</td>\n",
       "      <td>{'year': 1988, 'ncessch': '010000201705', 'sch...</td>\n",
       "    </tr>\n",
       "    <tr>\n",
       "      <th>2</th>\n",
       "      <td>84968</td>\n",
       "      <td>https://educationdata.urban.org/api/v1/schools...</td>\n",
       "      <td>None</td>\n",
       "      <td>{'year': 1988, 'ncessch': '010000201706', 'sch...</td>\n",
       "    </tr>\n",
       "    <tr>\n",
       "      <th>3</th>\n",
       "      <td>84968</td>\n",
       "      <td>https://educationdata.urban.org/api/v1/schools...</td>\n",
       "      <td>None</td>\n",
       "      <td>{'year': 1988, 'ncessch': '010000500870', 'sch...</td>\n",
       "    </tr>\n",
       "    <tr>\n",
       "      <th>4</th>\n",
       "      <td>84968</td>\n",
       "      <td>https://educationdata.urban.org/api/v1/schools...</td>\n",
       "      <td>None</td>\n",
       "      <td>{'year': 1988, 'ncessch': '010000500871', 'sch...</td>\n",
       "    </tr>\n",
       "  </tbody>\n",
       "</table>\n",
       "</div>"
      ],
      "text/plain": [
       "   count                                               next previous  \\\n",
       "0  84968  https://educationdata.urban.org/api/v1/schools...     None   \n",
       "1  84968  https://educationdata.urban.org/api/v1/schools...     None   \n",
       "2  84968  https://educationdata.urban.org/api/v1/schools...     None   \n",
       "3  84968  https://educationdata.urban.org/api/v1/schools...     None   \n",
       "4  84968  https://educationdata.urban.org/api/v1/schools...     None   \n",
       "\n",
       "                                             results  \n",
       "0  {'year': 1988, 'ncessch': '010000201704', 'sch...  \n",
       "1  {'year': 1988, 'ncessch': '010000201705', 'sch...  \n",
       "2  {'year': 1988, 'ncessch': '010000201706', 'sch...  \n",
       "3  {'year': 1988, 'ncessch': '010000500870', 'sch...  \n",
       "4  {'year': 1988, 'ncessch': '010000500871', 'sch...  "
      ]
     },
     "execution_count": 73,
     "metadata": {},
     "output_type": "execute_result"
    }
   ],
   "source": [
    "directory.head()"
   ]
  },
  {
   "cell_type": "code",
   "execution_count": 74,
   "id": "423e1b0a",
   "metadata": {},
   "outputs": [
    {
     "name": "stdout",
     "output_type": "stream",
     "text": [
      "0       {'year': 1988, 'ncessch': '010000201704', 'sch...\n",
      "1       {'year': 1988, 'ncessch': '010000201705', 'sch...\n",
      "2       {'year': 1988, 'ncessch': '010000201706', 'sch...\n",
      "3       {'year': 1988, 'ncessch': '010000500870', 'sch...\n",
      "4       {'year': 1988, 'ncessch': '010000500871', 'sch...\n",
      "                              ...                        \n",
      "9995    {'year': 1988, 'ncessch': '063537008981', 'sch...\n",
      "9996    {'year': 1988, 'ncessch': '063537008983', 'sch...\n",
      "9997    {'year': 1988, 'ncessch': '063537009441', 'sch...\n",
      "9998    {'year': 1988, 'ncessch': '063537009442', 'sch...\n",
      "9999    {'year': 1988, 'ncessch': '063543006033', 'sch...\n",
      "Name: results, Length: 10000, dtype: object\n"
     ]
    }
   ],
   "source": [
    "print(directory[\"results\"])"
   ]
  },
  {
   "cell_type": "markdown",
   "id": "0be2e24f",
   "metadata": {},
   "source": [
    "From directory, the following variables are important free_or_reduced_price_lunch, name of schools, and states, school type, year, grade level"
   ]
  },
  {
   "cell_type": "code",
   "execution_count": 75,
   "id": "b8522966",
   "metadata": {},
   "outputs": [],
   "source": [
    "from urllib.request import urlopen\n",
    "from json import loads\n",
    "url = \"https://educationdata.urban.org/api/v1/schools/ccd/enrollment/2014/grade-8/\"\n",
    "response = urlopen(url)\n",
    "enrollmentbygrade = loads(response.read())"
   ]
  },
  {
   "cell_type": "markdown",
   "id": "cc84b4fd",
   "metadata": {},
   "source": [
    "#This endpoint contains student enrollment for each school by students' race and sex."
   ]
  },
  {
   "cell_type": "code",
   "execution_count": 76,
   "id": "c8bf87e6",
   "metadata": {},
   "outputs": [
    {
     "data": {
      "text/plain": [
       "dict_keys(['count', 'next', 'previous', 'results'])"
      ]
     },
     "execution_count": 76,
     "metadata": {},
     "output_type": "execute_result"
    }
   ],
   "source": [
    "data.keys()"
   ]
  },
  {
   "cell_type": "code",
   "execution_count": 77,
   "id": "0cb196df",
   "metadata": {},
   "outputs": [],
   "source": [
    "enrollmentbygrade=pd.DataFrame(enrollmentbygrade)"
   ]
  },
  {
   "cell_type": "code",
   "execution_count": 78,
   "id": "67fa812a",
   "metadata": {},
   "outputs": [
    {
     "data": {
      "text/html": [
       "<div>\n",
       "<style scoped>\n",
       "    .dataframe tbody tr th:only-of-type {\n",
       "        vertical-align: middle;\n",
       "    }\n",
       "\n",
       "    .dataframe tbody tr th {\n",
       "        vertical-align: top;\n",
       "    }\n",
       "\n",
       "    .dataframe thead th {\n",
       "        text-align: right;\n",
       "    }\n",
       "</style>\n",
       "<table border=\"1\" class=\"dataframe\">\n",
       "  <thead>\n",
       "    <tr style=\"text-align: right;\">\n",
       "      <th></th>\n",
       "      <th>count</th>\n",
       "      <th>next</th>\n",
       "      <th>previous</th>\n",
       "      <th>results</th>\n",
       "    </tr>\n",
       "  </thead>\n",
       "  <tbody>\n",
       "    <tr>\n",
       "      <th>0</th>\n",
       "      <td>36585</td>\n",
       "      <td>https://educationdata.urban.org/api/v1/schools...</td>\n",
       "      <td>None</td>\n",
       "      <td>{'year': 2014, 'ncessch': '010000200277', 'nce...</td>\n",
       "    </tr>\n",
       "    <tr>\n",
       "      <th>1</th>\n",
       "      <td>36585</td>\n",
       "      <td>https://educationdata.urban.org/api/v1/schools...</td>\n",
       "      <td>None</td>\n",
       "      <td>{'year': 2014, 'ncessch': '010000201402', 'nce...</td>\n",
       "    </tr>\n",
       "    <tr>\n",
       "      <th>2</th>\n",
       "      <td>36585</td>\n",
       "      <td>https://educationdata.urban.org/api/v1/schools...</td>\n",
       "      <td>None</td>\n",
       "      <td>{'year': 2014, 'ncessch': '010000201667', 'nce...</td>\n",
       "    </tr>\n",
       "    <tr>\n",
       "      <th>3</th>\n",
       "      <td>36585</td>\n",
       "      <td>https://educationdata.urban.org/api/v1/schools...</td>\n",
       "      <td>None</td>\n",
       "      <td>{'year': 2014, 'ncessch': '010000201670', 'nce...</td>\n",
       "    </tr>\n",
       "    <tr>\n",
       "      <th>4</th>\n",
       "      <td>36585</td>\n",
       "      <td>https://educationdata.urban.org/api/v1/schools...</td>\n",
       "      <td>None</td>\n",
       "      <td>{'year': 2014, 'ncessch': '010000201705', 'nce...</td>\n",
       "    </tr>\n",
       "  </tbody>\n",
       "</table>\n",
       "</div>"
      ],
      "text/plain": [
       "   count                                               next previous  \\\n",
       "0  36585  https://educationdata.urban.org/api/v1/schools...     None   \n",
       "1  36585  https://educationdata.urban.org/api/v1/schools...     None   \n",
       "2  36585  https://educationdata.urban.org/api/v1/schools...     None   \n",
       "3  36585  https://educationdata.urban.org/api/v1/schools...     None   \n",
       "4  36585  https://educationdata.urban.org/api/v1/schools...     None   \n",
       "\n",
       "                                             results  \n",
       "0  {'year': 2014, 'ncessch': '010000200277', 'nce...  \n",
       "1  {'year': 2014, 'ncessch': '010000201402', 'nce...  \n",
       "2  {'year': 2014, 'ncessch': '010000201667', 'nce...  \n",
       "3  {'year': 2014, 'ncessch': '010000201670', 'nce...  \n",
       "4  {'year': 2014, 'ncessch': '010000201705', 'nce...  "
      ]
     },
     "execution_count": 78,
     "metadata": {},
     "output_type": "execute_result"
    }
   ],
   "source": [
    "enrollmentbygrade.head()"
   ]
  },
  {
   "cell_type": "code",
   "execution_count": 80,
   "id": "cc974249",
   "metadata": {},
   "outputs": [
    {
     "data": {
      "text/plain": [
       "{'year': 2014,\n",
       " 'ncessch': '010000201402',\n",
       " 'ncessch_num': 10000201402,\n",
       " 'grade': 8,\n",
       " 'race': 99,\n",
       " 'sex': 99,\n",
       " 'enrollment': None,\n",
       " 'fips': 1,\n",
       " 'leaid': '100002'}"
      ]
     },
     "execution_count": 80,
     "metadata": {},
     "output_type": "execute_result"
    }
   ],
   "source": [
    "enrollmentbygrade[\"results\"][1]"
   ]
  },
  {
   "cell_type": "code",
   "execution_count": null,
   "id": "34bc3d8c",
   "metadata": {},
   "outputs": [],
   "source": [
    "#From Enrollment—By-grade, the following information might be important: year, grade, race, sex\n"
   ]
  },
  {
   "cell_type": "code",
   "execution_count": 81,
   "id": "c00ff0a4",
   "metadata": {},
   "outputs": [],
   "source": [
    "from urllib.request import urlopen\n",
    "from json import loads\n",
    "url = \"https://educationdata.urban.org/api/v1/schools/ccd/enrollment/2013/grade-3/race/\"\n",
    "response = urlopen(url)\n",
    "EnrollmentBygradeandrace = loads(response.read())"
   ]
  },
  {
   "cell_type": "code",
   "execution_count": 82,
   "id": "7ccad3c5",
   "metadata": {},
   "outputs": [],
   "source": [
    "EnrollmentBygradeandrace=pd.DataFrame(EnrollmentBygradeandrace)"
   ]
  },
  {
   "cell_type": "code",
   "execution_count": 83,
   "id": "43c0890b",
   "metadata": {},
   "outputs": [
    {
     "data": {
      "text/html": [
       "<div>\n",
       "<style scoped>\n",
       "    .dataframe tbody tr th:only-of-type {\n",
       "        vertical-align: middle;\n",
       "    }\n",
       "\n",
       "    .dataframe tbody tr th {\n",
       "        vertical-align: top;\n",
       "    }\n",
       "\n",
       "    .dataframe thead th {\n",
       "        text-align: right;\n",
       "    }\n",
       "</style>\n",
       "<table border=\"1\" class=\"dataframe\">\n",
       "  <thead>\n",
       "    <tr style=\"text-align: right;\">\n",
       "      <th></th>\n",
       "      <th>count</th>\n",
       "      <th>next</th>\n",
       "      <th>previous</th>\n",
       "      <th>results</th>\n",
       "    </tr>\n",
       "  </thead>\n",
       "  <tbody>\n",
       "    <tr>\n",
       "      <th>0</th>\n",
       "      <td>433640</td>\n",
       "      <td>https://educationdata.urban.org/api/v1/schools...</td>\n",
       "      <td>None</td>\n",
       "      <td>{'year': 2013, 'ncessch': '010000201402', 'nce...</td>\n",
       "    </tr>\n",
       "    <tr>\n",
       "      <th>1</th>\n",
       "      <td>433640</td>\n",
       "      <td>https://educationdata.urban.org/api/v1/schools...</td>\n",
       "      <td>None</td>\n",
       "      <td>{'year': 2013, 'ncessch': '010000500889', 'nce...</td>\n",
       "    </tr>\n",
       "    <tr>\n",
       "      <th>2</th>\n",
       "      <td>433640</td>\n",
       "      <td>https://educationdata.urban.org/api/v1/schools...</td>\n",
       "      <td>None</td>\n",
       "      <td>{'year': 2013, 'ncessch': '010000600876', 'nce...</td>\n",
       "    </tr>\n",
       "    <tr>\n",
       "      <th>3</th>\n",
       "      <td>433640</td>\n",
       "      <td>https://educationdata.urban.org/api/v1/schools...</td>\n",
       "      <td>None</td>\n",
       "      <td>{'year': 2013, 'ncessch': '010000600877', 'nce...</td>\n",
       "    </tr>\n",
       "    <tr>\n",
       "      <th>4</th>\n",
       "      <td>433640</td>\n",
       "      <td>https://educationdata.urban.org/api/v1/schools...</td>\n",
       "      <td>None</td>\n",
       "      <td>{'year': 2013, 'ncessch': '010000600880', 'nce...</td>\n",
       "    </tr>\n",
       "  </tbody>\n",
       "</table>\n",
       "</div>"
      ],
      "text/plain": [
       "    count                                               next previous  \\\n",
       "0  433640  https://educationdata.urban.org/api/v1/schools...     None   \n",
       "1  433640  https://educationdata.urban.org/api/v1/schools...     None   \n",
       "2  433640  https://educationdata.urban.org/api/v1/schools...     None   \n",
       "3  433640  https://educationdata.urban.org/api/v1/schools...     None   \n",
       "4  433640  https://educationdata.urban.org/api/v1/schools...     None   \n",
       "\n",
       "                                             results  \n",
       "0  {'year': 2013, 'ncessch': '010000201402', 'nce...  \n",
       "1  {'year': 2013, 'ncessch': '010000500889', 'nce...  \n",
       "2  {'year': 2013, 'ncessch': '010000600876', 'nce...  \n",
       "3  {'year': 2013, 'ncessch': '010000600877', 'nce...  \n",
       "4  {'year': 2013, 'ncessch': '010000600880', 'nce...  "
      ]
     },
     "execution_count": 83,
     "metadata": {},
     "output_type": "execute_result"
    }
   ],
   "source": [
    "EnrollmentBygradeandrace.head()"
   ]
  },
  {
   "cell_type": "code",
   "execution_count": 86,
   "id": "560a934a",
   "metadata": {},
   "outputs": [
    {
     "data": {
      "text/plain": [
       "{'year': 2013,\n",
       " 'ncessch': '010000500889',\n",
       " 'ncessch_num': 10000500889,\n",
       " 'grade': 3,\n",
       " 'race': 1,\n",
       " 'sex': 99,\n",
       " 'enrollment': 213,\n",
       " 'fips': 1,\n",
       " 'leaid': '100005'}"
      ]
     },
     "execution_count": 86,
     "metadata": {},
     "output_type": "execute_result"
    }
   ],
   "source": [
    "EnrollmentBygradeandrace[\"results\"][1]"
   ]
  },
  {
   "cell_type": "code",
   "execution_count": 87,
   "id": "793347e6",
   "metadata": {},
   "outputs": [],
   "source": [
    "#There are overlapped between EnrollmentBygradeandrace and EnrollmentBygrade data sets"
   ]
  },
  {
   "cell_type": "code",
   "execution_count": 89,
   "id": "e1262730",
   "metadata": {},
   "outputs": [],
   "source": [
    "from urllib.request import urlopen\n",
    "from json import loads\n",
    "url = \"https://educationdata.urban.org/api/v1/schools/ccd/enrollment/2012/grade-5/sex\"\n",
    "response = urlopen(url)\n",
    "EnrollmentBygradeandsex = loads(response.read())"
   ]
  },
  {
   "cell_type": "code",
   "execution_count": 90,
   "id": "af328d92",
   "metadata": {},
   "outputs": [],
   "source": [
    "EnrollmentBygradeandsex=pd.DataFrame(EnrollmentBygradeandsex)"
   ]
  },
  {
   "cell_type": "code",
   "execution_count": 91,
   "id": "657f699d",
   "metadata": {},
   "outputs": [
    {
     "data": {
      "text/html": [
       "<div>\n",
       "<style scoped>\n",
       "    .dataframe tbody tr th:only-of-type {\n",
       "        vertical-align: middle;\n",
       "    }\n",
       "\n",
       "    .dataframe tbody tr th {\n",
       "        vertical-align: top;\n",
       "    }\n",
       "\n",
       "    .dataframe thead th {\n",
       "        text-align: right;\n",
       "    }\n",
       "</style>\n",
       "<table border=\"1\" class=\"dataframe\">\n",
       "  <thead>\n",
       "    <tr style=\"text-align: right;\">\n",
       "      <th></th>\n",
       "      <th>count</th>\n",
       "      <th>next</th>\n",
       "      <th>previous</th>\n",
       "      <th>results</th>\n",
       "    </tr>\n",
       "  </thead>\n",
       "  <tbody>\n",
       "    <tr>\n",
       "      <th>0</th>\n",
       "      <td>159039</td>\n",
       "      <td>https://educationdata.urban.org/api/v1/schools...</td>\n",
       "      <td>None</td>\n",
       "      <td>{'year': 2012, 'ncessch': '010000201402', 'nce...</td>\n",
       "    </tr>\n",
       "    <tr>\n",
       "      <th>1</th>\n",
       "      <td>159039</td>\n",
       "      <td>https://educationdata.urban.org/api/v1/schools...</td>\n",
       "      <td>None</td>\n",
       "      <td>{'year': 2012, 'ncessch': '010000500879', 'nce...</td>\n",
       "    </tr>\n",
       "    <tr>\n",
       "      <th>2</th>\n",
       "      <td>159039</td>\n",
       "      <td>https://educationdata.urban.org/api/v1/schools...</td>\n",
       "      <td>None</td>\n",
       "      <td>{'year': 2012, 'ncessch': '010000600193', 'nce...</td>\n",
       "    </tr>\n",
       "    <tr>\n",
       "      <th>3</th>\n",
       "      <td>159039</td>\n",
       "      <td>https://educationdata.urban.org/api/v1/schools...</td>\n",
       "      <td>None</td>\n",
       "      <td>{'year': 2012, 'ncessch': '010000600872', 'nce...</td>\n",
       "    </tr>\n",
       "    <tr>\n",
       "      <th>4</th>\n",
       "      <td>159039</td>\n",
       "      <td>https://educationdata.urban.org/api/v1/schools...</td>\n",
       "      <td>None</td>\n",
       "      <td>{'year': 2012, 'ncessch': '010000600876', 'nce...</td>\n",
       "    </tr>\n",
       "  </tbody>\n",
       "</table>\n",
       "</div>"
      ],
      "text/plain": [
       "    count                                               next previous  \\\n",
       "0  159039  https://educationdata.urban.org/api/v1/schools...     None   \n",
       "1  159039  https://educationdata.urban.org/api/v1/schools...     None   \n",
       "2  159039  https://educationdata.urban.org/api/v1/schools...     None   \n",
       "3  159039  https://educationdata.urban.org/api/v1/schools...     None   \n",
       "4  159039  https://educationdata.urban.org/api/v1/schools...     None   \n",
       "\n",
       "                                             results  \n",
       "0  {'year': 2012, 'ncessch': '010000201402', 'nce...  \n",
       "1  {'year': 2012, 'ncessch': '010000500879', 'nce...  \n",
       "2  {'year': 2012, 'ncessch': '010000600193', 'nce...  \n",
       "3  {'year': 2012, 'ncessch': '010000600872', 'nce...  \n",
       "4  {'year': 2012, 'ncessch': '010000600876', 'nce...  "
      ]
     },
     "execution_count": 91,
     "metadata": {},
     "output_type": "execute_result"
    }
   ],
   "source": [
    "EnrollmentBygradeandsex.head()"
   ]
  },
  {
   "cell_type": "code",
   "execution_count": 92,
   "id": "2a203f7d",
   "metadata": {},
   "outputs": [
    {
     "data": {
      "text/plain": [
       "{'year': 2012,\n",
       " 'ncessch': '010000500879',\n",
       " 'ncessch_num': 10000500879,\n",
       " 'grade': 5,\n",
       " 'race': 99,\n",
       " 'sex': 1,\n",
       " 'enrollment': 148,\n",
       " 'fips': 1,\n",
       " 'leaid': '100005'}"
      ]
     },
     "execution_count": 92,
     "metadata": {},
     "output_type": "execute_result"
    }
   ],
   "source": [
    "EnrollmentBygradeandsex[\"results\"][1]"
   ]
  },
  {
   "cell_type": "markdown",
   "id": "a689e88a",
   "metadata": {},
   "source": [
    "#There are overlap data in EnrollmentBygrade, EnrollmentBygradeandrace and EnrollmentBygradeandsex datasets."
   ]
  },
  {
   "cell_type": "code",
   "execution_count": 95,
   "id": "d4389ed3",
   "metadata": {},
   "outputs": [],
   "source": [
    "from urllib.request import urlopen\n",
    "from json import loads\n",
    "url = \"https://educationdata.urban.org/api/v1/schools/ccd/enrollment/2007/grade-6/race/sex/\"\n",
    "response = urlopen(url)\n",
    "EnrollmentBygradesexrace = loads(response.read())"
   ]
  },
  {
   "cell_type": "code",
   "execution_count": 96,
   "id": "489a1975",
   "metadata": {},
   "outputs": [],
   "source": [
    "EnrollmentBygradesexrace=pd.DataFrame(EnrollmentBygradesexrace)"
   ]
  },
  {
   "cell_type": "code",
   "execution_count": 97,
   "id": "1f67a880",
   "metadata": {},
   "outputs": [
    {
     "data": {
      "text/html": [
       "<div>\n",
       "<style scoped>\n",
       "    .dataframe tbody tr th:only-of-type {\n",
       "        vertical-align: middle;\n",
       "    }\n",
       "\n",
       "    .dataframe tbody tr th {\n",
       "        vertical-align: top;\n",
       "    }\n",
       "\n",
       "    .dataframe thead th {\n",
       "        text-align: right;\n",
       "    }\n",
       "</style>\n",
       "<table border=\"1\" class=\"dataframe\">\n",
       "  <thead>\n",
       "    <tr style=\"text-align: right;\">\n",
       "      <th></th>\n",
       "      <th>count</th>\n",
       "      <th>next</th>\n",
       "      <th>previous</th>\n",
       "      <th>results</th>\n",
       "    </tr>\n",
       "  </thead>\n",
       "  <tbody>\n",
       "    <tr>\n",
       "      <th>0</th>\n",
       "      <td>705582</td>\n",
       "      <td>https://educationdata.urban.org/api/v1/schools...</td>\n",
       "      <td>None</td>\n",
       "      <td>{'year': 2007, 'ncessch': '100000600017', 'nce...</td>\n",
       "    </tr>\n",
       "    <tr>\n",
       "      <th>1</th>\n",
       "      <td>705582</td>\n",
       "      <td>https://educationdata.urban.org/api/v1/schools...</td>\n",
       "      <td>None</td>\n",
       "      <td>{'year': 2007, 'ncessch': '100000600017', 'nce...</td>\n",
       "    </tr>\n",
       "    <tr>\n",
       "      <th>2</th>\n",
       "      <td>705582</td>\n",
       "      <td>https://educationdata.urban.org/api/v1/schools...</td>\n",
       "      <td>None</td>\n",
       "      <td>{'year': 2007, 'ncessch': '100000600017', 'nce...</td>\n",
       "    </tr>\n",
       "    <tr>\n",
       "      <th>3</th>\n",
       "      <td>705582</td>\n",
       "      <td>https://educationdata.urban.org/api/v1/schools...</td>\n",
       "      <td>None</td>\n",
       "      <td>{'year': 2007, 'ncessch': '100000600017', 'nce...</td>\n",
       "    </tr>\n",
       "    <tr>\n",
       "      <th>4</th>\n",
       "      <td>705582</td>\n",
       "      <td>https://educationdata.urban.org/api/v1/schools...</td>\n",
       "      <td>None</td>\n",
       "      <td>{'year': 2007, 'ncessch': '100000600017', 'nce...</td>\n",
       "    </tr>\n",
       "  </tbody>\n",
       "</table>\n",
       "</div>"
      ],
      "text/plain": [
       "    count                                               next previous  \\\n",
       "0  705582  https://educationdata.urban.org/api/v1/schools...     None   \n",
       "1  705582  https://educationdata.urban.org/api/v1/schools...     None   \n",
       "2  705582  https://educationdata.urban.org/api/v1/schools...     None   \n",
       "3  705582  https://educationdata.urban.org/api/v1/schools...     None   \n",
       "4  705582  https://educationdata.urban.org/api/v1/schools...     None   \n",
       "\n",
       "                                             results  \n",
       "0  {'year': 2007, 'ncessch': '100000600017', 'nce...  \n",
       "1  {'year': 2007, 'ncessch': '100000600017', 'nce...  \n",
       "2  {'year': 2007, 'ncessch': '100000600017', 'nce...  \n",
       "3  {'year': 2007, 'ncessch': '100000600017', 'nce...  \n",
       "4  {'year': 2007, 'ncessch': '100000600017', 'nce...  "
      ]
     },
     "execution_count": 97,
     "metadata": {},
     "output_type": "execute_result"
    }
   ],
   "source": [
    "EnrollmentBygradesexrace.head()"
   ]
  },
  {
   "cell_type": "markdown",
   "id": "04c371b3",
   "metadata": {},
   "source": [
    "#There are overlap data in EnrollmentBygrade, EnrollmentBygradeandrace and EnrollmentBygradeandsex and EnrollmentBygradesexrace datasets"
   ]
  },
  {
   "cell_type": "code",
   "execution_count": null,
   "id": "05632220",
   "metadata": {},
   "outputs": [],
   "source": []
  }
 ],
 "metadata": {
  "kernelspec": {
   "display_name": "Python 3 (ipykernel)",
   "language": "python",
   "name": "python3"
  },
  "language_info": {
   "codemirror_mode": {
    "name": "ipython",
    "version": 3
   },
   "file_extension": ".py",
   "mimetype": "text/x-python",
   "name": "python",
   "nbconvert_exporter": "python",
   "pygments_lexer": "ipython3",
   "version": "3.9.13"
  }
 },
 "nbformat": 4,
 "nbformat_minor": 5
}
