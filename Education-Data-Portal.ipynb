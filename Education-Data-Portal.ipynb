{
 "cells": [
  {
   "cell_type": "code",
   "execution_count": 39,
   "id": "49d79c58",
   "metadata": {},
   "outputs": [],
   "source": [
    "import pandas as pd\n",
    "import numpy as np\n",
    "import matplotlib.pyplot as plt\n",
    "import seaborn as sns\n",
    "import os"
   ]
  },
  {
   "cell_type": "markdown",
   "id": "da7e54ea",
   "metadata": {},
   "source": [
    "This endpoint contains school-level information on location, mailing addresses, school types, highest and lowest grades offered, and free and reduced-price lunch. This endpoint also contains the school-level data on the number of full-time eqivalent teachers.\n",
    "Source: The National Center for Education Statistics’ Common Core of Data (CCD)"
   ]
  },
  {
   "cell_type": "code",
   "execution_count": 70,
   "id": "28903197",
   "metadata": {},
   "outputs": [
    {
     "name": "stderr",
     "output_type": "stream",
     "text": [
      "/var/folders/q1/5l3sndps6dj6yrp14kddr27w0000gn/T/ipykernel_2792/765215910.py:1: DtypeWarning: Columns (7,8,9,11,12,13,14,15,17,50,51) have mixed types. Specify dtype option on import or set low_memory=False.\n",
      "  ccd_directory = pd.read_csv(\"schools_ccd_directory.csv\")\n"
     ]
    },
    {
     "data": {
      "text/html": [
       "<div>\n",
       "<style scoped>\n",
       "    .dataframe tbody tr th:only-of-type {\n",
       "        vertical-align: middle;\n",
       "    }\n",
       "\n",
       "    .dataframe tbody tr th {\n",
       "        vertical-align: top;\n",
       "    }\n",
       "\n",
       "    .dataframe thead th {\n",
       "        text-align: right;\n",
       "    }\n",
       "</style>\n",
       "<table border=\"1\" class=\"dataframe\">\n",
       "  <thead>\n",
       "    <tr style=\"text-align: right;\">\n",
       "      <th></th>\n",
       "      <th>year</th>\n",
       "      <th>ncessch</th>\n",
       "      <th>ncessch_num</th>\n",
       "      <th>school_id</th>\n",
       "      <th>school_name</th>\n",
       "      <th>leaid</th>\n",
       "      <th>lea_name</th>\n",
       "      <th>state_leaid</th>\n",
       "      <th>seasch</th>\n",
       "      <th>street_mailing</th>\n",
       "      <th>...</th>\n",
       "      <th>direct_certification</th>\n",
       "      <th>enrollment</th>\n",
       "      <th>ungrade_cedp</th>\n",
       "      <th>elem_cedp</th>\n",
       "      <th>middle_cedp</th>\n",
       "      <th>high_cedp</th>\n",
       "      <th>lunch_program</th>\n",
       "      <th>congress_district_id</th>\n",
       "      <th>state_leg_district_lower</th>\n",
       "      <th>state_leg_district_upper</th>\n",
       "    </tr>\n",
       "  </thead>\n",
       "  <tbody>\n",
       "    <tr>\n",
       "      <th>0</th>\n",
       "      <td>1986</td>\n",
       "      <td>10000201704</td>\n",
       "      <td>10000201704</td>\n",
       "      <td>1704.0</td>\n",
       "      <td>CHALKVILLE CAMPUS</td>\n",
       "      <td>100002.0</td>\n",
       "      <td>DEPARTMENT OF YOUTH SERVICES</td>\n",
       "      <td>210</td>\n",
       "      <td>0020</td>\n",
       "      <td>NaN</td>\n",
       "      <td>...</td>\n",
       "      <td>NaN</td>\n",
       "      <td>129.0</td>\n",
       "      <td>0</td>\n",
       "      <td>0</td>\n",
       "      <td>1</td>\n",
       "      <td>1</td>\n",
       "      <td>NaN</td>\n",
       "      <td>NaN</td>\n",
       "      <td>NaN</td>\n",
       "      <td>NaN</td>\n",
       "    </tr>\n",
       "    <tr>\n",
       "      <th>1</th>\n",
       "      <td>1986</td>\n",
       "      <td>10000201705</td>\n",
       "      <td>10000201705</td>\n",
       "      <td>1705.0</td>\n",
       "      <td>MT MEIGS CAMPUS</td>\n",
       "      <td>100002.0</td>\n",
       "      <td>DEPARTMENT OF YOUTH SERVICES</td>\n",
       "      <td>210</td>\n",
       "      <td>0030</td>\n",
       "      <td>NaN</td>\n",
       "      <td>...</td>\n",
       "      <td>NaN</td>\n",
       "      <td>193.0</td>\n",
       "      <td>0</td>\n",
       "      <td>0</td>\n",
       "      <td>1</td>\n",
       "      <td>1</td>\n",
       "      <td>NaN</td>\n",
       "      <td>NaN</td>\n",
       "      <td>NaN</td>\n",
       "      <td>NaN</td>\n",
       "    </tr>\n",
       "    <tr>\n",
       "      <th>2</th>\n",
       "      <td>1986</td>\n",
       "      <td>10000201706</td>\n",
       "      <td>10000201706</td>\n",
       "      <td>1706.0</td>\n",
       "      <td>VACCA CAMPUS</td>\n",
       "      <td>100002.0</td>\n",
       "      <td>DEPARTMENT OF YOUTH SERVICES</td>\n",
       "      <td>210</td>\n",
       "      <td>0040</td>\n",
       "      <td>NaN</td>\n",
       "      <td>...</td>\n",
       "      <td>NaN</td>\n",
       "      <td>162.0</td>\n",
       "      <td>0</td>\n",
       "      <td>0</td>\n",
       "      <td>1</td>\n",
       "      <td>1</td>\n",
       "      <td>NaN</td>\n",
       "      <td>NaN</td>\n",
       "      <td>NaN</td>\n",
       "      <td>NaN</td>\n",
       "    </tr>\n",
       "    <tr>\n",
       "      <th>3</th>\n",
       "      <td>1986</td>\n",
       "      <td>10000500870</td>\n",
       "      <td>10000500870</td>\n",
       "      <td>870.0</td>\n",
       "      <td>ALABAMA AVE MIDDLE SCH</td>\n",
       "      <td>100005.0</td>\n",
       "      <td>ALBERTVILLE CITY BOARD</td>\n",
       "      <td>101</td>\n",
       "      <td>0010</td>\n",
       "      <td>NaN</td>\n",
       "      <td>...</td>\n",
       "      <td>NaN</td>\n",
       "      <td>845.0</td>\n",
       "      <td>0</td>\n",
       "      <td>0</td>\n",
       "      <td>1</td>\n",
       "      <td>0</td>\n",
       "      <td>NaN</td>\n",
       "      <td>NaN</td>\n",
       "      <td>NaN</td>\n",
       "      <td>NaN</td>\n",
       "    </tr>\n",
       "    <tr>\n",
       "      <th>4</th>\n",
       "      <td>1986</td>\n",
       "      <td>10000500871</td>\n",
       "      <td>10000500871</td>\n",
       "      <td>871.0</td>\n",
       "      <td>ALBERTVILLE HIGH SCH</td>\n",
       "      <td>100005.0</td>\n",
       "      <td>ALBERTVILLE CITY BOARD</td>\n",
       "      <td>101</td>\n",
       "      <td>0020</td>\n",
       "      <td>NaN</td>\n",
       "      <td>...</td>\n",
       "      <td>NaN</td>\n",
       "      <td>1025.0</td>\n",
       "      <td>0</td>\n",
       "      <td>0</td>\n",
       "      <td>0</td>\n",
       "      <td>1</td>\n",
       "      <td>NaN</td>\n",
       "      <td>NaN</td>\n",
       "      <td>NaN</td>\n",
       "      <td>NaN</td>\n",
       "    </tr>\n",
       "  </tbody>\n",
       "</table>\n",
       "<p>5 rows × 52 columns</p>\n",
       "</div>"
      ],
      "text/plain": [
       "   year      ncessch  ncessch_num  school_id             school_name  \\\n",
       "0  1986  10000201704  10000201704     1704.0       CHALKVILLE CAMPUS   \n",
       "1  1986  10000201705  10000201705     1705.0         MT MEIGS CAMPUS   \n",
       "2  1986  10000201706  10000201706     1706.0            VACCA CAMPUS   \n",
       "3  1986  10000500870  10000500870      870.0  ALABAMA AVE MIDDLE SCH   \n",
       "4  1986  10000500871  10000500871      871.0    ALBERTVILLE HIGH SCH   \n",
       "\n",
       "      leaid                      lea_name state_leaid seasch street_mailing  \\\n",
       "0  100002.0  DEPARTMENT OF YOUTH SERVICES         210   0020            NaN   \n",
       "1  100002.0  DEPARTMENT OF YOUTH SERVICES         210   0030            NaN   \n",
       "2  100002.0  DEPARTMENT OF YOUTH SERVICES         210   0040            NaN   \n",
       "3  100005.0        ALBERTVILLE CITY BOARD         101   0010            NaN   \n",
       "4  100005.0        ALBERTVILLE CITY BOARD         101   0020            NaN   \n",
       "\n",
       "   ... direct_certification enrollment ungrade_cedp elem_cedp middle_cedp  \\\n",
       "0  ...                  NaN      129.0            0         0           1   \n",
       "1  ...                  NaN      193.0            0         0           1   \n",
       "2  ...                  NaN      162.0            0         0           1   \n",
       "3  ...                  NaN      845.0            0         0           1   \n",
       "4  ...                  NaN     1025.0            0         0           0   \n",
       "\n",
       "  high_cedp  lunch_program congress_district_id  state_leg_district_lower  \\\n",
       "0         1            NaN                  NaN                       NaN   \n",
       "1         1            NaN                  NaN                       NaN   \n",
       "2         1            NaN                  NaN                       NaN   \n",
       "3         0            NaN                  NaN                       NaN   \n",
       "4         1            NaN                  NaN                       NaN   \n",
       "\n",
       "   state_leg_district_upper  \n",
       "0                       NaN  \n",
       "1                       NaN  \n",
       "2                       NaN  \n",
       "3                       NaN  \n",
       "4                       NaN  \n",
       "\n",
       "[5 rows x 52 columns]"
      ]
     },
     "execution_count": 70,
     "metadata": {},
     "output_type": "execute_result"
    }
   ],
   "source": [
    "ccd_directory = pd.read_csv(\"schools_ccd_directory.csv\")\n",
    "ccd_directory.head()\n"
   ]
  },
  {
   "cell_type": "code",
   "execution_count": 78,
   "id": "3678f748",
   "metadata": {},
   "outputs": [
    {
     "data": {
      "text/plain": [
       "3381565"
      ]
     },
     "execution_count": 78,
     "metadata": {},
     "output_type": "execute_result"
    }
   ],
   "source": [
    "len(ccd_directory)"
   ]
  },
  {
   "cell_type": "markdown",
   "id": "281f1d7d",
   "metadata": {},
   "source": [
    "This endpoint contains student membership data for each school by grade. Only operational schools serving one or more grades are required to report membership and only these are included in this endpoint. Source: The Civil Rights Data Collection (CRDC)\n",
    "\n"
   ]
  },
  {
   "cell_type": "code",
   "execution_count": 71,
   "id": "b7dd04b2",
   "metadata": {},
   "outputs": [
    {
     "name": "stderr",
     "output_type": "stream",
     "text": [
      "/var/folders/q1/5l3sndps6dj6yrp14kddr27w0000gn/T/ipykernel_2792/3852495690.py:1: DtypeWarning: Columns (0,2,3,34) have mixed types. Specify dtype option on import or set low_memory=False.\n",
      "  crdc_directory = pd.read_csv(\"schools_crdc_school_characteristics.csv\")\n"
     ]
    },
    {
     "data": {
      "text/html": [
       "<div>\n",
       "<style scoped>\n",
       "    .dataframe tbody tr th:only-of-type {\n",
       "        vertical-align: middle;\n",
       "    }\n",
       "\n",
       "    .dataframe tbody tr th {\n",
       "        vertical-align: top;\n",
       "    }\n",
       "\n",
       "    .dataframe thead th {\n",
       "        text-align: right;\n",
       "    }\n",
       "</style>\n",
       "<table border=\"1\" class=\"dataframe\">\n",
       "  <thead>\n",
       "    <tr style=\"text-align: right;\">\n",
       "      <th></th>\n",
       "      <th>crdc_id</th>\n",
       "      <th>year</th>\n",
       "      <th>ncessch</th>\n",
       "      <th>leaid_crdc</th>\n",
       "      <th>fips</th>\n",
       "      <th>school_name_crdc</th>\n",
       "      <th>schoolid_crdc</th>\n",
       "      <th>lea_name</th>\n",
       "      <th>lea_state</th>\n",
       "      <th>prek</th>\n",
       "      <th>...</th>\n",
       "      <th>charter_crdc</th>\n",
       "      <th>magnet_crdc</th>\n",
       "      <th>entire_school_magnet</th>\n",
       "      <th>alt_school</th>\n",
       "      <th>alt_school_focus</th>\n",
       "      <th>ability_grouped_math_or_eng</th>\n",
       "      <th>ug_elementary_school</th>\n",
       "      <th>ug_middle_school</th>\n",
       "      <th>ug_high_school</th>\n",
       "      <th>leaid</th>\n",
       "    </tr>\n",
       "  </thead>\n",
       "  <tbody>\n",
       "    <tr>\n",
       "      <th>0</th>\n",
       "      <td>10000201705</td>\n",
       "      <td>2011</td>\n",
       "      <td>10000201705.0</td>\n",
       "      <td>100002</td>\n",
       "      <td>1</td>\n",
       "      <td>WALLACE SCH - MT MEIGS CAMPUS</td>\n",
       "      <td>1705</td>\n",
       "      <td>ALABAMA YOUTH SERVICES</td>\n",
       "      <td>AL</td>\n",
       "      <td>0</td>\n",
       "      <td>...</td>\n",
       "      <td>0</td>\n",
       "      <td>0</td>\n",
       "      <td>-2</td>\n",
       "      <td>0</td>\n",
       "      <td>-2.0</td>\n",
       "      <td>0.0</td>\n",
       "      <td>NaN</td>\n",
       "      <td>NaN</td>\n",
       "      <td>NaN</td>\n",
       "      <td>100002.0</td>\n",
       "    </tr>\n",
       "    <tr>\n",
       "      <th>1</th>\n",
       "      <td>10000201705</td>\n",
       "      <td>2013</td>\n",
       "      <td>10000201705.0</td>\n",
       "      <td>100002</td>\n",
       "      <td>1</td>\n",
       "      <td>WALLACE SCH - MT MEIGS CAMPUS</td>\n",
       "      <td>1705</td>\n",
       "      <td>ALABAMA YOUTH SERVICES</td>\n",
       "      <td>AL</td>\n",
       "      <td>0</td>\n",
       "      <td>...</td>\n",
       "      <td>0</td>\n",
       "      <td>0</td>\n",
       "      <td>-2</td>\n",
       "      <td>1</td>\n",
       "      <td>3.0</td>\n",
       "      <td>NaN</td>\n",
       "      <td>-2.0</td>\n",
       "      <td>-2.0</td>\n",
       "      <td>-2.0</td>\n",
       "      <td>100002.0</td>\n",
       "    </tr>\n",
       "    <tr>\n",
       "      <th>2</th>\n",
       "      <td>10000201705</td>\n",
       "      <td>2015</td>\n",
       "      <td>10000201705.0</td>\n",
       "      <td>100002</td>\n",
       "      <td>1</td>\n",
       "      <td>Wallace Sch - Mt Meigs Campus</td>\n",
       "      <td>1705</td>\n",
       "      <td>Alabama Youth Services</td>\n",
       "      <td>AL</td>\n",
       "      <td>0</td>\n",
       "      <td>...</td>\n",
       "      <td>0</td>\n",
       "      <td>0</td>\n",
       "      <td>-2</td>\n",
       "      <td>0</td>\n",
       "      <td>-2.0</td>\n",
       "      <td>NaN</td>\n",
       "      <td>0.0</td>\n",
       "      <td>0.0</td>\n",
       "      <td>1.0</td>\n",
       "      <td>100002.0</td>\n",
       "    </tr>\n",
       "    <tr>\n",
       "      <th>3</th>\n",
       "      <td>10000201705</td>\n",
       "      <td>2017</td>\n",
       "      <td>10000201705.0</td>\n",
       "      <td>100002</td>\n",
       "      <td>1</td>\n",
       "      <td>Wallace Sch - Mt Meigs Campus</td>\n",
       "      <td>1705</td>\n",
       "      <td>Alabama Youth Services</td>\n",
       "      <td>AL</td>\n",
       "      <td>0</td>\n",
       "      <td>...</td>\n",
       "      <td>0</td>\n",
       "      <td>0</td>\n",
       "      <td>-2</td>\n",
       "      <td>0</td>\n",
       "      <td>-2.0</td>\n",
       "      <td>NaN</td>\n",
       "      <td>-2.0</td>\n",
       "      <td>-2.0</td>\n",
       "      <td>-2.0</td>\n",
       "      <td>100002.0</td>\n",
       "    </tr>\n",
       "    <tr>\n",
       "      <th>4</th>\n",
       "      <td>10000201706</td>\n",
       "      <td>2011</td>\n",
       "      <td>10000201706.0</td>\n",
       "      <td>100002</td>\n",
       "      <td>1</td>\n",
       "      <td>MCNEEL SCH - VACCA CAMPUS</td>\n",
       "      <td>1706</td>\n",
       "      <td>ALABAMA YOUTH SERVICES</td>\n",
       "      <td>AL</td>\n",
       "      <td>0</td>\n",
       "      <td>...</td>\n",
       "      <td>0</td>\n",
       "      <td>0</td>\n",
       "      <td>-2</td>\n",
       "      <td>0</td>\n",
       "      <td>-2.0</td>\n",
       "      <td>0.0</td>\n",
       "      <td>NaN</td>\n",
       "      <td>NaN</td>\n",
       "      <td>NaN</td>\n",
       "      <td>100002.0</td>\n",
       "    </tr>\n",
       "  </tbody>\n",
       "</table>\n",
       "<p>5 rows × 35 columns</p>\n",
       "</div>"
      ],
      "text/plain": [
       "       crdc_id  year        ncessch leaid_crdc  fips  \\\n",
       "0  10000201705  2011  10000201705.0     100002     1   \n",
       "1  10000201705  2013  10000201705.0     100002     1   \n",
       "2  10000201705  2015  10000201705.0     100002     1   \n",
       "3  10000201705  2017  10000201705.0     100002     1   \n",
       "4  10000201706  2011  10000201706.0     100002     1   \n",
       "\n",
       "                school_name_crdc  schoolid_crdc                lea_name  \\\n",
       "0  WALLACE SCH - MT MEIGS CAMPUS           1705  ALABAMA YOUTH SERVICES   \n",
       "1  WALLACE SCH - MT MEIGS CAMPUS           1705  ALABAMA YOUTH SERVICES   \n",
       "2  Wallace Sch - Mt Meigs Campus           1705  Alabama Youth Services   \n",
       "3  Wallace Sch - Mt Meigs Campus           1705  Alabama Youth Services   \n",
       "4      MCNEEL SCH - VACCA CAMPUS           1706  ALABAMA YOUTH SERVICES   \n",
       "\n",
       "  lea_state  prek  ...  charter_crdc  magnet_crdc  entire_school_magnet  \\\n",
       "0        AL     0  ...             0            0                    -2   \n",
       "1        AL     0  ...             0            0                    -2   \n",
       "2        AL     0  ...             0            0                    -2   \n",
       "3        AL     0  ...             0            0                    -2   \n",
       "4        AL     0  ...             0            0                    -2   \n",
       "\n",
       "   alt_school  alt_school_focus  ability_grouped_math_or_eng  \\\n",
       "0           0              -2.0                          0.0   \n",
       "1           1               3.0                          NaN   \n",
       "2           0              -2.0                          NaN   \n",
       "3           0              -2.0                          NaN   \n",
       "4           0              -2.0                          0.0   \n",
       "\n",
       "   ug_elementary_school  ug_middle_school  ug_high_school     leaid  \n",
       "0                   NaN               NaN             NaN  100002.0  \n",
       "1                  -2.0              -2.0            -2.0  100002.0  \n",
       "2                   0.0               0.0             1.0  100002.0  \n",
       "3                  -2.0              -2.0            -2.0  100002.0  \n",
       "4                   NaN               NaN             NaN  100002.0  \n",
       "\n",
       "[5 rows x 35 columns]"
      ]
     },
     "execution_count": 71,
     "metadata": {},
     "output_type": "execute_result"
    }
   ],
   "source": [
    "crdc_directory = pd.read_csv(\"schools_crdc_school_characteristics.csv\")\n",
    "crdc_directory.head()"
   ]
  },
  {
   "cell_type": "code",
   "execution_count": 77,
   "id": "98e2b880",
   "metadata": {},
   "outputs": [
    {
     "data": {
      "text/plain": [
       "385134"
      ]
     },
     "execution_count": 77,
     "metadata": {},
     "output_type": "execute_result"
    }
   ],
   "source": [
    "len(crdc_directory)"
   ]
  },
  {
   "cell_type": "code",
   "execution_count": null,
   "id": "a6bd8ab3",
   "metadata": {
    "scrolled": true
   },
   "outputs": [],
   "source": [
    "#The two directories are from two different sources.We need to merge the two datasets. \n",
    "ccd_crdc_directory = pd.merge(crdc_directory,ccd_directory, on = \"year\")\n",
    "ccd_crdc_directory"
   ]
  },
  {
   "cell_type": "code",
   "execution_count": 84,
   "id": "5dcf0478",
   "metadata": {},
   "outputs": [
    {
     "data": {
      "text/plain": [
       "<AxesSubplot:>"
      ]
     },
     "execution_count": 84,
     "metadata": {},
     "output_type": "execute_result"
    },
    {
     "data": {
      "image/png": "[encoded data removed]",
      "text/plain": [
       "<Figure size 432x288 with 1 Axes>"
      ]
     },
     "metadata": {
      "needs_background": "light"
     },
     "output_type": "display_data"
    }
   ],
   "source": [
    "ccd_crdc_directory[1].hist()"
   ]
  },
  {
   "cell_type": "code",
   "execution_count": 8,
   "id": "12ad5133",
   "metadata": {},
   "outputs": [],
   "source": [
    "from urllib.request import urlopen\n",
    "from json import loads\n",
    "url = \"https://educationdata.urban.org/api/v1/schools/ccd/enrollment/2014/grade-8/\"\n",
    "response = urlopen(url)\n",
    "ccd_enrolment = loads(response.read())"
   ]
  },
  {
   "cell_type": "code",
   "execution_count": 10,
   "id": "5d71463a",
   "metadata": {},
   "outputs": [],
   "source": [
    "from urllib.request import urlopen\n",
    "from json import loads\n",
    "url = \"https://educationdata.urban.org/api/v1/schools/crdc/enrollment/2013/race/sex/\"\n",
    "response = urlopen(url)\n",
    "crdc_enrolment = loads(response.read())"
   ]
  },
  {
   "cell_type": "code",
   "execution_count": 11,
   "id": "fc22cbf0",
   "metadata": {},
   "outputs": [],
   "source": [
    "from urllib.request import urlopen\n",
    "from json import loads\n",
    "url = \"https://educationdata.urban.org/api/v1/schools/crdc/discipline/2013/disability/sex/\"\n",
    "response = urlopen(url)\n",
    "crdc_dicipline = loads(response.read())"
   ]
  },
  {
   "cell_type": "code",
   "execution_count": 12,
   "id": "3f335f97",
   "metadata": {},
   "outputs": [],
   "source": [
    "from urllib.request import urlopen\n",
    "from json import loads\n",
    "url = \"https://educationdata.urban.org/api/v1/schools/crdc/harassment-or-bullying/2015/allegations/\"\n",
    "response = urlopen(url)\n",
    "crdc_harassment = loads(response.read())"
   ]
  },
  {
   "cell_type": "code",
   "execution_count": 13,
   "id": "a333890e",
   "metadata": {},
   "outputs": [],
   "source": [
    "from urllib.request import urlopen\n",
    "from json import loads\n",
    "url = \"https://educationdata.urban.org/api/v1/schools/crdc/chronic-absenteeism/2013/race/sex/\"\n",
    "response = urlopen(url)\n",
    "crdc_absenteeism = loads(response.read())"
   ]
  },
  {
   "cell_type": "code",
   "execution_count": 14,
   "id": "c27fabd0",
   "metadata": {},
   "outputs": [],
   "source": [
    "from urllib.request import urlopen\n",
    "from json import loads\n",
    "url = \"https://educationdata.urban.org/api/v1/schools/crdc/restraint-and-seclusion/2015/instances/\"\n",
    "response = urlopen(url)\n",
    "crdc_restraint = loads(response.read())"
   ]
  },
  {
   "cell_type": "code",
   "execution_count": 15,
   "id": "8977c0c2",
   "metadata": {},
   "outputs": [],
   "source": [
    "from urllib.request import urlopen\n",
    "from json import loads\n",
    "url = \"https://educationdata.urban.org/api/v1/schools/crdc/ap-ib-enrollment/2013/race/sex/\"\n",
    "response = urlopen(url)\n",
    "crdc_ap_enrolment = loads(response.read())"
   ]
  },
  {
   "cell_type": "code",
   "execution_count": 16,
   "id": "2ee826e0",
   "metadata": {},
   "outputs": [],
   "source": [
    "from urllib.request import urlopen\n",
    "from json import loads\n",
    "url = \"https://educationdata.urban.org/api/v1/schools/crdc/ap-exams/2013/race/sex/\"\n",
    "response = urlopen(url)\n",
    "crdc_ap_exam = loads(response.read())"
   ]
  },
  {
   "cell_type": "code",
   "execution_count": 17,
   "id": "b3dd5772",
   "metadata": {},
   "outputs": [],
   "source": [
    "from urllib.request import urlopen\n",
    "from json import loads\n",
    "url = \"https://educationdata.urban.org/api/v1/schools/crdc/sat-act-participation/2013/race/sex/\"\n",
    "response = urlopen(url)\n",
    "crdc_sat_participation = loads(response.read())"
   ]
  },
  {
   "cell_type": "code",
   "execution_count": 18,
   "id": "48dabc3a",
   "metadata": {},
   "outputs": [],
   "source": [
    "from urllib.request import urlopen\n",
    "from json import loads\n",
    "url = \"https://educationdata.urban.org/api/v1/schools/crdc/teachers-staff/2015/\"\n",
    "response = urlopen(url)\n",
    "crdc_teachers = loads(response.read())"
   ]
  },
  {
   "cell_type": "code",
   "execution_count": 20,
   "id": "bfa9944a",
   "metadata": {},
   "outputs": [],
   "source": [
    "from urllib.request import urlopen\n",
    "from json import loads\n",
    "url = \"https://educationdata.urban.org/api/v1/schools/crdc/math-and-science/2017/race/sex/\"\n",
    "response = urlopen(url)\n",
    "crdc_mathscience_enrollment = loads(response.read())"
   ]
  },
  {
   "cell_type": "code",
   "execution_count": 21,
   "id": "95450292",
   "metadata": {},
   "outputs": [],
   "source": [
    "from urllib.request import urlopen\n",
    "from json import loads\n",
    "url = \"https://educationdata.urban.org/api/v1/schools/crdc/algebra1/2017/race/sex/\"\n",
    "response = urlopen(url)\n",
    "crdc_algebra = loads(response.read())\n"
   ]
  },
  {
   "cell_type": "code",
   "execution_count": 22,
   "id": "edc93a22",
   "metadata": {},
   "outputs": [],
   "source": [
    "from urllib.request import urlopen\n",
    "from json import loads\n",
    "url = \"https://educationdata.urban.org/api/v1/schools/crdc/dual-enrollment/2017/race/sex\"\n",
    "response = urlopen(url)\n",
    "crdc_dual_enrollment = loads(response.read())"
   ]
  },
  {
   "cell_type": "code",
   "execution_count": 23,
   "id": "240aae86",
   "metadata": {},
   "outputs": [],
   "source": [
    "from urllib.request import urlopen\n",
    "from json import loads\n",
    "url = \"https://educationdata.urban.org/api/v1/schools/crdc/suspensions-days/2017/race/sex\"\n",
    "response = urlopen(url)\n",
    "crdc_suspensions = loads(response.read())"
   ]
  },
  {
   "cell_type": "code",
   "execution_count": 24,
   "id": "654a77d9",
   "metadata": {},
   "outputs": [],
   "source": [
    "from urllib.request import urlopen\n",
    "from json import loads\n",
    "url = \"https://educationdata.urban.org/api/v1/schools/crdc/offerings/2017/\"\n",
    "response = urlopen(url)\n",
    "crdc_offerings = loads(response.read())"
   ]
  },
  {
   "cell_type": "code",
   "execution_count": 25,
   "id": "6dfd3036",
   "metadata": {},
   "outputs": [],
   "source": [
    "from urllib.request import urlopen\n",
    "from json import loads\n",
    "url = \"https://educationdata.urban.org/api/v1/schools/crdc/school-finance/2017/\"\n",
    "response = urlopen(url)\n",
    "crdc_school_finance = loads(response.read())"
   ]
  },
  {
   "cell_type": "code",
   "execution_count": 26,
   "id": "d5739115",
   "metadata": {},
   "outputs": [],
   "source": [
    "from urllib.request import urlopen\n",
    "from json import loads\n",
    "url = \"https://educationdata.urban.org/api/v1/schools/crdc/retention/2017/grade-3/race/sex\"\n",
    "response = urlopen(url)\n",
    "crdc_retention = loads(response.read())"
   ]
  },
  {
   "cell_type": "code",
   "execution_count": 28,
   "id": "6e2033e0",
   "metadata": {},
   "outputs": [],
   "source": [
    "from urllib.request import urlopen\n",
    "from json import loads\n",
    "url = \"https://educationdata.urban.org/api/v1/schools/edfacts/assessments/2014/grade-8/\"\n",
    "response = urlopen(url)\n",
    "edfact_assessment = loads(response.read())\n"
   ]
  },
  {
   "cell_type": "code",
   "execution_count": 29,
   "id": "76996fc4",
   "metadata": {},
   "outputs": [],
   "source": [
    "from urllib.request import urlopen\n",
    "from json import loads\n",
    "url = \"https://educationdata.urban.org/api/v1/schools/edfacts/grad-rates/2014/\"\n",
    "response = urlopen(url)\n",
    "edfact_grad_rate = loads(response.read())"
   ]
  },
  {
   "cell_type": "code",
   "execution_count": 30,
   "id": "85cda47f",
   "metadata": {},
   "outputs": [],
   "source": [
    "from urllib.request import urlopen\n",
    "from json import loads\n",
    "url = \"https://educationdata.urban.org/api/v1/schools/nhgis/census-2010/2016/\"\n",
    "response = urlopen(url)\n",
    "nhgis_geografy = loads(response.read())"
   ]
  },
  {
   "cell_type": "code",
   "execution_count": null,
   "id": "76278846",
   "metadata": {},
   "outputs": [],
   "source": []
  }
 ],
 "metadata": {
  "kernelspec": {
   "display_name": "Python 3 (ipykernel)",
   "language": "python",
   "name": "python3"
  },
  "language_info": {
   "codemirror_mode": {
    "name": "ipython",
    "version": 3
   },
   "file_extension": ".py",
   "mimetype": "text/x-python",
   "name": "python",
   "nbconvert_exporter": "python",
   "pygments_lexer": "ipython3",
   "version": "3.9.12"
  }
 },
 "nbformat": 4,
 "nbformat_minor": 5
}
