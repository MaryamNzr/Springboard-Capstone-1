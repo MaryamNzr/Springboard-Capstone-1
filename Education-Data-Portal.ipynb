{
 "cells": [
  {
   "cell_type": "code",
   "execution_count": 98,
   "id": "49d79c58",
   "metadata": {},
   "outputs": [],
   "source": [
    "import pandas as pd\n",
    "import numpy as np\n",
    "import matplotlib.pyplot as plt\n",
    "import seaborn as sns\n",
    "import os\n"
   ]
  },
  {
   "cell_type": "markdown",
   "id": "22dcacc5",
   "metadata": {},
   "source": [
    "#This Directory contains school-level information on location, mailing addresses, school types, highest and lowest grades offered, and free and reduced-price lunch. This endpoint also contains the school-level data on the number of full-time eqivalent teachers."
   ]
  },
  {
   "cell_type": "code",
   "execution_count": 99,
   "id": "12ad5133",
   "metadata": {},
   "outputs": [],
   "source": [
    "from urllib.request import urlopen\n",
    "from json import loads\n",
    "url = \"https://educationdata.urban.org/api/v1/schools/ccd/directory/1988/\"\n",
    "response = urlopen(url)\n",
    "data = loads(response.read())"
   ]
  },
  {
   "cell_type": "code",
   "execution_count": 100,
   "id": "5d71463a",
   "metadata": {},
   "outputs": [
    {
     "data": {
      "text/plain": [
       "dict_keys(['count', 'next', 'previous', 'results'])"
      ]
     },
     "execution_count": 100,
     "metadata": {},
     "output_type": "execute_result"
    }
   ],
   "source": [
    "data.keys()"
   ]
  },
  {
   "cell_type": "code",
   "execution_count": 101,
   "id": "fc22cbf0",
   "metadata": {},
   "outputs": [],
   "source": [
    "CCDdirectory=pd.DataFrame(data)"
   ]
  },
  {
   "cell_type": "code",
   "execution_count": 110,
   "id": "c27fabd0",
   "metadata": {},
   "outputs": [
    {
     "data": {
      "text/html": [
       "<div>\n",
       "<style scoped>\n",
       "    .dataframe tbody tr th:only-of-type {\n",
       "        vertical-align: middle;\n",
       "    }\n",
       "\n",
       "    .dataframe tbody tr th {\n",
       "        vertical-align: top;\n",
       "    }\n",
       "\n",
       "    .dataframe thead th {\n",
       "        text-align: right;\n",
       "    }\n",
       "</style>\n",
       "<table border=\"1\" class=\"dataframe\">\n",
       "  <thead>\n",
       "    <tr style=\"text-align: right;\">\n",
       "      <th></th>\n",
       "      <th>count</th>\n",
       "      <th>next</th>\n",
       "      <th>previous</th>\n",
       "      <th>results</th>\n",
       "    </tr>\n",
       "  </thead>\n",
       "  <tbody>\n",
       "    <tr>\n",
       "      <th>0</th>\n",
       "      <td>84968</td>\n",
       "      <td>https://educationdata.urban.org/api/v1/schools...</td>\n",
       "      <td>None</td>\n",
       "      <td>{'year': 1988, 'ncessch': '010000201704', 'sch...</td>\n",
       "    </tr>\n",
       "    <tr>\n",
       "      <th>1</th>\n",
       "      <td>84968</td>\n",
       "      <td>https://educationdata.urban.org/api/v1/schools...</td>\n",
       "      <td>None</td>\n",
       "      <td>{'year': 1988, 'ncessch': '010000201705', 'sch...</td>\n",
       "    </tr>\n",
       "    <tr>\n",
       "      <th>2</th>\n",
       "      <td>84968</td>\n",
       "      <td>https://educationdata.urban.org/api/v1/schools...</td>\n",
       "      <td>None</td>\n",
       "      <td>{'year': 1988, 'ncessch': '010000201706', 'sch...</td>\n",
       "    </tr>\n",
       "    <tr>\n",
       "      <th>3</th>\n",
       "      <td>84968</td>\n",
       "      <td>https://educationdata.urban.org/api/v1/schools...</td>\n",
       "      <td>None</td>\n",
       "      <td>{'year': 1988, 'ncessch': '010000500870', 'sch...</td>\n",
       "    </tr>\n",
       "    <tr>\n",
       "      <th>4</th>\n",
       "      <td>84968</td>\n",
       "      <td>https://educationdata.urban.org/api/v1/schools...</td>\n",
       "      <td>None</td>\n",
       "      <td>{'year': 1988, 'ncessch': '010000500871', 'sch...</td>\n",
       "    </tr>\n",
       "  </tbody>\n",
       "</table>\n",
       "</div>"
      ],
      "text/plain": [
       "   count                                               next previous  \\\n",
       "0  84968  https://educationdata.urban.org/api/v1/schools...     None   \n",
       "1  84968  https://educationdata.urban.org/api/v1/schools...     None   \n",
       "2  84968  https://educationdata.urban.org/api/v1/schools...     None   \n",
       "3  84968  https://educationdata.urban.org/api/v1/schools...     None   \n",
       "4  84968  https://educationdata.urban.org/api/v1/schools...     None   \n",
       "\n",
       "                                             results  \n",
       "0  {'year': 1988, 'ncessch': '010000201704', 'sch...  \n",
       "1  {'year': 1988, 'ncessch': '010000201705', 'sch...  \n",
       "2  {'year': 1988, 'ncessch': '010000201706', 'sch...  \n",
       "3  {'year': 1988, 'ncessch': '010000500870', 'sch...  \n",
       "4  {'year': 1988, 'ncessch': '010000500871', 'sch...  "
      ]
     },
     "execution_count": 110,
     "metadata": {},
     "output_type": "execute_result"
    }
   ],
   "source": [
    "CCDdirectory.head()"
   ]
  },
  {
   "cell_type": "code",
   "execution_count": 1,
   "id": "8977c0c2",
   "metadata": {},
   "outputs": [
    {
     "ename": "NameError",
     "evalue": "name 'CCDdirectory' is not defined",
     "output_type": "error",
     "traceback": [
      "\u001b[0;31m---------------------------------------------------------------------------\u001b[0m",
      "\u001b[0;31mNameError\u001b[0m                                 Traceback (most recent call last)",
      "Input \u001b[0;32mIn [1]\u001b[0m, in \u001b[0;36m<cell line: 1>\u001b[0;34m()\u001b[0m\n\u001b[0;32m----> 1\u001b[0m \u001b[38;5;28mprint\u001b[39m(\u001b[43mCCDdirectory\u001b[49m[\u001b[38;5;124m\"\u001b[39m\u001b[38;5;124mresults\u001b[39m\u001b[38;5;124m\"\u001b[39m])\n",
      "\u001b[0;31mNameError\u001b[0m: name 'CCDdirectory' is not defined"
     ]
    }
   ],
   "source": [
    "print(CCDdirectory[\"results\"])"
   ]
  },
  {
   "cell_type": "code",
   "execution_count": 147,
   "id": "2ee826e0",
   "metadata": {},
   "outputs": [
    {
     "data": {
      "text/plain": [
       "{'year': 1988,\n",
       " 'ncessch': '010000201705',\n",
       " 'school_id': '01705',\n",
       " 'school_name': 'MT MEIGS CAMPUS - WALLACE',\n",
       " 'leaid': '0100002',\n",
       " 'lea_name': 'ALABAMA YOUTH SERVICES',\n",
       " 'state_leaid': '210',\n",
       " 'seasch': '0030',\n",
       " 'street_mailing': 'P O BOX 66',\n",
       " 'city_mailing': 'MOUNT MEIGS',\n",
       " 'state_mailing': '',\n",
       " 'zip_mailing': '36057',\n",
       " 'street_location': '',\n",
       " 'city_location': '',\n",
       " 'state_location': '',\n",
       " 'zip_location': '',\n",
       " 'phone': '2052729100',\n",
       " 'fips': 1,\n",
       " 'latitude': None,\n",
       " 'longitude': None,\n",
       " 'csa': None,\n",
       " 'cbsa': None,\n",
       " 'urban_centric_locale': 7,\n",
       " 'county_code': None,\n",
       " 'school_level': None,\n",
       " 'school_type': 4,\n",
       " 'school_status': 1,\n",
       " 'lowest_grade_offered': 7,\n",
       " 'highest_grade_offered': 12,\n",
       " 'bureau_indian_education': None,\n",
       " 'title_i_status': None,\n",
       " 'title_i_eligible': None,\n",
       " 'title_i_schoolwide': None,\n",
       " 'charter': None,\n",
       " 'magnet': None,\n",
       " 'shared_time': None,\n",
       " 'virtual': None,\n",
       " 'teachers_fte': 32,\n",
       " 'free_lunch': None,\n",
       " 'reduced_price_lunch': None,\n",
       " 'free_or_reduced_price_lunch': None,\n",
       " 'elem_cedp': 0,\n",
       " 'high_cedp': 1,\n",
       " 'middle_cedp': 1,\n",
       " 'ungrade_cedp': 0,\n",
       " 'enrollment': 182,\n",
       " 'state_leg_district_lower': '',\n",
       " 'state_leg_district_upper': '',\n",
       " 'ncessch_num': 10000201705,\n",
       " 'congress_district_id': None,\n",
       " 'direct_certification': None,\n",
       " 'lunch_program': None}"
      ]
     },
     "execution_count": 147,
     "metadata": {},
     "output_type": "execute_result"
    }
   ],
   "source": [
    "CCDdirectory[\"results\"][1]"
   ]
  },
  {
   "cell_type": "code",
   "execution_count": 142,
   "id": "b3dd5772",
   "metadata": {},
   "outputs": [],
   "source": [
    "results=pd.DataFrame(CCDdirectory[\"results\"])"
   ]
  },
  {
   "cell_type": "code",
   "execution_count": 144,
   "id": "48dabc3a",
   "metadata": {},
   "outputs": [
    {
     "name": "stdout",
     "output_type": "stream",
     "text": [
      "<class 'pandas.core.frame.DataFrame'>\n",
      "RangeIndex: 10000 entries, 0 to 9999\n",
      "Data columns (total 1 columns):\n",
      " #   Column   Non-Null Count  Dtype \n",
      "---  ------   --------------  ----- \n",
      " 0   results  10000 non-null  object\n",
      "dtypes: object(1)\n",
      "memory usage: 78.2+ KB\n"
     ]
    }
   ],
   "source": [
    "results.info()"
   ]
  },
  {
   "cell_type": "markdown",
   "id": "162711c4",
   "metadata": {},
   "source": [
    "From directory, the following variables are important free_or_reduced_price_lunch, name of schools, and states, school type, year, grade level"
   ]
  },
  {
   "cell_type": "code",
   "execution_count": 104,
   "id": "bfa9944a",
   "metadata": {},
   "outputs": [],
   "source": [
    "from urllib.request import urlopen\n",
    "from json import loads\n",
    "url = \"https://educationdata.urban.org/api/v1/schools/ccd/enrollment/2012/grade-5/sex\"\n",
    "response = urlopen(url)\n",
    "EnrollmentBygradeandsex = loads(response.read())"
   ]
  },
  {
   "cell_type": "code",
   "execution_count": 105,
   "id": "95450292",
   "metadata": {},
   "outputs": [],
   "source": [
    "EnrollmentBygradeandsex=pd.DataFrame(EnrollmentBygradeandsex)"
   ]
  },
  {
   "cell_type": "code",
   "execution_count": 106,
   "id": "edc93a22",
   "metadata": {},
   "outputs": [
    {
     "data": {
      "text/html": [
       "<div>\n",
       "<style scoped>\n",
       "    .dataframe tbody tr th:only-of-type {\n",
       "        vertical-align: middle;\n",
       "    }\n",
       "\n",
       "    .dataframe tbody tr th {\n",
       "        vertical-align: top;\n",
       "    }\n",
       "\n",
       "    .dataframe thead th {\n",
       "        text-align: right;\n",
       "    }\n",
       "</style>\n",
       "<table border=\"1\" class=\"dataframe\">\n",
       "  <thead>\n",
       "    <tr style=\"text-align: right;\">\n",
       "      <th></th>\n",
       "      <th>count</th>\n",
       "      <th>next</th>\n",
       "      <th>previous</th>\n",
       "      <th>results</th>\n",
       "    </tr>\n",
       "  </thead>\n",
       "  <tbody>\n",
       "    <tr>\n",
       "      <th>0</th>\n",
       "      <td>159039</td>\n",
       "      <td>https://educationdata.urban.org/api/v1/schools...</td>\n",
       "      <td>None</td>\n",
       "      <td>{'year': 2012, 'ncessch': '010000201402', 'nce...</td>\n",
       "    </tr>\n",
       "    <tr>\n",
       "      <th>1</th>\n",
       "      <td>159039</td>\n",
       "      <td>https://educationdata.urban.org/api/v1/schools...</td>\n",
       "      <td>None</td>\n",
       "      <td>{'year': 2012, 'ncessch': '010000500879', 'nce...</td>\n",
       "    </tr>\n",
       "    <tr>\n",
       "      <th>2</th>\n",
       "      <td>159039</td>\n",
       "      <td>https://educationdata.urban.org/api/v1/schools...</td>\n",
       "      <td>None</td>\n",
       "      <td>{'year': 2012, 'ncessch': '010000600193', 'nce...</td>\n",
       "    </tr>\n",
       "    <tr>\n",
       "      <th>3</th>\n",
       "      <td>159039</td>\n",
       "      <td>https://educationdata.urban.org/api/v1/schools...</td>\n",
       "      <td>None</td>\n",
       "      <td>{'year': 2012, 'ncessch': '010000600872', 'nce...</td>\n",
       "    </tr>\n",
       "    <tr>\n",
       "      <th>4</th>\n",
       "      <td>159039</td>\n",
       "      <td>https://educationdata.urban.org/api/v1/schools...</td>\n",
       "      <td>None</td>\n",
       "      <td>{'year': 2012, 'ncessch': '010000600876', 'nce...</td>\n",
       "    </tr>\n",
       "  </tbody>\n",
       "</table>\n",
       "</div>"
      ],
      "text/plain": [
       "    count                                               next previous  \\\n",
       "0  159039  https://educationdata.urban.org/api/v1/schools...     None   \n",
       "1  159039  https://educationdata.urban.org/api/v1/schools...     None   \n",
       "2  159039  https://educationdata.urban.org/api/v1/schools...     None   \n",
       "3  159039  https://educationdata.urban.org/api/v1/schools...     None   \n",
       "4  159039  https://educationdata.urban.org/api/v1/schools...     None   \n",
       "\n",
       "                                             results  \n",
       "0  {'year': 2012, 'ncessch': '010000201402', 'nce...  \n",
       "1  {'year': 2012, 'ncessch': '010000500879', 'nce...  \n",
       "2  {'year': 2012, 'ncessch': '010000600193', 'nce...  \n",
       "3  {'year': 2012, 'ncessch': '010000600872', 'nce...  \n",
       "4  {'year': 2012, 'ncessch': '010000600876', 'nce...  "
      ]
     },
     "execution_count": 106,
     "metadata": {},
     "output_type": "execute_result"
    }
   ],
   "source": [
    "EnrollmentBygradeandsex.head()"
   ]
  },
  {
   "cell_type": "code",
   "execution_count": 107,
   "id": "240aae86",
   "metadata": {},
   "outputs": [
    {
     "data": {
      "text/plain": [
       "{'year': 2012,\n",
       " 'ncessch': '010000500879',\n",
       " 'ncessch_num': 10000500879,\n",
       " 'grade': 5,\n",
       " 'race': 99,\n",
       " 'sex': 1,\n",
       " 'enrollment': 148,\n",
       " 'fips': 1,\n",
       " 'leaid': '100005'}"
      ]
     },
     "execution_count": 107,
     "metadata": {},
     "output_type": "execute_result"
    }
   ],
   "source": [
    "EnrollmentBygradeandsex[\"results\"][1]"
   ]
  },
  {
   "cell_type": "markdown",
   "id": "631caea0",
   "metadata": {},
   "source": [
    "#There are overlap data in EnrollmentBygrade, EnrollmentBygradeandrace and EnrollmentBygradeandsex datasets."
   ]
  },
  {
   "cell_type": "code",
   "execution_count": 108,
   "id": "654a77d9",
   "metadata": {},
   "outputs": [],
   "source": [
    "from urllib.request import urlopen\n",
    "from json import loads\n",
    "url = \"https://educationdata.urban.org/api/v1/schools/ccd/enrollment/2007/grade-6/race/sex/\"\n",
    "response = urlopen(url)\n",
    "EnrollmentBygradesexrace = loads(response.read())"
   ]
  },
  {
   "cell_type": "code",
   "execution_count": 109,
   "id": "6dfd3036",
   "metadata": {},
   "outputs": [],
   "source": [
    "EnrollmentBygradesexrace=pd.DataFrame(EnrollmentBygradesexrace)"
   ]
  },
  {
   "cell_type": "code",
   "execution_count": 97,
   "id": "d5739115",
   "metadata": {},
   "outputs": [
    {
     "data": {
      "text/html": [
       "<div>\n",
       "<style scoped>\n",
       "    .dataframe tbody tr th:only-of-type {\n",
       "        vertical-align: middle;\n",
       "    }\n",
       "\n",
       "    .dataframe tbody tr th {\n",
       "        vertical-align: top;\n",
       "    }\n",
       "\n",
       "    .dataframe thead th {\n",
       "        text-align: right;\n",
       "    }\n",
       "</style>\n",
       "<table border=\"1\" class=\"dataframe\">\n",
       "  <thead>\n",
       "    <tr style=\"text-align: right;\">\n",
       "      <th></th>\n",
       "      <th>count</th>\n",
       "      <th>next</th>\n",
       "      <th>previous</th>\n",
       "      <th>results</th>\n",
       "    </tr>\n",
       "  </thead>\n",
       "  <tbody>\n",
       "    <tr>\n",
       "      <th>0</th>\n",
       "      <td>705582</td>\n",
       "      <td>https://educationdata.urban.org/api/v1/schools...</td>\n",
       "      <td>None</td>\n",
       "      <td>{'year': 2007, 'ncessch': '100000600017', 'nce...</td>\n",
       "    </tr>\n",
       "    <tr>\n",
       "      <th>1</th>\n",
       "      <td>705582</td>\n",
       "      <td>https://educationdata.urban.org/api/v1/schools...</td>\n",
       "      <td>None</td>\n",
       "      <td>{'year': 2007, 'ncessch': '100000600017', 'nce...</td>\n",
       "    </tr>\n",
       "    <tr>\n",
       "      <th>2</th>\n",
       "      <td>705582</td>\n",
       "      <td>https://educationdata.urban.org/api/v1/schools...</td>\n",
       "      <td>None</td>\n",
       "      <td>{'year': 2007, 'ncessch': '100000600017', 'nce...</td>\n",
       "    </tr>\n",
       "    <tr>\n",
       "      <th>3</th>\n",
       "      <td>705582</td>\n",
       "      <td>https://educationdata.urban.org/api/v1/schools...</td>\n",
       "      <td>None</td>\n",
       "      <td>{'year': 2007, 'ncessch': '100000600017', 'nce...</td>\n",
       "    </tr>\n",
       "    <tr>\n",
       "      <th>4</th>\n",
       "      <td>705582</td>\n",
       "      <td>https://educationdata.urban.org/api/v1/schools...</td>\n",
       "      <td>None</td>\n",
       "      <td>{'year': 2007, 'ncessch': '100000600017', 'nce...</td>\n",
       "    </tr>\n",
       "  </tbody>\n",
       "</table>\n",
       "</div>"
      ],
      "text/plain": [
       "    count                                               next previous  \\\n",
       "0  705582  https://educationdata.urban.org/api/v1/schools...     None   \n",
       "1  705582  https://educationdata.urban.org/api/v1/schools...     None   \n",
       "2  705582  https://educationdata.urban.org/api/v1/schools...     None   \n",
       "3  705582  https://educationdata.urban.org/api/v1/schools...     None   \n",
       "4  705582  https://educationdata.urban.org/api/v1/schools...     None   \n",
       "\n",
       "                                             results  \n",
       "0  {'year': 2007, 'ncessch': '100000600017', 'nce...  \n",
       "1  {'year': 2007, 'ncessch': '100000600017', 'nce...  \n",
       "2  {'year': 2007, 'ncessch': '100000600017', 'nce...  \n",
       "3  {'year': 2007, 'ncessch': '100000600017', 'nce...  \n",
       "4  {'year': 2007, 'ncessch': '100000600017', 'nce...  "
      ]
     },
     "execution_count": 97,
     "metadata": {},
     "output_type": "execute_result"
    }
   ],
   "source": [
    "EnrollmentBygradesexrace.head()"
   ]
  },
  {
   "cell_type": "markdown",
   "id": "a03dfd2c",
   "metadata": {},
   "source": [
    "#There are overlap data in EnrollmentBygrade, EnrollmentBygradeandrace and EnrollmentBygradeandsex and EnrollmentBygradesexrace datasets"
   ]
  },
  {
   "cell_type": "code",
   "execution_count": 112,
   "id": "6e2033e0",
   "metadata": {},
   "outputs": [],
   "source": [
    "#CRDCdirectory\n",
    "from urllib.request import urlopen\n",
    "from json import loads\n",
    "url = \"https://educationdata.urban.org/api/v1/schools/crdc/directory/2013/\"\n",
    "response = urlopen(url)\n",
    "CRDCdirectory = loads(response.read())"
   ]
  },
  {
   "cell_type": "code",
   "execution_count": 113,
   "id": "76996fc4",
   "metadata": {},
   "outputs": [],
   "source": [
    "CRDCdirectory=pd.DataFrame(CRDCdirectory)"
   ]
  },
  {
   "cell_type": "code",
   "execution_count": 114,
   "id": "85cda47f",
   "metadata": {},
   "outputs": [
    {
     "data": {
      "text/html": [
       "<div>\n",
       "<style scoped>\n",
       "    .dataframe tbody tr th:only-of-type {\n",
       "        vertical-align: middle;\n",
       "    }\n",
       "\n",
       "    .dataframe tbody tr th {\n",
       "        vertical-align: top;\n",
       "    }\n",
       "\n",
       "    .dataframe thead th {\n",
       "        text-align: right;\n",
       "    }\n",
       "</style>\n",
       "<table border=\"1\" class=\"dataframe\">\n",
       "  <thead>\n",
       "    <tr style=\"text-align: right;\">\n",
       "      <th></th>\n",
       "      <th>count</th>\n",
       "      <th>next</th>\n",
       "      <th>previous</th>\n",
       "      <th>results</th>\n",
       "    </tr>\n",
       "  </thead>\n",
       "  <tbody>\n",
       "    <tr>\n",
       "      <th>0</th>\n",
       "      <td>95507</td>\n",
       "      <td>https://educationdata.urban.org/api/v1/schools...</td>\n",
       "      <td>None</td>\n",
       "      <td>{'crdc_id': '010000201705', 'year': 2013, 'fip...</td>\n",
       "    </tr>\n",
       "    <tr>\n",
       "      <th>1</th>\n",
       "      <td>95507</td>\n",
       "      <td>https://educationdata.urban.org/api/v1/schools...</td>\n",
       "      <td>None</td>\n",
       "      <td>{'crdc_id': '010000201706', 'year': 2013, 'fip...</td>\n",
       "    </tr>\n",
       "    <tr>\n",
       "      <th>2</th>\n",
       "      <td>95507</td>\n",
       "      <td>https://educationdata.urban.org/api/v1/schools...</td>\n",
       "      <td>None</td>\n",
       "      <td>{'crdc_id': '010000299995', 'year': 2013, 'fip...</td>\n",
       "    </tr>\n",
       "    <tr>\n",
       "      <th>3</th>\n",
       "      <td>95507</td>\n",
       "      <td>https://educationdata.urban.org/api/v1/schools...</td>\n",
       "      <td>None</td>\n",
       "      <td>{'crdc_id': '010000500870', 'year': 2013, 'fip...</td>\n",
       "    </tr>\n",
       "    <tr>\n",
       "      <th>4</th>\n",
       "      <td>95507</td>\n",
       "      <td>https://educationdata.urban.org/api/v1/schools...</td>\n",
       "      <td>None</td>\n",
       "      <td>{'crdc_id': '010000500871', 'year': 2013, 'fip...</td>\n",
       "    </tr>\n",
       "  </tbody>\n",
       "</table>\n",
       "</div>"
      ],
      "text/plain": [
       "   count                                               next previous  \\\n",
       "0  95507  https://educationdata.urban.org/api/v1/schools...     None   \n",
       "1  95507  https://educationdata.urban.org/api/v1/schools...     None   \n",
       "2  95507  https://educationdata.urban.org/api/v1/schools...     None   \n",
       "3  95507  https://educationdata.urban.org/api/v1/schools...     None   \n",
       "4  95507  https://educationdata.urban.org/api/v1/schools...     None   \n",
       "\n",
       "                                             results  \n",
       "0  {'crdc_id': '010000201705', 'year': 2013, 'fip...  \n",
       "1  {'crdc_id': '010000201706', 'year': 2013, 'fip...  \n",
       "2  {'crdc_id': '010000299995', 'year': 2013, 'fip...  \n",
       "3  {'crdc_id': '010000500870', 'year': 2013, 'fip...  \n",
       "4  {'crdc_id': '010000500871', 'year': 2013, 'fip...  "
      ]
     },
     "execution_count": 114,
     "metadata": {},
     "output_type": "execute_result"
    }
   ],
   "source": [
    "CRDCdirectory.head()"
   ]
  },
  {
   "cell_type": "code",
   "execution_count": 118,
   "id": "8ca78154",
   "metadata": {},
   "outputs": [
    {
     "data": {
      "text/plain": [
       "0       {'crdc_id': '010000201705', 'year': 2013, 'fip...\n",
       "1       {'crdc_id': '010000201706', 'year': 2013, 'fip...\n",
       "2       {'crdc_id': '010000299995', 'year': 2013, 'fip...\n",
       "3       {'crdc_id': '010000500870', 'year': 2013, 'fip...\n",
       "4       {'crdc_id': '010000500871', 'year': 2013, 'fip...\n",
       "                              ...                        \n",
       "9995    {'crdc_id': '062361004002', 'year': 2013, 'fip...\n",
       "9996    {'crdc_id': '062361004004', 'year': 2013, 'fip...\n",
       "9997    {'crdc_id': '062361006561', 'year': 2013, 'fip...\n",
       "9998    {'crdc_id': '062361007364', 'year': 2013, 'fip...\n",
       "9999    {'crdc_id': '062361007749', 'year': 2013, 'fip...\n",
       "Name: results, Length: 10000, dtype: object"
      ]
     },
     "execution_count": 118,
     "metadata": {},
     "output_type": "execute_result"
    }
   ],
   "source": [
    "CRDCdirectory['results']"
   ]
  },
  {
   "cell_type": "code",
   "execution_count": null,
   "id": "703479d9",
   "metadata": {},
   "outputs": [],
   "source": [
    "#CRDC-Enrollment—By race and sex"
   ]
  },
  {
   "cell_type": "code",
   "execution_count": 120,
   "id": "85b86e53",
   "metadata": {},
   "outputs": [],
   "source": [
    "from urllib.request import urlopen\n",
    "from json import loads\n",
    "url = \"https://educationdata.urban.org/api/v1/schools/crdc/enrollment/2013/race/sex/\"\n",
    "response = urlopen(url)\n",
    "EnrollmentByraceandsex = loads(response.read())"
   ]
  },
  {
   "cell_type": "code",
   "execution_count": 121,
   "id": "aa214679",
   "metadata": {},
   "outputs": [],
   "source": [
    "EnrollmentByraceandsex=pd.DataFrame(EnrollmentByraceandsex)"
   ]
  },
  {
   "cell_type": "code",
   "execution_count": 122,
   "id": "0c92d286",
   "metadata": {},
   "outputs": [
    {
     "data": {
      "text/html": [
       "<div>\n",
       "<style scoped>\n",
       "    .dataframe tbody tr th:only-of-type {\n",
       "        vertical-align: middle;\n",
       "    }\n",
       "\n",
       "    .dataframe tbody tr th {\n",
       "        vertical-align: top;\n",
       "    }\n",
       "\n",
       "    .dataframe thead th {\n",
       "        text-align: right;\n",
       "    }\n",
       "</style>\n",
       "<table border=\"1\" class=\"dataframe\">\n",
       "  <thead>\n",
       "    <tr style=\"text-align: right;\">\n",
       "      <th></th>\n",
       "      <th>count</th>\n",
       "      <th>next</th>\n",
       "      <th>previous</th>\n",
       "      <th>results</th>\n",
       "    </tr>\n",
       "  </thead>\n",
       "  <tbody>\n",
       "    <tr>\n",
       "      <th>0</th>\n",
       "      <td>2292168</td>\n",
       "      <td>https://educationdata.urban.org/api/v1/schools...</td>\n",
       "      <td>None</td>\n",
       "      <td>{'crdc_id': '010000201705', 'ncessch': '010000...</td>\n",
       "    </tr>\n",
       "    <tr>\n",
       "      <th>1</th>\n",
       "      <td>2292168</td>\n",
       "      <td>https://educationdata.urban.org/api/v1/schools...</td>\n",
       "      <td>None</td>\n",
       "      <td>{'crdc_id': '010000201705', 'ncessch': '010000...</td>\n",
       "    </tr>\n",
       "    <tr>\n",
       "      <th>2</th>\n",
       "      <td>2292168</td>\n",
       "      <td>https://educationdata.urban.org/api/v1/schools...</td>\n",
       "      <td>None</td>\n",
       "      <td>{'crdc_id': '010000201705', 'ncessch': '010000...</td>\n",
       "    </tr>\n",
       "    <tr>\n",
       "      <th>3</th>\n",
       "      <td>2292168</td>\n",
       "      <td>https://educationdata.urban.org/api/v1/schools...</td>\n",
       "      <td>None</td>\n",
       "      <td>{'crdc_id': '010000201705', 'ncessch': '010000...</td>\n",
       "    </tr>\n",
       "    <tr>\n",
       "      <th>4</th>\n",
       "      <td>2292168</td>\n",
       "      <td>https://educationdata.urban.org/api/v1/schools...</td>\n",
       "      <td>None</td>\n",
       "      <td>{'crdc_id': '010000201705', 'ncessch': '010000...</td>\n",
       "    </tr>\n",
       "  </tbody>\n",
       "</table>\n",
       "</div>"
      ],
      "text/plain": [
       "     count                                               next previous  \\\n",
       "0  2292168  https://educationdata.urban.org/api/v1/schools...     None   \n",
       "1  2292168  https://educationdata.urban.org/api/v1/schools...     None   \n",
       "2  2292168  https://educationdata.urban.org/api/v1/schools...     None   \n",
       "3  2292168  https://educationdata.urban.org/api/v1/schools...     None   \n",
       "4  2292168  https://educationdata.urban.org/api/v1/schools...     None   \n",
       "\n",
       "                                             results  \n",
       "0  {'crdc_id': '010000201705', 'ncessch': '010000...  \n",
       "1  {'crdc_id': '010000201705', 'ncessch': '010000...  \n",
       "2  {'crdc_id': '010000201705', 'ncessch': '010000...  \n",
       "3  {'crdc_id': '010000201705', 'ncessch': '010000...  \n",
       "4  {'crdc_id': '010000201705', 'ncessch': '010000...  "
      ]
     },
     "execution_count": 122,
     "metadata": {},
     "output_type": "execute_result"
    }
   ],
   "source": [
    "EnrollmentByraceandsex.head()"
   ]
  },
  {
   "cell_type": "code",
   "execution_count": 123,
   "id": "1ef02fb5",
   "metadata": {},
   "outputs": [],
   "source": [
    "#CRDC-Enrollment—By disability and sex"
   ]
  },
  {
   "cell_type": "code",
   "execution_count": 125,
   "id": "dd73538e",
   "metadata": {},
   "outputs": [],
   "source": [
    "from urllib.request import urlopen\n",
    "from json import loads\n",
    "url = \"https://educationdata.urban.org/api/v1/schools/crdc/enrollment/2015/disability/sex/\"\n",
    "response = urlopen(url)\n",
    "EnrollmentBydisabilityandsex = loads(response.read())"
   ]
  },
  {
   "cell_type": "code",
   "execution_count": 126,
   "id": "944a726f",
   "metadata": {},
   "outputs": [],
   "source": [
    "EnrollmentBydisabilityandsex=pd.DataFrame(EnrollmentBydisabilityandsex)"
   ]
  },
  {
   "cell_type": "code",
   "execution_count": 127,
   "id": "a28a4bd2",
   "metadata": {},
   "outputs": [
    {
     "data": {
      "text/html": [
       "<div>\n",
       "<style scoped>\n",
       "    .dataframe tbody tr th:only-of-type {\n",
       "        vertical-align: middle;\n",
       "    }\n",
       "\n",
       "    .dataframe tbody tr th {\n",
       "        vertical-align: top;\n",
       "    }\n",
       "\n",
       "    .dataframe thead th {\n",
       "        text-align: right;\n",
       "    }\n",
       "</style>\n",
       "<table border=\"1\" class=\"dataframe\">\n",
       "  <thead>\n",
       "    <tr style=\"text-align: right;\">\n",
       "      <th></th>\n",
       "      <th>count</th>\n",
       "      <th>next</th>\n",
       "      <th>previous</th>\n",
       "      <th>results</th>\n",
       "    </tr>\n",
       "  </thead>\n",
       "  <tbody>\n",
       "    <tr>\n",
       "      <th>0</th>\n",
       "      <td>867240</td>\n",
       "      <td>https://educationdata.urban.org/api/v1/schools...</td>\n",
       "      <td>None</td>\n",
       "      <td>{'crdc_id': '010000201705', 'ncessch': '010000...</td>\n",
       "    </tr>\n",
       "    <tr>\n",
       "      <th>1</th>\n",
       "      <td>867240</td>\n",
       "      <td>https://educationdata.urban.org/api/v1/schools...</td>\n",
       "      <td>None</td>\n",
       "      <td>{'crdc_id': '010000201705', 'ncessch': '010000...</td>\n",
       "    </tr>\n",
       "    <tr>\n",
       "      <th>2</th>\n",
       "      <td>867240</td>\n",
       "      <td>https://educationdata.urban.org/api/v1/schools...</td>\n",
       "      <td>None</td>\n",
       "      <td>{'crdc_id': '010000201705', 'ncessch': '010000...</td>\n",
       "    </tr>\n",
       "    <tr>\n",
       "      <th>3</th>\n",
       "      <td>867240</td>\n",
       "      <td>https://educationdata.urban.org/api/v1/schools...</td>\n",
       "      <td>None</td>\n",
       "      <td>{'crdc_id': '010000201705', 'ncessch': '010000...</td>\n",
       "    </tr>\n",
       "    <tr>\n",
       "      <th>4</th>\n",
       "      <td>867240</td>\n",
       "      <td>https://educationdata.urban.org/api/v1/schools...</td>\n",
       "      <td>None</td>\n",
       "      <td>{'crdc_id': '010000201705', 'ncessch': '010000...</td>\n",
       "    </tr>\n",
       "  </tbody>\n",
       "</table>\n",
       "</div>"
      ],
      "text/plain": [
       "    count                                               next previous  \\\n",
       "0  867240  https://educationdata.urban.org/api/v1/schools...     None   \n",
       "1  867240  https://educationdata.urban.org/api/v1/schools...     None   \n",
       "2  867240  https://educationdata.urban.org/api/v1/schools...     None   \n",
       "3  867240  https://educationdata.urban.org/api/v1/schools...     None   \n",
       "4  867240  https://educationdata.urban.org/api/v1/schools...     None   \n",
       "\n",
       "                                             results  \n",
       "0  {'crdc_id': '010000201705', 'ncessch': '010000...  \n",
       "1  {'crdc_id': '010000201705', 'ncessch': '010000...  \n",
       "2  {'crdc_id': '010000201705', 'ncessch': '010000...  \n",
       "3  {'crdc_id': '010000201705', 'ncessch': '010000...  \n",
       "4  {'crdc_id': '010000201705', 'ncessch': '010000...  "
      ]
     },
     "execution_count": 127,
     "metadata": {},
     "output_type": "execute_result"
    }
   ],
   "source": [
    "EnrollmentBydisabilityandsex.head()"
   ]
  },
  {
   "cell_type": "markdown",
   "id": "1820fdb4",
   "metadata": {},
   "source": [
    "#CRDC-Enrollment—ByLEPandsex\n",
    "This endpoint contains student enrollment for each school by students' Limited English Proficiency status and sex."
   ]
  },
  {
   "cell_type": "code",
   "execution_count": 132,
   "id": "8e56457e",
   "metadata": {},
   "outputs": [],
   "source": [
    "from urllib.request import urlopen\n",
    "from json import loads\n",
    "url = \"https://educationdata.urban.org/api/v1/schools/crdc/enrollment/2011/lep/sex/\"\n",
    "response = urlopen(url)\n",
    "EnrollmentByLEPandsex = loads(response.read())"
   ]
  },
  {
   "cell_type": "code",
   "execution_count": 133,
   "id": "bd2acce6",
   "metadata": {},
   "outputs": [],
   "source": [
    "EnrollmentByLEPandsex=pd.DataFrame(EnrollmentByLEPandsex)"
   ]
  },
  {
   "cell_type": "code",
   "execution_count": 134,
   "id": "548fb771",
   "metadata": {},
   "outputs": [
    {
     "data": {
      "text/html": [
       "<div>\n",
       "<style scoped>\n",
       "    .dataframe tbody tr th:only-of-type {\n",
       "        vertical-align: middle;\n",
       "    }\n",
       "\n",
       "    .dataframe tbody tr th {\n",
       "        vertical-align: top;\n",
       "    }\n",
       "\n",
       "    .dataframe thead th {\n",
       "        text-align: right;\n",
       "    }\n",
       "</style>\n",
       "<table border=\"1\" class=\"dataframe\">\n",
       "  <thead>\n",
       "    <tr style=\"text-align: right;\">\n",
       "      <th></th>\n",
       "      <th>count</th>\n",
       "      <th>next</th>\n",
       "      <th>previous</th>\n",
       "      <th>results</th>\n",
       "    </tr>\n",
       "  </thead>\n",
       "  <tbody>\n",
       "    <tr>\n",
       "      <th>0</th>\n",
       "      <td>573810</td>\n",
       "      <td>https://educationdata.urban.org/api/v1/schools...</td>\n",
       "      <td>None</td>\n",
       "      <td>{'crdc_id': '010000201705', 'ncessch': '010000...</td>\n",
       "    </tr>\n",
       "    <tr>\n",
       "      <th>1</th>\n",
       "      <td>573810</td>\n",
       "      <td>https://educationdata.urban.org/api/v1/schools...</td>\n",
       "      <td>None</td>\n",
       "      <td>{'crdc_id': '010000201705', 'ncessch': '010000...</td>\n",
       "    </tr>\n",
       "    <tr>\n",
       "      <th>2</th>\n",
       "      <td>573810</td>\n",
       "      <td>https://educationdata.urban.org/api/v1/schools...</td>\n",
       "      <td>None</td>\n",
       "      <td>{'crdc_id': '010000201705', 'ncessch': '010000...</td>\n",
       "    </tr>\n",
       "    <tr>\n",
       "      <th>3</th>\n",
       "      <td>573810</td>\n",
       "      <td>https://educationdata.urban.org/api/v1/schools...</td>\n",
       "      <td>None</td>\n",
       "      <td>{'crdc_id': '010000201705', 'ncessch': '010000...</td>\n",
       "    </tr>\n",
       "    <tr>\n",
       "      <th>4</th>\n",
       "      <td>573810</td>\n",
       "      <td>https://educationdata.urban.org/api/v1/schools...</td>\n",
       "      <td>None</td>\n",
       "      <td>{'crdc_id': '010000201705', 'ncessch': '010000...</td>\n",
       "    </tr>\n",
       "  </tbody>\n",
       "</table>\n",
       "</div>"
      ],
      "text/plain": [
       "    count                                               next previous  \\\n",
       "0  573810  https://educationdata.urban.org/api/v1/schools...     None   \n",
       "1  573810  https://educationdata.urban.org/api/v1/schools...     None   \n",
       "2  573810  https://educationdata.urban.org/api/v1/schools...     None   \n",
       "3  573810  https://educationdata.urban.org/api/v1/schools...     None   \n",
       "4  573810  https://educationdata.urban.org/api/v1/schools...     None   \n",
       "\n",
       "                                             results  \n",
       "0  {'crdc_id': '010000201705', 'ncessch': '010000...  \n",
       "1  {'crdc_id': '010000201705', 'ncessch': '010000...  \n",
       "2  {'crdc_id': '010000201705', 'ncessch': '010000...  \n",
       "3  {'crdc_id': '010000201705', 'ncessch': '010000...  \n",
       "4  {'crdc_id': '010000201705', 'ncessch': '010000...  "
      ]
     },
     "execution_count": 134,
     "metadata": {},
     "output_type": "execute_result"
    }
   ],
   "source": [
    "EnrollmentByLEPandsex.head()"
   ]
  },
  {
   "cell_type": "markdown",
   "id": "a78e506d",
   "metadata": {},
   "source": [
    "#Discipline incidents: This endpoint contains the number of discipline instances in schools."
   ]
  },
  {
   "cell_type": "code",
   "execution_count": 136,
   "id": "61a2ef22",
   "metadata": {},
   "outputs": [],
   "source": [
    "from urllib.request import urlopen\n",
    "from json import loads\n",
    "url = \"https://educationdata.urban.org/api/v1/schools/crdc/discipline-instances/2017/\"\n",
    "response = urlopen(url)\n",
    "Disciplineincidents = loads(response.read())"
   ]
  },
  {
   "cell_type": "markdown",
   "id": "b0bbbc0f",
   "metadata": {},
   "source": [
    "Discipline—By disability and sex: This endpoint contains student discipline information for each school, including suspensions, expulsions, arrests, referrals, and corporal punishment by students' race and sex."
   ]
  },
  {
   "cell_type": "code",
   "execution_count": 139,
   "id": "12e0a2bd",
   "metadata": {},
   "outputs": [],
   "source": [
    "from urllib.request import urlopen\n",
    "from json import loads\n",
    "url = \"https://educationdata.urban.org/api/v1/schools/crdc/discipline/2013/disability/sex/\"\n",
    "response = urlopen(url)\n",
    "DisciplineBydisabilityandsex = loads(response.read())"
   ]
  },
  {
   "cell_type": "markdown",
   "id": "0be5a11b",
   "metadata": {},
   "source": [
    "Discipline—By disability, race, and sex:This endpoint contains student discipline information for each school, including suspensions, expulsions, arrests, referrals, and corporal punishment by students' disability status and sex."
   ]
  },
  {
   "cell_type": "code",
   "execution_count": 141,
   "id": "047ffe31",
   "metadata": {},
   "outputs": [],
   "source": [
    "from urllib.request import urlopen\n",
    "from json import loads\n",
    "url = \"https://educationdata.urban.org/api/v1/schools/crdc/discipline/2015/disability/race/sex/\"\n",
    "response = urlopen(url)\n",
    "DisciplineBydisabilityraceandsex = loads(response.read())\n"
   ]
  },
  {
   "cell_type": "markdown",
   "id": "86309dc2",
   "metadata": {},
   "source": [
    "Discipline—By disability, LEP, and sex: This endpoint contains student discipline information for each school, including suspensions, expulsions, arrests, referrals, and corporal punishment by students' limited English proficiency status and sex."
   ]
  },
  {
   "cell_type": "code",
   "execution_count": null,
   "id": "76278846",
   "metadata": {},
   "outputs": [],
   "source": []
  }
 ],
 "metadata": {
  "kernelspec": {
   "display_name": "Python 3 (ipykernel)",
   "language": "python",
   "name": "python3"
  },
  "language_info": {
   "codemirror_mode": {
    "name": "ipython",
    "version": 3
   },
   "file_extension": ".py",
   "mimetype": "text/x-python",
   "name": "python",
   "nbconvert_exporter": "python",
   "pygments_lexer": "ipython3",
   "version": "3.9.12"
  }
 },
 "nbformat": 4,
 "nbformat_minor": 5
}
