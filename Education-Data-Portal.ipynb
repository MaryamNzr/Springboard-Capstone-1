{
 "cells": [
  {
   "cell_type": "code",
   "execution_count": 510,
   "id": "49d79c58",
   "metadata": {},
   "outputs": [],
   "source": [
    "import pandas as pd\n",
    "import numpy as np\n",
    "import matplotlib.pyplot as plt\n",
    "import seaborn as sns\n",
    "import os"
   ]
  },
  {
   "cell_type": "code",
   "execution_count": 511,
   "id": "91232dfb",
   "metadata": {},
   "outputs": [],
   "source": [
    "#State Assessments—By grade and special populations-2017\n",
    "#Source EDFACTS"
   ]
  },
  {
   "cell_type": "code",
   "execution_count": 512,
   "id": "b86695b5",
   "metadata": {},
   "outputs": [
    {
     "data": {
      "text/html": [
       "<div>\n",
       "<style scoped>\n",
       "    .dataframe tbody tr th:only-of-type {\n",
       "        vertical-align: middle;\n",
       "    }\n",
       "\n",
       "    .dataframe tbody tr th {\n",
       "        vertical-align: top;\n",
       "    }\n",
       "\n",
       "    .dataframe thead th {\n",
       "        text-align: right;\n",
       "    }\n",
       "</style>\n",
       "<table border=\"1\" class=\"dataframe\">\n",
       "  <thead>\n",
       "    <tr style=\"text-align: right;\">\n",
       "      <th></th>\n",
       "      <th>ncessch_num</th>\n",
       "      <th>ncessch</th>\n",
       "      <th>year</th>\n",
       "      <th>school_name</th>\n",
       "      <th>leaid_num</th>\n",
       "      <th>leaid</th>\n",
       "      <th>lea_name</th>\n",
       "      <th>fips</th>\n",
       "      <th>grade_edfacts</th>\n",
       "      <th>race</th>\n",
       "      <th>...</th>\n",
       "      <th>foster_care</th>\n",
       "      <th>military_connected</th>\n",
       "      <th>read_test_num_valid</th>\n",
       "      <th>read_test_pct_prof_low</th>\n",
       "      <th>read_test_pct_prof_high</th>\n",
       "      <th>read_test_pct_prof_midpt</th>\n",
       "      <th>math_test_num_valid</th>\n",
       "      <th>math_test_pct_prof_low</th>\n",
       "      <th>math_test_pct_prof_high</th>\n",
       "      <th>math_test_pct_prof_midpt</th>\n",
       "    </tr>\n",
       "  </thead>\n",
       "  <tbody>\n",
       "    <tr>\n",
       "      <th>0</th>\n",
       "      <td>10000500870</td>\n",
       "      <td>10000500870</td>\n",
       "      <td>2017</td>\n",
       "      <td>Albertville Middle School</td>\n",
       "      <td>100005</td>\n",
       "      <td>100005</td>\n",
       "      <td>Albertville City</td>\n",
       "      <td>1</td>\n",
       "      <td>99</td>\n",
       "      <td>99</td>\n",
       "      <td>...</td>\n",
       "      <td>99</td>\n",
       "      <td>99</td>\n",
       "      <td>801.0</td>\n",
       "      <td>43.0</td>\n",
       "      <td>43.0</td>\n",
       "      <td>43.0</td>\n",
       "      <td>802.0</td>\n",
       "      <td>47.0</td>\n",
       "      <td>47.0</td>\n",
       "      <td>47.0</td>\n",
       "    </tr>\n",
       "    <tr>\n",
       "      <th>1</th>\n",
       "      <td>10000500870</td>\n",
       "      <td>10000500870</td>\n",
       "      <td>2017</td>\n",
       "      <td>Albertville Middle School</td>\n",
       "      <td>100005</td>\n",
       "      <td>100005</td>\n",
       "      <td>Albertville City</td>\n",
       "      <td>1</td>\n",
       "      <td>99</td>\n",
       "      <td>4</td>\n",
       "      <td>...</td>\n",
       "      <td>99</td>\n",
       "      <td>99</td>\n",
       "      <td>5.0</td>\n",
       "      <td>-3.0</td>\n",
       "      <td>-3.0</td>\n",
       "      <td>-3.0</td>\n",
       "      <td>5.0</td>\n",
       "      <td>-3.0</td>\n",
       "      <td>-3.0</td>\n",
       "      <td>-3.0</td>\n",
       "    </tr>\n",
       "    <tr>\n",
       "      <th>2</th>\n",
       "      <td>10000500870</td>\n",
       "      <td>10000500870</td>\n",
       "      <td>2017</td>\n",
       "      <td>Albertville Middle School</td>\n",
       "      <td>100005</td>\n",
       "      <td>100005</td>\n",
       "      <td>Albertville City</td>\n",
       "      <td>1</td>\n",
       "      <td>99</td>\n",
       "      <td>2</td>\n",
       "      <td>...</td>\n",
       "      <td>99</td>\n",
       "      <td>99</td>\n",
       "      <td>32.0</td>\n",
       "      <td>30.0</td>\n",
       "      <td>39.0</td>\n",
       "      <td>34.5</td>\n",
       "      <td>32.0</td>\n",
       "      <td>30.0</td>\n",
       "      <td>39.0</td>\n",
       "      <td>34.5</td>\n",
       "    </tr>\n",
       "    <tr>\n",
       "      <th>3</th>\n",
       "      <td>10000500870</td>\n",
       "      <td>10000500870</td>\n",
       "      <td>2017</td>\n",
       "      <td>Albertville Middle School</td>\n",
       "      <td>100005</td>\n",
       "      <td>100005</td>\n",
       "      <td>Albertville City</td>\n",
       "      <td>1</td>\n",
       "      <td>99</td>\n",
       "      <td>99</td>\n",
       "      <td>...</td>\n",
       "      <td>99</td>\n",
       "      <td>99</td>\n",
       "      <td>51.0</td>\n",
       "      <td>11.0</td>\n",
       "      <td>19.0</td>\n",
       "      <td>15.0</td>\n",
       "      <td>51.0</td>\n",
       "      <td>11.0</td>\n",
       "      <td>19.0</td>\n",
       "      <td>15.0</td>\n",
       "    </tr>\n",
       "    <tr>\n",
       "      <th>4</th>\n",
       "      <td>10000500870</td>\n",
       "      <td>10000500870</td>\n",
       "      <td>2017</td>\n",
       "      <td>Albertville Middle School</td>\n",
       "      <td>100005</td>\n",
       "      <td>100005</td>\n",
       "      <td>Albertville City</td>\n",
       "      <td>1</td>\n",
       "      <td>99</td>\n",
       "      <td>99</td>\n",
       "      <td>...</td>\n",
       "      <td>99</td>\n",
       "      <td>99</td>\n",
       "      <td>309.0</td>\n",
       "      <td>30.0</td>\n",
       "      <td>30.0</td>\n",
       "      <td>30.0</td>\n",
       "      <td>310.0</td>\n",
       "      <td>37.0</td>\n",
       "      <td>37.0</td>\n",
       "      <td>37.0</td>\n",
       "    </tr>\n",
       "  </tbody>\n",
       "</table>\n",
       "<p>5 rows × 26 columns</p>\n",
       "</div>"
      ],
      "text/plain": [
       "   ncessch_num      ncessch  year                school_name  leaid_num  \\\n",
       "0  10000500870  10000500870  2017  Albertville Middle School     100005   \n",
       "1  10000500870  10000500870  2017  Albertville Middle School     100005   \n",
       "2  10000500870  10000500870  2017  Albertville Middle School     100005   \n",
       "3  10000500870  10000500870  2017  Albertville Middle School     100005   \n",
       "4  10000500870  10000500870  2017  Albertville Middle School     100005   \n",
       "\n",
       "    leaid          lea_name  fips  grade_edfacts  race  ...  foster_care  \\\n",
       "0  100005  Albertville City     1             99    99  ...           99   \n",
       "1  100005  Albertville City     1             99     4  ...           99   \n",
       "2  100005  Albertville City     1             99     2  ...           99   \n",
       "3  100005  Albertville City     1             99    99  ...           99   \n",
       "4  100005  Albertville City     1             99    99  ...           99   \n",
       "\n",
       "   military_connected  read_test_num_valid  read_test_pct_prof_low  \\\n",
       "0                  99                801.0                    43.0   \n",
       "1                  99                  5.0                    -3.0   \n",
       "2                  99                 32.0                    30.0   \n",
       "3                  99                 51.0                    11.0   \n",
       "4                  99                309.0                    30.0   \n",
       "\n",
       "   read_test_pct_prof_high  read_test_pct_prof_midpt  math_test_num_valid  \\\n",
       "0                     43.0                      43.0                802.0   \n",
       "1                     -3.0                      -3.0                  5.0   \n",
       "2                     39.0                      34.5                 32.0   \n",
       "3                     19.0                      15.0                 51.0   \n",
       "4                     30.0                      30.0                310.0   \n",
       "\n",
       "   math_test_pct_prof_low  math_test_pct_prof_high  math_test_pct_prof_midpt  \n",
       "0                    47.0                     47.0                      47.0  \n",
       "1                    -3.0                     -3.0                      -3.0  \n",
       "2                    30.0                     39.0                      34.5  \n",
       "3                    11.0                     19.0                      15.0  \n",
       "4                    37.0                     37.0                      37.0  \n",
       "\n",
       "[5 rows x 26 columns]"
      ]
     },
     "execution_count": 512,
     "metadata": {},
     "output_type": "execute_result"
    }
   ],
   "source": [
    "assessments_2017 = pd.read_csv(\"schools_edfacts_assessments_2017.csv\")\n",
    "assessments_2017.head()"
   ]
  },
  {
   "cell_type": "code",
   "execution_count": 513,
   "id": "ad29485b",
   "metadata": {},
   "outputs": [],
   "source": [
    "#Dropping unnecary columns-df.drop(['C', 'D'], axis=1)\n",
    "assessments_2017 = assessments_2017.drop(['ncessch','year','leaid','fips'], axis=1)"
   ]
  },
  {
   "cell_type": "code",
   "execution_count": 514,
   "id": "d61a7b95",
   "metadata": {},
   "outputs": [
    {
     "data": {
      "text/html": [
       "<div>\n",
       "<style scoped>\n",
       "    .dataframe tbody tr th:only-of-type {\n",
       "        vertical-align: middle;\n",
       "    }\n",
       "\n",
       "    .dataframe tbody tr th {\n",
       "        vertical-align: top;\n",
       "    }\n",
       "\n",
       "    .dataframe thead th {\n",
       "        text-align: right;\n",
       "    }\n",
       "</style>\n",
       "<table border=\"1\" class=\"dataframe\">\n",
       "  <thead>\n",
       "    <tr style=\"text-align: right;\">\n",
       "      <th></th>\n",
       "      <th>ncessch_num</th>\n",
       "      <th>school_name</th>\n",
       "      <th>leaid_num</th>\n",
       "      <th>lea_name</th>\n",
       "      <th>grade_edfacts</th>\n",
       "      <th>race</th>\n",
       "      <th>sex</th>\n",
       "      <th>lep</th>\n",
       "      <th>homeless</th>\n",
       "      <th>migrant</th>\n",
       "      <th>...</th>\n",
       "      <th>foster_care</th>\n",
       "      <th>military_connected</th>\n",
       "      <th>read_test_num_valid</th>\n",
       "      <th>read_test_pct_prof_low</th>\n",
       "      <th>read_test_pct_prof_high</th>\n",
       "      <th>read_test_pct_prof_midpt</th>\n",
       "      <th>math_test_num_valid</th>\n",
       "      <th>math_test_pct_prof_low</th>\n",
       "      <th>math_test_pct_prof_high</th>\n",
       "      <th>math_test_pct_prof_midpt</th>\n",
       "    </tr>\n",
       "  </thead>\n",
       "  <tbody>\n",
       "    <tr>\n",
       "      <th>0</th>\n",
       "      <td>10000500870</td>\n",
       "      <td>Albertville Middle School</td>\n",
       "      <td>100005</td>\n",
       "      <td>Albertville City</td>\n",
       "      <td>99</td>\n",
       "      <td>99</td>\n",
       "      <td>99</td>\n",
       "      <td>99</td>\n",
       "      <td>99</td>\n",
       "      <td>99</td>\n",
       "      <td>...</td>\n",
       "      <td>99</td>\n",
       "      <td>99</td>\n",
       "      <td>801.0</td>\n",
       "      <td>43.0</td>\n",
       "      <td>43.0</td>\n",
       "      <td>43.0</td>\n",
       "      <td>802.0</td>\n",
       "      <td>47.0</td>\n",
       "      <td>47.0</td>\n",
       "      <td>47.0</td>\n",
       "    </tr>\n",
       "    <tr>\n",
       "      <th>1</th>\n",
       "      <td>10000500870</td>\n",
       "      <td>Albertville Middle School</td>\n",
       "      <td>100005</td>\n",
       "      <td>Albertville City</td>\n",
       "      <td>99</td>\n",
       "      <td>4</td>\n",
       "      <td>99</td>\n",
       "      <td>99</td>\n",
       "      <td>99</td>\n",
       "      <td>99</td>\n",
       "      <td>...</td>\n",
       "      <td>99</td>\n",
       "      <td>99</td>\n",
       "      <td>5.0</td>\n",
       "      <td>-3.0</td>\n",
       "      <td>-3.0</td>\n",
       "      <td>-3.0</td>\n",
       "      <td>5.0</td>\n",
       "      <td>-3.0</td>\n",
       "      <td>-3.0</td>\n",
       "      <td>-3.0</td>\n",
       "    </tr>\n",
       "    <tr>\n",
       "      <th>2</th>\n",
       "      <td>10000500870</td>\n",
       "      <td>Albertville Middle School</td>\n",
       "      <td>100005</td>\n",
       "      <td>Albertville City</td>\n",
       "      <td>99</td>\n",
       "      <td>2</td>\n",
       "      <td>99</td>\n",
       "      <td>99</td>\n",
       "      <td>99</td>\n",
       "      <td>99</td>\n",
       "      <td>...</td>\n",
       "      <td>99</td>\n",
       "      <td>99</td>\n",
       "      <td>32.0</td>\n",
       "      <td>30.0</td>\n",
       "      <td>39.0</td>\n",
       "      <td>34.5</td>\n",
       "      <td>32.0</td>\n",
       "      <td>30.0</td>\n",
       "      <td>39.0</td>\n",
       "      <td>34.5</td>\n",
       "    </tr>\n",
       "    <tr>\n",
       "      <th>3</th>\n",
       "      <td>10000500870</td>\n",
       "      <td>Albertville Middle School</td>\n",
       "      <td>100005</td>\n",
       "      <td>Albertville City</td>\n",
       "      <td>99</td>\n",
       "      <td>99</td>\n",
       "      <td>99</td>\n",
       "      <td>99</td>\n",
       "      <td>99</td>\n",
       "      <td>99</td>\n",
       "      <td>...</td>\n",
       "      <td>99</td>\n",
       "      <td>99</td>\n",
       "      <td>51.0</td>\n",
       "      <td>11.0</td>\n",
       "      <td>19.0</td>\n",
       "      <td>15.0</td>\n",
       "      <td>51.0</td>\n",
       "      <td>11.0</td>\n",
       "      <td>19.0</td>\n",
       "      <td>15.0</td>\n",
       "    </tr>\n",
       "    <tr>\n",
       "      <th>4</th>\n",
       "      <td>10000500870</td>\n",
       "      <td>Albertville Middle School</td>\n",
       "      <td>100005</td>\n",
       "      <td>Albertville City</td>\n",
       "      <td>99</td>\n",
       "      <td>99</td>\n",
       "      <td>99</td>\n",
       "      <td>99</td>\n",
       "      <td>99</td>\n",
       "      <td>99</td>\n",
       "      <td>...</td>\n",
       "      <td>99</td>\n",
       "      <td>99</td>\n",
       "      <td>309.0</td>\n",
       "      <td>30.0</td>\n",
       "      <td>30.0</td>\n",
       "      <td>30.0</td>\n",
       "      <td>310.0</td>\n",
       "      <td>37.0</td>\n",
       "      <td>37.0</td>\n",
       "      <td>37.0</td>\n",
       "    </tr>\n",
       "  </tbody>\n",
       "</table>\n",
       "<p>5 rows × 22 columns</p>\n",
       "</div>"
      ],
      "text/plain": [
       "   ncessch_num                school_name  leaid_num          lea_name  \\\n",
       "0  10000500870  Albertville Middle School     100005  Albertville City   \n",
       "1  10000500870  Albertville Middle School     100005  Albertville City   \n",
       "2  10000500870  Albertville Middle School     100005  Albertville City   \n",
       "3  10000500870  Albertville Middle School     100005  Albertville City   \n",
       "4  10000500870  Albertville Middle School     100005  Albertville City   \n",
       "\n",
       "   grade_edfacts  race  sex  lep  homeless  migrant  ...  foster_care  \\\n",
       "0             99    99   99   99        99       99  ...           99   \n",
       "1             99     4   99   99        99       99  ...           99   \n",
       "2             99     2   99   99        99       99  ...           99   \n",
       "3             99    99   99   99        99       99  ...           99   \n",
       "4             99    99   99   99        99       99  ...           99   \n",
       "\n",
       "   military_connected  read_test_num_valid  read_test_pct_prof_low  \\\n",
       "0                  99                801.0                    43.0   \n",
       "1                  99                  5.0                    -3.0   \n",
       "2                  99                 32.0                    30.0   \n",
       "3                  99                 51.0                    11.0   \n",
       "4                  99                309.0                    30.0   \n",
       "\n",
       "   read_test_pct_prof_high  read_test_pct_prof_midpt  math_test_num_valid  \\\n",
       "0                     43.0                      43.0                802.0   \n",
       "1                     -3.0                      -3.0                  5.0   \n",
       "2                     39.0                      34.5                 32.0   \n",
       "3                     19.0                      15.0                 51.0   \n",
       "4                     30.0                      30.0                310.0   \n",
       "\n",
       "   math_test_pct_prof_low  math_test_pct_prof_high  math_test_pct_prof_midpt  \n",
       "0                    47.0                     47.0                      47.0  \n",
       "1                    -3.0                     -3.0                      -3.0  \n",
       "2                    30.0                     39.0                      34.5  \n",
       "3                    11.0                     19.0                      15.0  \n",
       "4                    37.0                     37.0                      37.0  \n",
       "\n",
       "[5 rows x 22 columns]"
      ]
     },
     "execution_count": 514,
     "metadata": {},
     "output_type": "execute_result"
    }
   ],
   "source": [
    "assessments_2017.head()"
   ]
  },
  {
   "cell_type": "code",
   "execution_count": 521,
   "id": "5d997936",
   "metadata": {},
   "outputs": [
    {
     "data": {
      "text/plain": [
       "0"
      ]
     },
     "execution_count": 521,
     "metadata": {},
     "output_type": "execute_result"
    }
   ],
   "source": [
    "#No missing values\n",
    "assessments_2017[\"ncessch_num\"].isnull().sum()"
   ]
  },
  {
   "cell_type": "code",
   "execution_count": 481,
   "id": "ed5ec907",
   "metadata": {},
   "outputs": [],
   "source": [
    "#The assessment data is reported at the grade level so the ncessch is not a unique number.To fix it:\n",
    "#groupby the dataframe by id and grade and mean of a test score\n",
    "#df.groupby('StationID', as_index=False)['BiasTemp'].mean()\n",
    "#assessments_2017.groupby('ncessch', as_index=False)['read_test_num_valid','read_test_pct_prof_midpt', 'read_test_pct_prof_high', 'read_test_pct_prof_low','math_test_num_valid',\"math_test_pct_prof_midpt\",'math_test_pct_prof_high','math_test_pct_prof_low'].mean()"
   ]
  },
  {
   "cell_type": "code",
   "execution_count": 529,
   "id": "4ba3b60a",
   "metadata": {
    "scrolled": true
   },
   "outputs": [
    {
     "name": "stderr",
     "output_type": "stream",
     "text": [
      "/var/folders/q1/5l3sndps6dj6yrp14kddr27w0000gn/T/ipykernel_5373/1764937858.py:1: FutureWarning: Indexing with multiple keys (implicitly converted to a tuple of keys) will be deprecated, use a list instead.\n",
      "  assessments_mean = assessments_2017.groupby('ncessch_num', as_index=False)['read_test_num_valid','read_test_pct_prof_midpt', 'read_test_pct_prof_high', 'read_test_pct_prof_low','math_test_num_valid',\"math_test_pct_prof_midpt\",'math_test_pct_prof_high','math_test_pct_prof_low'].mean()\n"
     ]
    }
   ],
   "source": [
    "assessments_mean = assessments_2017.groupby('ncessch_num', as_index=False)['read_test_num_valid','read_test_pct_prof_midpt', 'read_test_pct_prof_high', 'read_test_pct_prof_low','math_test_num_valid',\"math_test_pct_prof_midpt\",'math_test_pct_prof_high','math_test_pct_prof_low'].mean()"
   ]
  },
  {
   "cell_type": "code",
   "execution_count": 530,
   "id": "c9537f15",
   "metadata": {},
   "outputs": [
    {
     "data": {
      "text/html": [
       "<div>\n",
       "<style scoped>\n",
       "    .dataframe tbody tr th:only-of-type {\n",
       "        vertical-align: middle;\n",
       "    }\n",
       "\n",
       "    .dataframe tbody tr th {\n",
       "        vertical-align: top;\n",
       "    }\n",
       "\n",
       "    .dataframe thead th {\n",
       "        text-align: right;\n",
       "    }\n",
       "</style>\n",
       "<table border=\"1\" class=\"dataframe\">\n",
       "  <thead>\n",
       "    <tr style=\"text-align: right;\">\n",
       "      <th></th>\n",
       "      <th>ncessch_num</th>\n",
       "      <th>read_test_num_valid</th>\n",
       "      <th>read_test_pct_prof_midpt</th>\n",
       "      <th>read_test_pct_prof_high</th>\n",
       "      <th>read_test_pct_prof_low</th>\n",
       "      <th>math_test_num_valid</th>\n",
       "      <th>math_test_pct_prof_midpt</th>\n",
       "      <th>math_test_pct_prof_high</th>\n",
       "      <th>math_test_pct_prof_low</th>\n",
       "    </tr>\n",
       "  </thead>\n",
       "  <tbody>\n",
       "    <tr>\n",
       "      <th>0</th>\n",
       "      <td>10000500870</td>\n",
       "      <td>140.390244</td>\n",
       "      <td>31.036585</td>\n",
       "      <td>36.804878</td>\n",
       "      <td>25.268293</td>\n",
       "      <td>140.634146</td>\n",
       "      <td>32.792683</td>\n",
       "      <td>38.536585</td>\n",
       "      <td>27.048780</td>\n",
       "    </tr>\n",
       "    <tr>\n",
       "      <th>1</th>\n",
       "      <td>10000500871</td>\n",
       "      <td>86.000000</td>\n",
       "      <td>20.321429</td>\n",
       "      <td>25.642857</td>\n",
       "      <td>15.000000</td>\n",
       "      <td>86.000000</td>\n",
       "      <td>22.107143</td>\n",
       "      <td>27.428571</td>\n",
       "      <td>16.785714</td>\n",
       "    </tr>\n",
       "    <tr>\n",
       "      <th>2</th>\n",
       "      <td>10000500879</td>\n",
       "      <td>143.813953</td>\n",
       "      <td>21.081395</td>\n",
       "      <td>27.162791</td>\n",
       "      <td>15.000000</td>\n",
       "      <td>144.651163</td>\n",
       "      <td>24.232558</td>\n",
       "      <td>30.883721</td>\n",
       "      <td>17.581395</td>\n",
       "    </tr>\n",
       "    <tr>\n",
       "      <th>3</th>\n",
       "      <td>10000500889</td>\n",
       "      <td>154.681818</td>\n",
       "      <td>28.136364</td>\n",
       "      <td>33.409091</td>\n",
       "      <td>22.863636</td>\n",
       "      <td>155.409091</td>\n",
       "      <td>38.715909</td>\n",
       "      <td>44.545455</td>\n",
       "      <td>32.886364</td>\n",
       "    </tr>\n",
       "    <tr>\n",
       "      <th>4</th>\n",
       "      <td>10000600193</td>\n",
       "      <td>54.166667</td>\n",
       "      <td>23.975000</td>\n",
       "      <td>28.333333</td>\n",
       "      <td>19.616667</td>\n",
       "      <td>54.366667</td>\n",
       "      <td>27.175000</td>\n",
       "      <td>31.533333</td>\n",
       "      <td>22.816667</td>\n",
       "    </tr>\n",
       "    <tr>\n",
       "      <th>...</th>\n",
       "      <td>...</td>\n",
       "      <td>...</td>\n",
       "      <td>...</td>\n",
       "      <td>...</td>\n",
       "      <td>...</td>\n",
       "      <td>...</td>\n",
       "      <td>...</td>\n",
       "      <td>...</td>\n",
       "      <td>...</td>\n",
       "    </tr>\n",
       "    <tr>\n",
       "      <th>89031</th>\n",
       "      <td>720003002079</td>\n",
       "      <td>72.157895</td>\n",
       "      <td>23.381579</td>\n",
       "      <td>25.131579</td>\n",
       "      <td>21.631579</td>\n",
       "      <td>72.157895</td>\n",
       "      <td>28.697368</td>\n",
       "      <td>30.447368</td>\n",
       "      <td>26.947368</td>\n",
       "    </tr>\n",
       "    <tr>\n",
       "      <th>89032</th>\n",
       "      <td>720003002082</td>\n",
       "      <td>81.657143</td>\n",
       "      <td>31.200000</td>\n",
       "      <td>34.314286</td>\n",
       "      <td>28.085714</td>\n",
       "      <td>81.657143</td>\n",
       "      <td>3.257143</td>\n",
       "      <td>6.571429</td>\n",
       "      <td>-0.057143</td>\n",
       "    </tr>\n",
       "    <tr>\n",
       "      <th>89033</th>\n",
       "      <td>720003002083</td>\n",
       "      <td>62.000000</td>\n",
       "      <td>21.145833</td>\n",
       "      <td>26.041667</td>\n",
       "      <td>16.250000</td>\n",
       "      <td>61.583333</td>\n",
       "      <td>5.416667</td>\n",
       "      <td>10.833333</td>\n",
       "      <td>0.000000</td>\n",
       "    </tr>\n",
       "    <tr>\n",
       "      <th>89034</th>\n",
       "      <td>720003002084</td>\n",
       "      <td>43.571429</td>\n",
       "      <td>11.119048</td>\n",
       "      <td>20.238095</td>\n",
       "      <td>2.000000</td>\n",
       "      <td>43.380952</td>\n",
       "      <td>9.345238</td>\n",
       "      <td>18.619048</td>\n",
       "      <td>0.071429</td>\n",
       "    </tr>\n",
       "    <tr>\n",
       "      <th>89035</th>\n",
       "      <td>720003002085</td>\n",
       "      <td>97.000000</td>\n",
       "      <td>40.000000</td>\n",
       "      <td>43.333333</td>\n",
       "      <td>36.666667</td>\n",
       "      <td>96.166667</td>\n",
       "      <td>7.916667</td>\n",
       "      <td>10.833333</td>\n",
       "      <td>5.000000</td>\n",
       "    </tr>\n",
       "  </tbody>\n",
       "</table>\n",
       "<p>89036 rows × 9 columns</p>\n",
       "</div>"
      ],
      "text/plain": [
       "        ncessch_num  read_test_num_valid  read_test_pct_prof_midpt  \\\n",
       "0       10000500870           140.390244                 31.036585   \n",
       "1       10000500871            86.000000                 20.321429   \n",
       "2       10000500879           143.813953                 21.081395   \n",
       "3       10000500889           154.681818                 28.136364   \n",
       "4       10000600193            54.166667                 23.975000   \n",
       "...             ...                  ...                       ...   \n",
       "89031  720003002079            72.157895                 23.381579   \n",
       "89032  720003002082            81.657143                 31.200000   \n",
       "89033  720003002083            62.000000                 21.145833   \n",
       "89034  720003002084            43.571429                 11.119048   \n",
       "89035  720003002085            97.000000                 40.000000   \n",
       "\n",
       "       read_test_pct_prof_high  read_test_pct_prof_low  math_test_num_valid  \\\n",
       "0                    36.804878               25.268293           140.634146   \n",
       "1                    25.642857               15.000000            86.000000   \n",
       "2                    27.162791               15.000000           144.651163   \n",
       "3                    33.409091               22.863636           155.409091   \n",
       "4                    28.333333               19.616667            54.366667   \n",
       "...                        ...                     ...                  ...   \n",
       "89031                25.131579               21.631579            72.157895   \n",
       "89032                34.314286               28.085714            81.657143   \n",
       "89033                26.041667               16.250000            61.583333   \n",
       "89034                20.238095                2.000000            43.380952   \n",
       "89035                43.333333               36.666667            96.166667   \n",
       "\n",
       "       math_test_pct_prof_midpt  math_test_pct_prof_high  \\\n",
       "0                     32.792683                38.536585   \n",
       "1                     22.107143                27.428571   \n",
       "2                     24.232558                30.883721   \n",
       "3                     38.715909                44.545455   \n",
       "4                     27.175000                31.533333   \n",
       "...                         ...                      ...   \n",
       "89031                 28.697368                30.447368   \n",
       "89032                  3.257143                 6.571429   \n",
       "89033                  5.416667                10.833333   \n",
       "89034                  9.345238                18.619048   \n",
       "89035                  7.916667                10.833333   \n",
       "\n",
       "       math_test_pct_prof_low  \n",
       "0                   27.048780  \n",
       "1                   16.785714  \n",
       "2                   17.581395  \n",
       "3                   32.886364  \n",
       "4                   22.816667  \n",
       "...                       ...  \n",
       "89031               26.947368  \n",
       "89032               -0.057143  \n",
       "89033                0.000000  \n",
       "89034                0.071429  \n",
       "89035                5.000000  \n",
       "\n",
       "[89036 rows x 9 columns]"
      ]
     },
     "execution_count": 530,
     "metadata": {},
     "output_type": "execute_result"
    }
   ],
   "source": [
    "assessments_mean "
   ]
  },
  {
   "cell_type": "code",
   "execution_count": 544,
   "id": "9aabe5f9",
   "metadata": {},
   "outputs": [
    {
     "data": {
      "text/plain": [
       "89036"
      ]
     },
     "execution_count": 544,
     "metadata": {},
     "output_type": "execute_result"
    }
   ],
   "source": [
    "len(assessments_mean)"
   ]
  },
  {
   "cell_type": "markdown",
   "id": "f002c38e",
   "metadata": {},
   "source": [
    "This endpoint contains school-level geographic information, grades offered, and information on school type (including charter, magnet, and alternative schools). Source: The Civil Rights Data Collection (CRDC)\n",
    "\n"
   ]
  },
  {
   "cell_type": "code",
   "execution_count": 536,
   "id": "b7dd04b2",
   "metadata": {},
   "outputs": [
    {
     "data": {
      "text/plain": [
       "Index(['crdc_id', 'year', 'fips', 'leaid', 'ncessch', 'school_name_crdc',\n",
       "       'schoolid_crdc', 'lea_name', 'leaid_crdc', 'lea_state', 'prek', 'k',\n",
       "       'g1', 'g2', 'g3', 'g4', 'g5', 'g6', 'g7', 'g8', 'g9', 'g10', 'g11',\n",
       "       'g12', 'ug', 'primarily_serve_students_w_dis', 'charter_crdc',\n",
       "       'magnet_crdc', 'entire_school_magnet', 'alt_school', 'alt_school_focus',\n",
       "       'ability_grouped_math_or_eng', 'ug_elementary_school',\n",
       "       'ug_middle_school', 'ug_high_school'],\n",
       "      dtype='object')"
      ]
     },
     "execution_count": 536,
     "metadata": {},
     "output_type": "execute_result"
    }
   ],
   "source": [
    "from urllib.request import urlopen\n",
    "from json import loads\n",
    "url = \"https://educationdata.urban.org/api/v1/schools/crdc/directory/2017/\"\n",
    "response = urlopen(url)\n",
    "crdc_directory = loads(response.read())\n",
    "crdc_directory=pd.DataFrame(crdc_directory[\"results\"])\n",
    "crdc_directory.columns"
   ]
  },
  {
   "cell_type": "code",
   "execution_count": 537,
   "id": "68c695f8",
   "metadata": {},
   "outputs": [],
   "source": [
    "#Dropping unneccary columns-df.drop(['C', 'D'], axis=1)\n",
    "crdc_directory = crdc_directory.drop(['crdc_id','year','fips','schoolid_crdc','leaid_crdc', 'prek', 'k',\n",
    "       'g1', 'g2', 'g3', 'g4', 'g5', 'g6', 'g7', 'g8', 'g9', 'g10', 'g11',\n",
    "       'g12', 'ug','entire_school_magnet'], axis=1)"
   ]
  },
  {
   "cell_type": "code",
   "execution_count": 538,
   "id": "3fdee434",
   "metadata": {},
   "outputs": [
    {
     "data": {
      "text/html": [
       "<div>\n",
       "<style scoped>\n",
       "    .dataframe tbody tr th:only-of-type {\n",
       "        vertical-align: middle;\n",
       "    }\n",
       "\n",
       "    .dataframe tbody tr th {\n",
       "        vertical-align: top;\n",
       "    }\n",
       "\n",
       "    .dataframe thead th {\n",
       "        text-align: right;\n",
       "    }\n",
       "</style>\n",
       "<table border=\"1\" class=\"dataframe\">\n",
       "  <thead>\n",
       "    <tr style=\"text-align: right;\">\n",
       "      <th></th>\n",
       "      <th>leaid</th>\n",
       "      <th>ncessch</th>\n",
       "      <th>school_name_crdc</th>\n",
       "      <th>lea_name</th>\n",
       "      <th>lea_state</th>\n",
       "      <th>primarily_serve_students_w_dis</th>\n",
       "      <th>charter_crdc</th>\n",
       "      <th>magnet_crdc</th>\n",
       "      <th>alt_school</th>\n",
       "      <th>alt_school_focus</th>\n",
       "      <th>ability_grouped_math_or_eng</th>\n",
       "      <th>ug_elementary_school</th>\n",
       "      <th>ug_middle_school</th>\n",
       "      <th>ug_high_school</th>\n",
       "    </tr>\n",
       "  </thead>\n",
       "  <tbody>\n",
       "    <tr>\n",
       "      <th>0</th>\n",
       "      <td>0100002</td>\n",
       "      <td>010000201705</td>\n",
       "      <td>Wallace Sch - Mt Meigs Campus</td>\n",
       "      <td>Alabama Youth Services</td>\n",
       "      <td>AL</td>\n",
       "      <td>0</td>\n",
       "      <td>0</td>\n",
       "      <td>0</td>\n",
       "      <td>0</td>\n",
       "      <td>-2</td>\n",
       "      <td>None</td>\n",
       "      <td>-2</td>\n",
       "      <td>-2</td>\n",
       "      <td>-2</td>\n",
       "    </tr>\n",
       "    <tr>\n",
       "      <th>1</th>\n",
       "      <td>0100002</td>\n",
       "      <td>010000201706</td>\n",
       "      <td>McNeel Sch - Vacca Campus</td>\n",
       "      <td>Alabama Youth Services</td>\n",
       "      <td>AL</td>\n",
       "      <td>0</td>\n",
       "      <td>0</td>\n",
       "      <td>0</td>\n",
       "      <td>0</td>\n",
       "      <td>-2</td>\n",
       "      <td>None</td>\n",
       "      <td>-2</td>\n",
       "      <td>-2</td>\n",
       "      <td>-2</td>\n",
       "    </tr>\n",
       "    <tr>\n",
       "      <th>2</th>\n",
       "      <td>0100002</td>\n",
       "      <td>010000201876</td>\n",
       "      <td>Alabama Youth Services</td>\n",
       "      <td>Alabama Youth Services</td>\n",
       "      <td>AL</td>\n",
       "      <td>0</td>\n",
       "      <td>0</td>\n",
       "      <td>0</td>\n",
       "      <td>0</td>\n",
       "      <td>-2</td>\n",
       "      <td>None</td>\n",
       "      <td>-2</td>\n",
       "      <td>-2</td>\n",
       "      <td>-2</td>\n",
       "    </tr>\n",
       "    <tr>\n",
       "      <th>3</th>\n",
       "      <td></td>\n",
       "      <td></td>\n",
       "      <td>AUTAUGA CAMPUS</td>\n",
       "      <td>Alabama Youth Services</td>\n",
       "      <td>AL</td>\n",
       "      <td>0</td>\n",
       "      <td>0</td>\n",
       "      <td>0</td>\n",
       "      <td>0</td>\n",
       "      <td>-2</td>\n",
       "      <td>None</td>\n",
       "      <td>-2</td>\n",
       "      <td>-2</td>\n",
       "      <td>-2</td>\n",
       "    </tr>\n",
       "    <tr>\n",
       "      <th>4</th>\n",
       "      <td>0100005</td>\n",
       "      <td>010000500870</td>\n",
       "      <td>Albertville Middle School</td>\n",
       "      <td>Albertville City</td>\n",
       "      <td>AL</td>\n",
       "      <td>0</td>\n",
       "      <td>0</td>\n",
       "      <td>0</td>\n",
       "      <td>0</td>\n",
       "      <td>-2</td>\n",
       "      <td>None</td>\n",
       "      <td>-2</td>\n",
       "      <td>-2</td>\n",
       "      <td>-2</td>\n",
       "    </tr>\n",
       "  </tbody>\n",
       "</table>\n",
       "</div>"
      ],
      "text/plain": [
       "     leaid       ncessch               school_name_crdc  \\\n",
       "0  0100002  010000201705  Wallace Sch - Mt Meigs Campus   \n",
       "1  0100002  010000201706      McNeel Sch - Vacca Campus   \n",
       "2  0100002  010000201876         Alabama Youth Services   \n",
       "3                                        AUTAUGA CAMPUS   \n",
       "4  0100005  010000500870      Albertville Middle School   \n",
       "\n",
       "                 lea_name lea_state  primarily_serve_students_w_dis  \\\n",
       "0  Alabama Youth Services        AL                               0   \n",
       "1  Alabama Youth Services        AL                               0   \n",
       "2  Alabama Youth Services        AL                               0   \n",
       "3  Alabama Youth Services        AL                               0   \n",
       "4        Albertville City        AL                               0   \n",
       "\n",
       "   charter_crdc  magnet_crdc  alt_school  alt_school_focus  \\\n",
       "0             0            0           0                -2   \n",
       "1             0            0           0                -2   \n",
       "2             0            0           0                -2   \n",
       "3             0            0           0                -2   \n",
       "4             0            0           0                -2   \n",
       "\n",
       "  ability_grouped_math_or_eng  ug_elementary_school  ug_middle_school  \\\n",
       "0                        None                    -2                -2   \n",
       "1                        None                    -2                -2   \n",
       "2                        None                    -2                -2   \n",
       "3                        None                    -2                -2   \n",
       "4                        None                    -2                -2   \n",
       "\n",
       "   ug_high_school  \n",
       "0              -2  \n",
       "1              -2  \n",
       "2              -2  \n",
       "3              -2  \n",
       "4              -2  "
      ]
     },
     "execution_count": 538,
     "metadata": {},
     "output_type": "execute_result"
    }
   ],
   "source": [
    "crdc_directory.head()"
   ]
  },
  {
   "cell_type": "code",
   "execution_count": 539,
   "id": "d05cec33",
   "metadata": {},
   "outputs": [],
   "source": [
    "#Renema the ncessch column to match with the assessment df\n",
    "crdc_directory.rename(columns = {'ncessch':'ncessch_num'}, inplace = True)\n",
    "   "
   ]
  },
  {
   "cell_type": "code",
   "execution_count": 540,
   "id": "4dfd8175",
   "metadata": {},
   "outputs": [
    {
     "data": {
      "text/plain": [
       "Index(['leaid', 'ncessch_num', 'school_name_crdc', 'lea_name', 'lea_state',\n",
       "       'primarily_serve_students_w_dis', 'charter_crdc', 'magnet_crdc',\n",
       "       'alt_school', 'alt_school_focus', 'ability_grouped_math_or_eng',\n",
       "       'ug_elementary_school', 'ug_middle_school', 'ug_high_school'],\n",
       "      dtype='object')"
      ]
     },
     "execution_count": 540,
     "metadata": {},
     "output_type": "execute_result"
    }
   ],
   "source": [
    "crdc_directory.columns"
   ]
  },
  {
   "cell_type": "code",
   "execution_count": 541,
   "id": "5cd821d1",
   "metadata": {},
   "outputs": [],
   "source": [
    "#The grade on the other Df is bianay, so there is no point of matching them with the assessment. we drop the grade columns"
   ]
  },
  {
   "cell_type": "code",
   "execution_count": 542,
   "id": "a1384018",
   "metadata": {},
   "outputs": [
    {
     "data": {
      "text/plain": [
       "10000"
      ]
     },
     "execution_count": 542,
     "metadata": {},
     "output_type": "execute_result"
    }
   ],
   "source": [
    "len(crdc_directory)"
   ]
  },
  {
   "cell_type": "code",
   "execution_count": 546,
   "id": "0a947ad3",
   "metadata": {
    "scrolled": true
   },
   "outputs": [
    {
     "data": {
      "text/plain": [
       "Int64Index([   3,   80,   81,   85,  126,  377,  523,  649,  829, 1597, 2155,\n",
       "            2356, 2753, 2846, 3191, 3192, 3193, 3194, 3195, 3236, 3460, 3461,\n",
       "            3462, 3463, 3464, 3465, 3466, 3467, 3542, 3654, 3900, 3901, 3902,\n",
       "            3903, 3904, 3905, 3906, 3907, 3908, 3909, 3910, 3911, 3912, 3913,\n",
       "            3914, 3915, 3916, 3917, 3943, 3971, 3972, 3973, 3974, 3975, 3976,\n",
       "            3977, 4312, 4394, 4647, 4731, 5338, 5470, 5471, 5557, 5845, 6178,\n",
       "            6179, 6180, 6425, 7282, 7423, 7638, 8047, 8866, 8867, 8868, 8869,\n",
       "            8870, 8871],\n",
       "           dtype='int64')"
      ]
     },
     "execution_count": 546,
     "metadata": {},
     "output_type": "execute_result"
    }
   ],
   "source": [
    "#droping missing values\n",
    "crdc_directory[crdc_directory[\"ncessch_num\"]==''].index \n"
   ]
  },
  {
   "cell_type": "code",
   "execution_count": 547,
   "id": "6f4cc9a6",
   "metadata": {},
   "outputs": [],
   "source": [
    "crdc_directory = crdc_directory.drop(index=[3,   80,   81,   85,  126,  377,  523,  649,  829, 1597, 2155,\n",
    "            2356, 2753, 2846, 3191, 3192, 3193, 3194, 3195, 3236, 3460, 3461,\n",
    "            3462, 3463, 3464, 3465, 3466, 3467, 3542, 3654, 3900, 3901, 3902,\n",
    "            3903, 3904, 3905, 3906, 3907, 3908, 3909, 3910, 3911, 3912, 3913,\n",
    "            3914, 3915, 3916, 3917, 3943, 3971, 3972, 3973, 3974, 3975, 3976,\n",
    "            3977, 4312, 4394, 4647, 4731, 5338, 5470, 5471, 5557, 5845, 6178,\n",
    "            6179, 6180, 6425, 7282, 7423, 7638, 8047, 8866, 8867, 8868, 8869,\n",
    "            8870, 8871])"
   ]
  },
  {
   "cell_type": "code",
   "execution_count": 548,
   "id": "80c755ae",
   "metadata": {},
   "outputs": [
    {
     "data": {
      "text/plain": [
       "9921"
      ]
     },
     "execution_count": 548,
     "metadata": {},
     "output_type": "execute_result"
    }
   ],
   "source": [
    "len(crdc_directory)"
   ]
  },
  {
   "cell_type": "code",
   "execution_count": 549,
   "id": "5e375c66",
   "metadata": {},
   "outputs": [],
   "source": [
    "#changing the ncessch_num type to int for merging with the first df\n",
    "crdc_directory[\"ncessch_num\"]=crdc_directory[\"ncessch_num\"].astype(np.int64)"
   ]
  },
  {
   "cell_type": "code",
   "execution_count": 550,
   "id": "ea055a78",
   "metadata": {},
   "outputs": [
    {
     "data": {
      "text/plain": [
       "0       10000201705\n",
       "1       10000201706\n",
       "2       10000201876\n",
       "4       10000500870\n",
       "5       10000500871\n",
       "           ...     \n",
       "9995    62316010903\n",
       "9996    62316011670\n",
       "9997    62316012156\n",
       "9998    62316013431\n",
       "9999    62334003282\n",
       "Name: ncessch_num, Length: 9921, dtype: int64"
      ]
     },
     "execution_count": 550,
     "metadata": {},
     "output_type": "execute_result"
    }
   ],
   "source": [
    "crdc_directory[\"ncessch_num\"]"
   ]
  },
  {
   "cell_type": "code",
   "execution_count": 627,
   "id": "43ec760c",
   "metadata": {},
   "outputs": [],
   "source": [
    "#merging directory and assessment\n",
    "result = pd.merge(assessments_mean,crdc_directory, left_on = \"ncessch_num\" , right_on= \"ncessch_num\", how=\"inner\")"
   ]
  },
  {
   "cell_type": "code",
   "execution_count": 612,
   "id": "e4154550",
   "metadata": {},
   "outputs": [
    {
     "data": {
      "text/plain": [
       "9523"
      ]
     },
     "execution_count": 612,
     "metadata": {},
     "output_type": "execute_result"
    }
   ],
   "source": [
    "len (result)"
   ]
  },
  {
   "cell_type": "code",
   "execution_count": 613,
   "id": "b489ae17",
   "metadata": {},
   "outputs": [
    {
     "data": {
      "text/plain": [
       "Index(['ncessch_num', 'read_test_num_valid', 'read_test_pct_prof_midpt',\n",
       "       'read_test_pct_prof_high', 'read_test_pct_prof_low',\n",
       "       'math_test_num_valid', 'math_test_pct_prof_midpt',\n",
       "       'math_test_pct_prof_high', 'math_test_pct_prof_low', 'leaid',\n",
       "       'school_name_crdc', 'lea_name', 'lea_state',\n",
       "       'primarily_serve_students_w_dis', 'charter_crdc', 'magnet_crdc',\n",
       "       'alt_school', 'alt_school_focus', 'ability_grouped_math_or_eng',\n",
       "       'ug_elementary_school', 'ug_middle_school', 'ug_high_school'],\n",
       "      dtype='object')"
      ]
     },
     "execution_count": 613,
     "metadata": {},
     "output_type": "execute_result"
    }
   ],
   "source": [
    "result.columns"
   ]
  },
  {
   "cell_type": "code",
   "execution_count": 556,
   "id": "0b82f5da",
   "metadata": {},
   "outputs": [],
   "source": [
    "from urllib.request import urlopen\n",
    "from json import loads\n",
    "url = \"https://educationdata.urban.org/api/v1/schools/crdc/enrollment/2017/disability/sex/\"\n",
    "response = urlopen(url)\n",
    "enrollment = loads(response.read())\n",
    "enrollment=pd.DataFrame(enrollment[\"results\"])"
   ]
  },
  {
   "cell_type": "code",
   "execution_count": 558,
   "id": "dc652fcb",
   "metadata": {},
   "outputs": [
    {
     "data": {
      "text/plain": [
       "Index(['crdc_id', 'ncessch', 'year', 'fips', 'leaid', 'race', 'sex',\n",
       "       'disability', 'lep', 'enrollment_crdc', 'psenrollment_crdc'],\n",
       "      dtype='object')"
      ]
     },
     "execution_count": 558,
     "metadata": {},
     "output_type": "execute_result"
    }
   ],
   "source": [
    "enrollment.columns"
   ]
  },
  {
   "cell_type": "code",
   "execution_count": null,
   "id": "49191b05",
   "metadata": {},
   "outputs": [],
   "source": [
    "##Steps to merge each dataframe with the result table:\n",
    "#1. Dropping unneccary columns- df.drop(['C', 'D'], axis=1)\n",
    "#2. missing values- assessments_2017[\"ncessch_num\"].isnull().sum()\n",
    "#3. finding empty cells- missing values- crdc_directory[crdc_directory[\"ncessch_num\"]==''].index \n",
    "#4. droping empty cells- crdc_directory = crdc_directory.drop(index=[..]) \n",
    "#5. Rename the ncessch column to match with the assessment- crdc_directory.rename(columns = {'ncessch':'ncessch_num'}, inplace = True)\n",
    "#6. changing the ncessch_num type to int for merging with the first df- crdc_directory[\"ncessch_num\"]=crdc_directory[\"ncessch_num\"].astype(np.int64)\n",
    "#7. merging new df with result- result = pd.merge(assessments_mean,crdc_directory, left_on = \"ncessch_num\" , right_on= \"ncessch_num\", how=\"inner\")"
   ]
  },
  {
   "cell_type": "code",
   "execution_count": 560,
   "id": "f2f08471",
   "metadata": {},
   "outputs": [],
   "source": [
    "enrollment= enrollment.drop(['crdc_id', 'year', 'fips', 'leaid','enrollment_crdc', 'psenrollment_crdc'], axis=1)"
   ]
  },
  {
   "cell_type": "code",
   "execution_count": 562,
   "id": "9112cc62",
   "metadata": {},
   "outputs": [
    {
     "data": {
      "text/plain": [
       "Int64Index([  27,   28,   29,   30,   31,   32,   33,   34,   35,  720,  721,\n",
       "             722,  723,  724,  725,  726,  727,  728,  729,  730,  731,  732,\n",
       "             733,  734,  735,  736,  737,  765,  766,  767,  768,  769,  770,\n",
       "             771,  772,  773, 1134, 1135, 1136, 1137, 1138, 1139, 1140, 1141,\n",
       "            1142, 3393, 3394, 3395, 3396, 3397, 3398, 3399, 3400, 3401, 4707,\n",
       "            4708, 4709, 4710, 4711, 4712, 4713, 4714, 4715, 5841, 5842, 5843,\n",
       "            5844, 5845, 5846, 5847, 5848, 5849, 7461, 7462, 7463, 7464, 7465,\n",
       "            7466, 7467, 7468, 7469],\n",
       "           dtype='int64')"
      ]
     },
     "execution_count": 562,
     "metadata": {},
     "output_type": "execute_result"
    }
   ],
   "source": [
    "enrollment[enrollment[\"ncessch\"]==''].index "
   ]
  },
  {
   "cell_type": "code",
   "execution_count": 563,
   "id": "1b088c92",
   "metadata": {},
   "outputs": [],
   "source": [
    "enrollment = enrollment.drop(index=[ 27,   28,   29,   30,   31,   32,   33,   34,   35,  720,  721,\n",
    "             722,  723,  724,  725,  726,  727,  728,  729,  730,  731,  732,\n",
    "             733,  734,  735,  736,  737,  765,  766,  767,  768,  769,  770,\n",
    "             771,  772,  773, 1134, 1135, 1136, 1137, 1138, 1139, 1140, 1141,\n",
    "            1142, 3393, 3394, 3395, 3396, 3397, 3398, 3399, 3400, 3401, 4707,\n",
    "            4708, 4709, 4710, 4711, 4712, 4713, 4714, 4715, 5841, 5842, 5843,\n",
    "            5844, 5845, 5846, 5847, 5848, 5849, 7461, 7462, 7463, 7464, 7465,\n",
    "            7466, 7467, 7468, 7469]) "
   ]
  },
  {
   "cell_type": "code",
   "execution_count": 564,
   "id": "90ee50d2",
   "metadata": {},
   "outputs": [],
   "source": [
    "enrollment.rename(columns = {'ncessch':'ncessch_num'}, inplace = True)"
   ]
  },
  {
   "cell_type": "code",
   "execution_count": 565,
   "id": "c19d7700",
   "metadata": {},
   "outputs": [],
   "source": [
    "enrollment[\"ncessch_num\"]=enrollment[\"ncessch_num\"].astype(np.int64)"
   ]
  },
  {
   "cell_type": "code",
   "execution_count": 628,
   "id": "4fb619b6",
   "metadata": {
    "scrolled": true
   },
   "outputs": [
    {
     "data": {
      "text/plain": [
       "Index(['ncessch_num', 'read_test_num_valid', 'read_test_pct_prof_midpt',\n",
       "       'read_test_pct_prof_high', 'read_test_pct_prof_low',\n",
       "       'math_test_num_valid', 'math_test_pct_prof_midpt',\n",
       "       'math_test_pct_prof_high', 'math_test_pct_prof_low', 'leaid',\n",
       "       'school_name_crdc', 'lea_name', 'lea_state',\n",
       "       'primarily_serve_students_w_dis', 'charter_crdc', 'magnet_crdc',\n",
       "       'alt_school', 'alt_school_focus', 'ability_grouped_math_or_eng',\n",
       "       'ug_elementary_school', 'ug_middle_school', 'ug_high_school', 'race',\n",
       "       'sex', 'disability', 'lep'],\n",
       "      dtype='object')"
      ]
     },
     "execution_count": 628,
     "metadata": {},
     "output_type": "execute_result"
    }
   ],
   "source": [
    "result = pd.merge(result,enrollment, left_on = \"ncessch_num\" , right_on= \"ncessch_num\", how=\"inner\")\n",
    "result.columns"
   ]
  },
  {
   "cell_type": "code",
   "execution_count": 581,
   "id": "b8c96d13",
   "metadata": {},
   "outputs": [],
   "source": [
    "#Discipline by disabilties,LEP and sex from crdc - 2017"
   ]
  },
  {
   "cell_type": "markdown",
   "id": "8f39f35c",
   "metadata": {},
   "source": [
    "#from urllib.request import urlopen\n",
    "from json import loads\n",
    "url = \"https://educationdata.urban.org/api/v1/schools/crdc/discipline/2017/disability/lep/sex/\"\n",
    "response = urlopen(url)\n",
    "Disciplinebydisabilties = loads(response.read())\n",
    "Disciplinebydisabilties =pd.DataFrame(Disciplinebydisabilties[\"results\"])"
   ]
  },
  {
   "cell_type": "code",
   "execution_count": 585,
   "id": "fbd40b07",
   "metadata": {},
   "outputs": [],
   "source": [
    "#Teachers and Staff-2017"
   ]
  },
  {
   "cell_type": "code",
   "execution_count": 594,
   "id": "bdcdb69a",
   "metadata": {},
   "outputs": [
    {
     "data": {
      "text/plain": [
       "Index(['crdc_id', 'year', 'ncessch', 'leaid', 'fips', 'teachers_fte_crdc',\n",
       "       'teachers_certified_fte', 'teachers_uncertified_fte',\n",
       "       'teachers_first_year_fte', 'teachers_second_year_fte',\n",
       "       'teachers_current_sy', 'teachers_previous_sy', 'teachers_absent_fte',\n",
       "       'counselors_fte', 'psychologists_fte', 'social_workers_fte',\n",
       "       'nurses_fte', 'security_guard_fte', 'law_enforcement_fte',\n",
       "       'law_enforcement_ind'],\n",
       "      dtype='object')"
      ]
     },
     "execution_count": 594,
     "metadata": {},
     "output_type": "execute_result"
    }
   ],
   "source": [
    "from urllib.request import urlopen\n",
    "from json import loads\n",
    "url = \"https://educationdata.urban.org/api/v1/schools/crdc/teachers-staff/2017/\"\n",
    "response = urlopen(url)\n",
    "TeachersandStaff = loads(response.read())\n",
    "teachersandstaff=pd.DataFrame(TeachersandStaff[\"results\"])\n",
    "teachersandstaff.columns"
   ]
  },
  {
   "cell_type": "code",
   "execution_count": 595,
   "id": "e9492f77",
   "metadata": {},
   "outputs": [],
   "source": [
    "teachersandstaff=teachersandstaff.drop(['crdc_id', 'year', 'leaid', 'fips','counselors_fte', 'psychologists_fte', 'social_workers_fte',\n",
    "       'nurses_fte', 'security_guard_fte', 'law_enforcement_fte',\n",
    "       'law_enforcement_ind', 'teachers_previous_sy'], axis=1)"
   ]
  },
  {
   "cell_type": "code",
   "execution_count": 597,
   "id": "d086a42e",
   "metadata": {},
   "outputs": [
    {
     "data": {
      "text/plain": [
       "0"
      ]
     },
     "execution_count": 597,
     "metadata": {},
     "output_type": "execute_result"
    }
   ],
   "source": [
    "teachersandstaff[\"ncessch\"].isnull().sum()"
   ]
  },
  {
   "cell_type": "code",
   "execution_count": 598,
   "id": "b05118e8",
   "metadata": {},
   "outputs": [
    {
     "data": {
      "text/plain": [
       "Int64Index([   3,   80,   81,   85,  126,  377,  523,  649,  829, 1597, 2155,\n",
       "            2356, 2753, 2846, 3191, 3192, 3193, 3194, 3195, 3236, 3460, 3461,\n",
       "            3462, 3463, 3464, 3465, 3466, 3467, 3542, 3654, 3900, 3901, 3902,\n",
       "            3903, 3904, 3905, 3906, 3907, 3908, 3909, 3910, 3911, 3912, 3913,\n",
       "            3914, 3915, 3916, 3917, 3943, 3971, 3972, 3973, 3974, 3975, 3976,\n",
       "            3977, 4312, 4394, 4647, 4731, 5338, 5470, 5471, 5557, 5845, 6178,\n",
       "            6179, 6180, 6425, 7282, 7423, 7638, 8047, 8866, 8867, 8868, 8869,\n",
       "            8870, 8871],\n",
       "           dtype='int64')"
      ]
     },
     "execution_count": 598,
     "metadata": {},
     "output_type": "execute_result"
    }
   ],
   "source": [
    "teachersandstaff[teachersandstaff[\"ncessch\"]==''].index"
   ]
  },
  {
   "cell_type": "code",
   "execution_count": 600,
   "id": "276e01fa",
   "metadata": {},
   "outputs": [],
   "source": [
    "teachersandstaff = teachersandstaff.drop(index=[   3,   80,   81,   85,  126,  377,  523,  649,  829, 1597, 2155,\n",
    "            2356, 2753, 2846, 3191, 3192, 3193, 3194, 3195, 3236, 3460, 3461,\n",
    "            3462, 3463, 3464, 3465, 3466, 3467, 3542, 3654, 3900, 3901, 3902,\n",
    "            3903, 3904, 3905, 3906, 3907, 3908, 3909, 3910, 3911, 3912, 3913,\n",
    "            3914, 3915, 3916, 3917, 3943, 3971, 3972, 3973, 3974, 3975, 3976,\n",
    "            3977, 4312, 4394, 4647, 4731, 5338, 5470, 5471, 5557, 5845, 6178,\n",
    "            6179, 6180, 6425, 7282, 7423, 7638, 8047, 8866, 8867, 8868, 8869,\n",
    "            8870, 8871])\n"
   ]
  },
  {
   "cell_type": "code",
   "execution_count": 601,
   "id": "0383b3c3",
   "metadata": {},
   "outputs": [],
   "source": [
    "teachersandstaff.rename(columns = {'ncessch':'ncessch_num'}, inplace =True)\n"
   ]
  },
  {
   "cell_type": "code",
   "execution_count": 602,
   "id": "8aeda361",
   "metadata": {},
   "outputs": [],
   "source": [
    "teachersandstaff[\"ncessch_num\"]=teachersandstaff[\"ncessch_num\"].astype(np.int64)\n"
   ]
  },
  {
   "cell_type": "code",
   "execution_count": 630,
   "id": "f47ecf9f",
   "metadata": {},
   "outputs": [],
   "source": [
    "result = pd.merge(result,teachersandstaff, left_on = \"ncessch_num\" , right_on= \"ncessch_num\", how=\"inner\")\n"
   ]
  },
  {
   "cell_type": "code",
   "execution_count": 338,
   "id": "e8b78822",
   "metadata": {},
   "outputs": [],
   "source": [
    "#Math and Science Course Enrollment—By disability and sex-2017"
   ]
  },
  {
   "cell_type": "code",
   "execution_count": 490,
   "id": "02faebd2",
   "metadata": {},
   "outputs": [
    {
     "data": {
      "text/plain": [
       "Index(['crdc_id', 'year', 'fips', 'ncessch', 'leaid', 'sex', 'race',\n",
       "       'disability', 'lep', 'enrl_biology', 'enrl_chemistry',\n",
       "       'enrl_advanced_math', 'enrl_calculus', 'enrl_algebra2', 'enrl_physics',\n",
       "       'enrl_geometry'],\n",
       "      dtype='object')"
      ]
     },
     "execution_count": 490,
     "metadata": {},
     "output_type": "execute_result"
    }
   ],
   "source": [
    "from urllib.request import urlopen\n",
    "from json import loads\n",
    "url = \"https://educationdata.urban.org/api/v1/schools/crdc/math-and-science/2017/disability/sex/\"\n",
    "response = urlopen(url)\n",
    "math_science_enrollment = loads(response.read())\n",
    "math_science_enrollment = pd.DataFrame(math_science_enrollment[\"results\"])\n",
    "math_science_enrollment.columns"
   ]
  },
  {
   "cell_type": "code",
   "execution_count": 616,
   "id": "dada2b0c",
   "metadata": {},
   "outputs": [],
   "source": [
    "math_science_enrollment= math_science_enrollment.drop(['crdc_id', 'year', 'fips', 'leaid', 'sex', 'race',\n",
    "       'disability', 'lep',], axis=1)\n"
   ]
  },
  {
   "cell_type": "code",
   "execution_count": 618,
   "id": "9c6af4af",
   "metadata": {},
   "outputs": [
    {
     "data": {
      "text/plain": [
       "Int64Index([  18,   19,   20,   21,   22,   23,  480,  481,  482,  483,  484,\n",
       "             485,  486,  487,  488,  489,  490,  491,  510,  511,  512,  513,\n",
       "             514,  515,  756,  757,  758,  759,  760,  761, 2262, 2263, 2264,\n",
       "            2265, 2266, 2267, 3138, 3139, 3140, 3141, 3142, 3143, 3894, 3895,\n",
       "            3896, 3897, 3898, 3899, 4974, 4975, 4976, 4977, 4978, 4979, 9582,\n",
       "            9583, 9584, 9585, 9586, 9587],\n",
       "           dtype='int64')"
      ]
     },
     "execution_count": 618,
     "metadata": {},
     "output_type": "execute_result"
    }
   ],
   "source": [
    "math_science_enrollment[math_science_enrollment[\"ncessch\"]==''].index \n"
   ]
  },
  {
   "cell_type": "code",
   "execution_count": 619,
   "id": "d1026a3f",
   "metadata": {},
   "outputs": [],
   "source": [
    "math_science_enrollment = math_science_enrollment.drop(index=[  18,   19,   20,   21,   22,   23,  480,  481,  482,  483,  484,\n",
    "             485,  486,  487,  488,  489,  490,  491,  510,  511,  512,  513,\n",
    "             514,  515,  756,  757,  758,  759,  760,  761, 2262, 2263, 2264,\n",
    "            2265, 2266, 2267, 3138, 3139, 3140, 3141, 3142, 3143, 3894, 3895,\n",
    "            3896, 3897, 3898, 3899, 4974, 4975, 4976, 4977, 4978, 4979, 9582,\n",
    "            9583, 9584, 9585, 9586, 9587]) \n"
   ]
  },
  {
   "cell_type": "code",
   "execution_count": 620,
   "id": "388a74ac",
   "metadata": {},
   "outputs": [],
   "source": [
    "math_science_enrollment.rename(columns = {'ncessch':'ncessch_num'}, inplace = True)\n"
   ]
  },
  {
   "cell_type": "code",
   "execution_count": 625,
   "id": "e0bd4115",
   "metadata": {},
   "outputs": [],
   "source": [
    "math_science_enrollment[\"ncessch_num\"]=math_science_enrollment[\"ncessch_num\"].astype(np.int64)"
   ]
  },
  {
   "cell_type": "code",
   "execution_count": 632,
   "id": "19bb4043",
   "metadata": {},
   "outputs": [],
   "source": [
    "result = pd.merge(result,math_science_enrollment, left_on = \"ncessch_num\" , right_on= \"ncessch_num\", how=\"inner\")"
   ]
  },
  {
   "cell_type": "code",
   "execution_count": 340,
   "id": "75545ba7",
   "metadata": {},
   "outputs": [],
   "source": [
    "#Algebra I—By disability and sex"
   ]
  },
  {
   "cell_type": "code",
   "execution_count": 634,
   "id": "2b85b356",
   "metadata": {},
   "outputs": [],
   "source": [
    "from urllib.request import urlopen\n",
    "from json import loads\n",
    "url = \"https://educationdata.urban.org/api/v1/schools/crdc/algebra1/2017/disability/sex/\"\n",
    "response = urlopen(url)\n",
    "algebra = loads(response.read())\n",
    "algebra=pd.DataFrame(algebra[\"results\"])\n"
   ]
  },
  {
   "cell_type": "code",
   "execution_count": 636,
   "id": "6158b521",
   "metadata": {},
   "outputs": [
    {
     "data": {
      "text/plain": [
       "Index(['crdc_id', 'year', 'ncessch', 'leaid', 'fips', 'grade_crdc', 'sex',\n",
       "       'race', 'disability', 'lep', 'enrl_algebra1',\n",
       "       'students_passing_algebra1'],\n",
       "      dtype='object')"
      ]
     },
     "execution_count": 636,
     "metadata": {},
     "output_type": "execute_result"
    }
   ],
   "source": [
    "algebra.columns\n"
   ]
  },
  {
   "cell_type": "code",
   "execution_count": 639,
   "id": "67856f39",
   "metadata": {},
   "outputs": [],
   "source": [
    "algebra=algebra.drop(['crdc_id', 'year', 'leaid', 'fips', 'grade_crdc', 'sex',\n",
    "       'race', 'disability', 'lep'], axis=1)"
   ]
  },
  {
   "cell_type": "code",
   "execution_count": 659,
   "id": "f21c38ab",
   "metadata": {},
   "outputs": [
    {
     "data": {
      "text/plain": [
       "[72,\n",
       " 73,\n",
       " 74,\n",
       " 75,\n",
       " 76,\n",
       " 77,\n",
       " 78,\n",
       " 79,\n",
       " 80,\n",
       " 81,\n",
       " 82,\n",
       " 83,\n",
       " 84,\n",
       " 85,\n",
       " 86,\n",
       " 87,\n",
       " 88,\n",
       " 89,\n",
       " 90,\n",
       " 91,\n",
       " 92,\n",
       " 93,\n",
       " 94,\n",
       " 95,\n",
       " 1920,\n",
       " 1921,\n",
       " 1922,\n",
       " 1923,\n",
       " 1924,\n",
       " 1925,\n",
       " 1926,\n",
       " 1927,\n",
       " 1928,\n",
       " 1929,\n",
       " 1930,\n",
       " 1931,\n",
       " 1932,\n",
       " 1933,\n",
       " 1934,\n",
       " 1935,\n",
       " 1936,\n",
       " 1937,\n",
       " 1938,\n",
       " 1939,\n",
       " 1940,\n",
       " 1941,\n",
       " 1942,\n",
       " 1943,\n",
       " 1944,\n",
       " 1945,\n",
       " 1946,\n",
       " 1947,\n",
       " 1948,\n",
       " 1949,\n",
       " 1950,\n",
       " 1951,\n",
       " 1952,\n",
       " 1953,\n",
       " 1954,\n",
       " 1955,\n",
       " 1956,\n",
       " 1957,\n",
       " 1958,\n",
       " 1959,\n",
       " 1960,\n",
       " 1961,\n",
       " 1962,\n",
       " 1963,\n",
       " 1964,\n",
       " 1965,\n",
       " 1966,\n",
       " 1967,\n",
       " 2040,\n",
       " 2041,\n",
       " 2042,\n",
       " 2043,\n",
       " 2044,\n",
       " 2045,\n",
       " 2046,\n",
       " 2047,\n",
       " 2048,\n",
       " 2049,\n",
       " 2050,\n",
       " 2051,\n",
       " 2052,\n",
       " 2053,\n",
       " 2054,\n",
       " 2055,\n",
       " 2056,\n",
       " 2057,\n",
       " 2058,\n",
       " 2059,\n",
       " 2060,\n",
       " 2061,\n",
       " 2062,\n",
       " 2063,\n",
       " 3024,\n",
       " 3025,\n",
       " 3026,\n",
       " 3027,\n",
       " 3028,\n",
       " 3029,\n",
       " 3030,\n",
       " 3031,\n",
       " 3032,\n",
       " 3033,\n",
       " 3034,\n",
       " 3035,\n",
       " 3036,\n",
       " 3037,\n",
       " 3038,\n",
       " 3039,\n",
       " 3040,\n",
       " 3041,\n",
       " 3042,\n",
       " 3043,\n",
       " 3044,\n",
       " 3045,\n",
       " 3046,\n",
       " 3047,\n",
       " 9048,\n",
       " 9049,\n",
       " 9050,\n",
       " 9051,\n",
       " 9052,\n",
       " 9053,\n",
       " 9054,\n",
       " 9055,\n",
       " 9056,\n",
       " 9057,\n",
       " 9058,\n",
       " 9059,\n",
       " 9060,\n",
       " 9061,\n",
       " 9062,\n",
       " 9063,\n",
       " 9064,\n",
       " 9065,\n",
       " 9066,\n",
       " 9067,\n",
       " 9068,\n",
       " 9069,\n",
       " 9070,\n",
       " 9071]"
      ]
     },
     "execution_count": 659,
     "metadata": {},
     "output_type": "execute_result"
    }
   ],
   "source": [
    "missing_algebra =list(algebra[algebra[\"ncessch\"]==''].index)\n",
    "missing_algebra"
   ]
  },
  {
   "cell_type": "code",
   "execution_count": 660,
   "id": "5177ce82",
   "metadata": {},
   "outputs": [],
   "source": [
    "algebra= algebra.drop(index=missing_algebra)"
   ]
  },
  {
   "cell_type": "code",
   "execution_count": 664,
   "id": "414147a6",
   "metadata": {},
   "outputs": [],
   "source": [
    "algebra.rename(columns = {'ncessch':'ncessch_num'}, inplace = True)"
   ]
  },
  {
   "cell_type": "code",
   "execution_count": 665,
   "id": "09688309",
   "metadata": {},
   "outputs": [],
   "source": [
    "algebra[\"ncessch_num\"]=algebra[\"ncessch_num\"].astype(np.int64)"
   ]
  },
  {
   "cell_type": "code",
   "execution_count": 666,
   "id": "e9c08108",
   "metadata": {},
   "outputs": [],
   "source": [
    "result = pd.merge(result,algebra, left_on = \"ncessch_num\" , right_on= \"ncessch_num\", how=\"inner\")"
   ]
  },
  {
   "cell_type": "code",
   "execution_count": 342,
   "id": "03617ad8",
   "metadata": {},
   "outputs": [],
   "source": [
    "#School Finance"
   ]
  },
  {
   "cell_type": "code",
   "execution_count": 650,
   "id": "4a0f2d28",
   "metadata": {},
   "outputs": [],
   "source": [
    "from urllib.request import urlopen\n",
    "from json import loads\n",
    "url = \"https://educationdata.urban.org/api/v1/schools/crdc/school-finance/2017/\"\n",
    "response = urlopen(url)\n",
    "school_finance = loads(response.read())\n",
    "school_finance = pd.DataFrame(school_finance[\"results\"])"
   ]
  },
  {
   "cell_type": "code",
   "execution_count": 651,
   "id": "1bd72b22",
   "metadata": {},
   "outputs": [
    {
     "data": {
      "text/plain": [
       "Index(['crdc_id', 'year', 'ncessch', 'leaid', 'fips', 'salaries_teachers',\n",
       "       'salaries_total', 'salaries_instruc_staff',\n",
       "       'salaries_instructional_aides', 'salaries_support',\n",
       "       'salaries_administration', 'expenditures_nonpersonnel',\n",
       "       'instructional_aides_fte', 'support_fte', 'administration_fte'],\n",
       "      dtype='object')"
      ]
     },
     "execution_count": 651,
     "metadata": {},
     "output_type": "execute_result"
    }
   ],
   "source": [
    "school_finance.columns"
   ]
  },
  {
   "cell_type": "code",
   "execution_count": 652,
   "id": "0f0da1ab",
   "metadata": {},
   "outputs": [],
   "source": [
    "school_finance= school_finance.drop(['crdc_id', 'year', 'leaid', 'fips','salaries_total', 'salaries_instruc_staff', 'salaries_support',\n",
    "       'salaries_administration', 'expenditures_nonpersonnel',\n",
    "       'instructional_aides_fte', 'support_fte', 'administration_fte'], axis = 1)"
   ]
  },
  {
   "cell_type": "code",
   "execution_count": 653,
   "id": "b71b12c3",
   "metadata": {},
   "outputs": [
    {
     "data": {
      "text/plain": [
       "Int64Index([   3,   80,   81,   85,  126,  377,  523,  649,  829, 1597, 2155,\n",
       "            2356, 2753, 2846, 3191, 3192, 3193, 3194, 3195, 3236, 3460, 3461,\n",
       "            3462, 3463, 3464, 3465, 3466, 3467, 3542, 3654, 3900, 3901, 3902,\n",
       "            3903, 3904, 3905, 3906, 3907, 3908, 3909, 3910, 3911, 3912, 3913,\n",
       "            3914, 3915, 3916, 3917, 3943, 3971, 3972, 3973, 3974, 3975, 3976,\n",
       "            3977, 4312, 4394, 4647, 4731, 5338, 5470, 5471, 5557, 5845, 6178,\n",
       "            6179, 6180, 6425, 7282, 7423, 7638, 8047, 8866, 8867, 8868, 8869,\n",
       "            8870, 8871],\n",
       "           dtype='int64')"
      ]
     },
     "execution_count": 653,
     "metadata": {},
     "output_type": "execute_result"
    }
   ],
   "source": [
    "school_finance[school_finance['ncessch']==''].index\n"
   ]
  },
  {
   "cell_type": "code",
   "execution_count": 654,
   "id": "209484ff",
   "metadata": {},
   "outputs": [],
   "source": [
    "school_finance = school_finance.drop(index = [  3,   80,   81,   85,  126,  377,  523,  649,  829, 1597, 2155,\n",
    "            2356, 2753, 2846, 3191, 3192, 3193, 3194, 3195, 3236, 3460, 3461,\n",
    "            3462, 3463, 3464, 3465, 3466, 3467, 3542, 3654, 3900, 3901, 3902,\n",
    "            3903, 3904, 3905, 3906, 3907, 3908, 3909, 3910, 3911, 3912, 3913,\n",
    "            3914, 3915, 3916, 3917, 3943, 3971, 3972, 3973, 3974, 3975, 3976,\n",
    "            3977, 4312, 4394, 4647, 4731, 5338, 5470, 5471, 5557, 5845, 6178,\n",
    "            6179, 6180, 6425, 7282, 7423, 7638, 8047, 8866, 8867, 8868, 8869,\n",
    "            8870, 8871])\n"
   ]
  },
  {
   "cell_type": "code",
   "execution_count": 661,
   "id": "a89ceffc",
   "metadata": {},
   "outputs": [],
   "source": [
    "school_finance.rename(columns = {'ncessch':'ncessch_num'}, inplace = True)"
   ]
  },
  {
   "cell_type": "code",
   "execution_count": 662,
   "id": "839f76ce",
   "metadata": {},
   "outputs": [],
   "source": [
    "school_finance[\"ncessch_num\"]=school_finance[\"ncessch_num\"].astype(np.int64)"
   ]
  },
  {
   "cell_type": "code",
   "execution_count": 663,
   "id": "daecff10",
   "metadata": {},
   "outputs": [],
   "source": [
    "result = pd.merge(result,school_finance, left_on = \"ncessch_num\" , right_on= \"ncessch_num\", how=\"inner\")"
   ]
  },
  {
   "cell_type": "code",
   "execution_count": 151,
   "id": "46b47093",
   "metadata": {},
   "outputs": [],
   "source": [
    "#Source: MEPS \n",
    "#School Poverty Measure"
   ]
  },
  {
   "cell_type": "code",
   "execution_count": 677,
   "id": "9c27511d",
   "metadata": {},
   "outputs": [],
   "source": [
    "from urllib.request import urlopen\n",
    "from json import loads\n",
    "url = \"https://educationdata.urban.org/api/v1/schools/meps/2017/\"\n",
    "response = urlopen(url)\n",
    "school_poverty = loads(response.read())\n",
    "school_poverty=pd.DataFrame(school_poverty[\"results\"])"
   ]
  },
  {
   "cell_type": "code",
   "execution_count": 679,
   "id": "7cec1da4",
   "metadata": {},
   "outputs": [
    {
     "data": {
      "text/plain": [
       "Int64Index([], dtype='int64')"
      ]
     },
     "execution_count": 679,
     "metadata": {},
     "output_type": "execute_result"
    }
   ],
   "source": [
    "school_poverty[school_poverty[\"ncessch\"]==''].index "
   ]
  },
  {
   "cell_type": "code",
   "execution_count": 680,
   "id": "f188ab0a",
   "metadata": {},
   "outputs": [
    {
     "data": {
      "text/plain": [
       "Index(['year', 'fips', 'gleaid', 'ncessch', 'ncessch_num', 'leaid',\n",
       "       'meps_poverty_pct', 'meps_poverty_se', 'meps_poverty_ptl',\n",
       "       'meps_mod_poverty_pct', 'meps_mod_poverty_ptl'],\n",
       "      dtype='object')"
      ]
     },
     "execution_count": 680,
     "metadata": {},
     "output_type": "execute_result"
    }
   ],
   "source": [
    "school_poverty.columns"
   ]
  },
  {
   "cell_type": "code",
   "execution_count": 681,
   "id": "179cfabc",
   "metadata": {},
   "outputs": [],
   "source": [
    "school_poverty= school_poverty.drop(['year', 'fips', 'gleaid', 'ncessch','leaid','meps_poverty_pct', 'meps_poverty_se', 'meps_poverty_ptl','meps_mod_poverty_ptl'], axis =1)"
   ]
  },
  {
   "cell_type": "code",
   "execution_count": 683,
   "id": "1b33e807",
   "metadata": {},
   "outputs": [],
   "source": [
    "result = pd.merge(result,school_poverty, left_on = \"ncessch_num\" , right_on= \"ncessch_num\", how=\"inner\")"
   ]
  },
  {
   "cell_type": "code",
   "execution_count": 694,
   "id": "0f7ea27d",
   "metadata": {},
   "outputs": [],
   "source": [
    "from urllib.request import urlopen\n",
    "from json import loads\n",
    "url = \"https://educationdata.urban.org/api/v1/schools/crdc/ap-exams/2017/race/sex/\"\n",
    "response = urlopen(url)\n",
    "ap_exams = loads(response.read())"
   ]
  },
  {
   "cell_type": "code",
   "execution_count": 695,
   "id": "6bcd00e0",
   "metadata": {},
   "outputs": [],
   "source": [
    "ap_exams = pd.DataFrame(ap_exams[\"results\"])"
   ]
  },
  {
   "cell_type": "code",
   "execution_count": 696,
   "id": "945bdf9b",
   "metadata": {},
   "outputs": [
    {
     "data": {
      "text/plain": [
       "Index(['crdc_id', 'ncessch', 'year', 'fips', 'leaid', 'race', 'sex',\n",
       "       'disability', 'lep', 'students_AP_exam_none', 'students_AP_pass_none',\n",
       "       'students_AP_exam_oneormore', 'students_AP_pass_oneormore',\n",
       "       'students_AP_exam_all', 'students_AP_pass_all'],\n",
       "      dtype='object')"
      ]
     },
     "execution_count": 696,
     "metadata": {},
     "output_type": "execute_result"
    }
   ],
   "source": [
    "ap_exams.columns"
   ]
  },
  {
   "cell_type": "code",
   "execution_count": 697,
   "id": "ec51ae0f",
   "metadata": {},
   "outputs": [],
   "source": [
    "ap_exams=ap_exams.drop(['crdc_id', 'year', 'fips', 'leaid', 'race', 'sex',\n",
    "       'disability', 'lep'], axis=1)"
   ]
  },
  {
   "cell_type": "code",
   "execution_count": 698,
   "id": "7b53501a",
   "metadata": {},
   "outputs": [
    {
     "data": {
      "text/plain": [
       "Int64Index([  24,   25,   26,   27,   28,   29,   30,   31,  640,  641,  642,\n",
       "             643,  644,  645,  646,  647,  648,  649,  650,  651,  652,  653,\n",
       "             654,  655,  680,  681,  682,  683,  684,  685,  686,  687, 1008,\n",
       "            1009, 1010, 1011, 1012, 1013, 1014, 1015, 3016, 3017, 3018, 3019,\n",
       "            3020, 3021, 3022, 3023, 4184, 4185, 4186, 4187, 4188, 4189, 4190,\n",
       "            4191, 5192, 5193, 5194, 5195, 5196, 5197, 5198, 5199, 6632, 6633,\n",
       "            6634, 6635, 6636, 6637, 6638, 6639],\n",
       "           dtype='int64')"
      ]
     },
     "execution_count": 698,
     "metadata": {},
     "output_type": "execute_result"
    }
   ],
   "source": [
    "ap_exams[ap_exams[\"ncessch\"]==''].index "
   ]
  },
  {
   "cell_type": "code",
   "execution_count": 699,
   "id": "0a4f5332",
   "metadata": {},
   "outputs": [],
   "source": [
    "ap_exams = ap_exams.drop(index=[  24,   25,   26,   27,   28,   29,   30,   31,  640,  641,  642,\n",
    "             643,  644,  645,  646,  647,  648,  649,  650,  651,  652,  653,\n",
    "             654,  655,  680,  681,  682,  683,  684,  685,  686,  687, 1008,\n",
    "            1009, 1010, 1011, 1012, 1013, 1014, 1015, 3016, 3017, 3018, 3019,\n",
    "            3020, 3021, 3022, 3023, 4184, 4185, 4186, 4187, 4188, 4189, 4190,\n",
    "            4191, 5192, 5193, 5194, 5195, 5196, 5197, 5198, 5199, 6632, 6633,\n",
    "            6634, 6635, 6636, 6637, 6638, 6639]) "
   ]
  },
  {
   "cell_type": "code",
   "execution_count": 700,
   "id": "46ec9902",
   "metadata": {},
   "outputs": [],
   "source": [
    "ap_exams.rename(columns = {'ncessch':'ncessch_num'}, inplace = True)"
   ]
  },
  {
   "cell_type": "code",
   "execution_count": 701,
   "id": "4d85caf8",
   "metadata": {},
   "outputs": [],
   "source": [
    "ap_exams[\"ncessch_num\"]=ap_exams[\"ncessch_num\"].astype(np.int64)"
   ]
  },
  {
   "cell_type": "code",
   "execution_count": 703,
   "id": "78410610",
   "metadata": {},
   "outputs": [],
   "source": [
    "result = pd.merge(result,ap_exams, left_on = \"ncessch_num\" , right_on= \"ncessch_num\", how=\"inner\")"
   ]
  },
  {
   "cell_type": "code",
   "execution_count": 704,
   "id": "505f986c",
   "metadata": {},
   "outputs": [
    {
     "data": {
      "text/plain": [
       "Index(['ncessch_num', 'read_test_num_valid', 'read_test_pct_prof_midpt',\n",
       "       'read_test_pct_prof_high', 'read_test_pct_prof_low',\n",
       "       'math_test_num_valid', 'math_test_pct_prof_midpt',\n",
       "       'math_test_pct_prof_high', 'math_test_pct_prof_low', 'leaid',\n",
       "       'school_name_crdc', 'lea_name', 'lea_state',\n",
       "       'primarily_serve_students_w_dis', 'charter_crdc', 'magnet_crdc',\n",
       "       'alt_school', 'alt_school_focus', 'ability_grouped_math_or_eng',\n",
       "       'ug_elementary_school', 'ug_middle_school', 'ug_high_school', 'race',\n",
       "       'sex', 'disability', 'lep', 'teachers_fte_crdc',\n",
       "       'teachers_certified_fte', 'teachers_uncertified_fte',\n",
       "       'teachers_first_year_fte', 'teachers_second_year_fte',\n",
       "       'teachers_current_sy', 'teachers_absent_fte', 'enrl_biology',\n",
       "       'enrl_chemistry', 'enrl_advanced_math', 'enrl_calculus',\n",
       "       'enrl_algebra2', 'enrl_physics', 'enrl_geometry', 'salaries_teachers',\n",
       "       'salaries_instructional_aides', 'enrl_algebra1',\n",
       "       'students_passing_algebra1', 'meps_mod_poverty_pct',\n",
       "       'students_AP_exam_none', 'students_AP_pass_none',\n",
       "       'students_AP_exam_oneormore', 'students_AP_pass_oneormore',\n",
       "       'students_AP_exam_all', 'students_AP_pass_all'],\n",
       "      dtype='object')"
      ]
     },
     "execution_count": 704,
     "metadata": {},
     "output_type": "execute_result"
    }
   ],
   "source": [
    "result.columns"
   ]
  },
  {
   "cell_type": "code",
   "execution_count": 707,
   "id": "3ac2dae2",
   "metadata": {},
   "outputs": [
    {
     "data": {
      "text/plain": [
       "(3666816, 51)"
      ]
     },
     "execution_count": 707,
     "metadata": {},
     "output_type": "execute_result"
    }
   ],
   "source": [
    "result.shape"
   ]
  },
  {
   "cell_type": "code",
   "execution_count": null,
   "id": "a67565e4",
   "metadata": {},
   "outputs": [],
   "source": [
    "result."
   ]
  }
 ],
 "metadata": {
  "kernelspec": {
   "display_name": "Python 3 (ipykernel)",
   "language": "python",
   "name": "python3"
  },
  "language_info": {
   "codemirror_mode": {
    "name": "ipython",
    "version": 3
   },
   "file_extension": ".py",
   "mimetype": "text/x-python",
   "name": "python",
   "nbconvert_exporter": "python",
   "pygments_lexer": "ipython3",
   "version": "3.9.12"
  }
 },
 "nbformat": 4,
 "nbformat_minor": 5
}
