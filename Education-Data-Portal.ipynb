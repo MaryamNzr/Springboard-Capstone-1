{
 "cells": [
  {
   "cell_type": "code",
   "execution_count": 1,
   "id": "49d79c58",
   "metadata": {},
   "outputs": [],
   "source": [
    "import pandas as pd\n",
    "import numpy as np\n",
    "import matplotlib.pyplot as plt\n",
    "import seaborn as sns\n",
    "import os"
   ]
  },
  {
   "cell_type": "markdown",
   "id": "22cef798",
   "metadata": {},
   "source": [
    "This endpoint contains school-level information on location, mailing addresses, school types, highest and lowest grades offered, and free and reduced-price lunch. This endpoint also contains the school-level data on the number of full-time eqivalent teachers."
   ]
  },
  {
   "cell_type": "code",
   "execution_count": 7,
   "id": "72c3a017",
   "metadata": {},
   "outputs": [],
   "source": [
    "from urllib.request import urlopen\n",
    "from json import loads\n",
    "url = \"https://educationdata.urban.org/api/v1/schools/ccd/directory/1988/\"\n",
    "response = urlopen(url)\n",
    "ccd_directory = loads(response.read())"
   ]
  },
  {
   "cell_type": "markdown",
   "id": "7b455cf3",
   "metadata": {},
   "source": [
    "This endpoint contains student membership data for each school by grade. Only operational schools serving one or more grades are required to report membership and only these are included in this endpoint."
   ]
  },
  {
   "cell_type": "code",
   "execution_count": 8,
   "id": "12ad5133",
   "metadata": {},
   "outputs": [],
   "source": [
    "from urllib.request import urlopen\n",
    "from json import loads\n",
    "url = \"https://educationdata.urban.org/api/v1/schools/ccd/enrollment/2014/grade-8/\"\n",
    "response = urlopen(url)\n",
    "ccd_enrolment = loads(response.read())"
   ]
  },
  {
   "cell_type": "code",
   "execution_count": 9,
   "id": "548ce45c",
   "metadata": {},
   "outputs": [],
   "source": [
    "from urllib.request import urlopen\n",
    "from json import loads\n",
    "url = \"https://educationdata.urban.org/api/v1/schools/crdc/directory/2013/\"\n",
    "response = urlopen(url)\n",
    "crdc_directory = loads(response.read())"
   ]
  },
  {
   "cell_type": "code",
   "execution_count": 10,
   "id": "5d71463a",
   "metadata": {},
   "outputs": [],
   "source": [
    "from urllib.request import urlopen\n",
    "from json import loads\n",
    "url = \"https://educationdata.urban.org/api/v1/schools/crdc/enrollment/2013/race/sex/\"\n",
    "response = urlopen(url)\n",
    "crdc_enrolment = loads(response.read())"
   ]
  },
  {
   "cell_type": "code",
   "execution_count": 11,
   "id": "fc22cbf0",
   "metadata": {},
   "outputs": [],
   "source": [
    "from urllib.request import urlopen\n",
    "from json import loads\n",
    "url = \"https://educationdata.urban.org/api/v1/schools/crdc/discipline/2013/disability/sex/\"\n",
    "response = urlopen(url)\n",
    "crdc_dicipline = loads(response.read())"
   ]
  },
  {
   "cell_type": "code",
   "execution_count": 12,
   "id": "732fbb0b",
   "metadata": {},
   "outputs": [],
   "source": [
    "from urllib.request import urlopen\n",
    "from json import loads\n",
    "url = \"https://educationdata.urban.org/api/v1/schools/crdc/harassment-or-bullying/2015/allegations/\"\n",
    "response = urlopen(url)\n",
    "crdc_harassment = loads(response.read())"
   ]
  },
  {
   "cell_type": "code",
   "execution_count": 13,
   "id": "5ef4fe89",
   "metadata": {},
   "outputs": [],
   "source": [
    "from urllib.request import urlopen\n",
    "from json import loads\n",
    "url = \"https://educationdata.urban.org/api/v1/schools/crdc/chronic-absenteeism/2013/race/sex/\"\n",
    "response = urlopen(url)\n",
    "crdc_absenteeism = loads(response.read())"
   ]
  },
  {
   "cell_type": "code",
   "execution_count": 14,
   "id": "c27fabd0",
   "metadata": {},
   "outputs": [],
   "source": [
    "from urllib.request import urlopen\n",
    "from json import loads\n",
    "url = \"https://educationdata.urban.org/api/v1/schools/crdc/restraint-and-seclusion/2015/instances/\"\n",
    "response = urlopen(url)\n",
    "crdc_restraint = loads(response.read())"
   ]
  },
  {
   "cell_type": "code",
   "execution_count": 15,
   "id": "8977c0c2",
   "metadata": {},
   "outputs": [],
   "source": [
    "from urllib.request import urlopen\n",
    "from json import loads\n",
    "url = \"https://educationdata.urban.org/api/v1/schools/crdc/ap-ib-enrollment/2013/race/sex/\"\n",
    "response = urlopen(url)\n",
    "crdc_ap_enrolment = loads(response.read())"
   ]
  },
  {
   "cell_type": "code",
   "execution_count": 16,
   "id": "2ee826e0",
   "metadata": {},
   "outputs": [],
   "source": [
    "from urllib.request import urlopen\n",
    "from json import loads\n",
    "url = \"https://educationdata.urban.org/api/v1/schools/crdc/ap-exams/2013/race/sex/\"\n",
    "response = urlopen(url)\n",
    "crdc_ap_exam = loads(response.read())"
   ]
  },
  {
   "cell_type": "code",
   "execution_count": 17,
   "id": "b3dd5772",
   "metadata": {},
   "outputs": [],
   "source": [
    "from urllib.request import urlopen\n",
    "from json import loads\n",
    "url = \"https://educationdata.urban.org/api/v1/schools/crdc/sat-act-participation/2013/race/sex/\"\n",
    "response = urlopen(url)\n",
    "crdc_sat_participation = loads(response.read())"
   ]
  },
  {
   "cell_type": "code",
   "execution_count": 18,
   "id": "48dabc3a",
   "metadata": {},
   "outputs": [],
   "source": [
    "from urllib.request import urlopen\n",
    "from json import loads\n",
    "url = \"https://educationdata.urban.org/api/v1/schools/crdc/teachers-staff/2015/\"\n",
    "response = urlopen(url)\n",
    "crdc_teachers = loads(response.read())"
   ]
  },
  {
   "cell_type": "code",
   "execution_count": 20,
   "id": "bfa9944a",
   "metadata": {},
   "outputs": [],
   "source": [
    "from urllib.request import urlopen\n",
    "from json import loads\n",
    "url = \"https://educationdata.urban.org/api/v1/schools/crdc/math-and-science/2017/race/sex/\"\n",
    "response = urlopen(url)\n",
    "crdc_mathscience_enrollment = loads(response.read())"
   ]
  },
  {
   "cell_type": "code",
   "execution_count": 21,
   "id": "95450292",
   "metadata": {},
   "outputs": [],
   "source": [
    "from urllib.request import urlopen\n",
    "from json import loads\n",
    "url = \"https://educationdata.urban.org/api/v1/schools/crdc/algebra1/2017/race/sex/\"\n",
    "response = urlopen(url)\n",
    "crdc_algebra = loads(response.read())\n"
   ]
  },
  {
   "cell_type": "code",
   "execution_count": 22,
   "id": "edc93a22",
   "metadata": {},
   "outputs": [],
   "source": [
    "from urllib.request import urlopen\n",
    "from json import loads\n",
    "url = \"https://educationdata.urban.org/api/v1/schools/crdc/dual-enrollment/2017/race/sex\"\n",
    "response = urlopen(url)\n",
    "crdc_dual_enrollment = loads(response.read())"
   ]
  },
  {
   "cell_type": "code",
   "execution_count": 23,
   "id": "240aae86",
   "metadata": {},
   "outputs": [],
   "source": [
    "from urllib.request import urlopen\n",
    "from json import loads\n",
    "url = \"https://educationdata.urban.org/api/v1/schools/crdc/suspensions-days/2017/race/sex\"\n",
    "response = urlopen(url)\n",
    "crdc_suspensions = loads(response.read())"
   ]
  },
  {
   "cell_type": "code",
   "execution_count": 24,
   "id": "654a77d9",
   "metadata": {},
   "outputs": [],
   "source": [
    "from urllib.request import urlopen\n",
    "from json import loads\n",
    "url = \"https://educationdata.urban.org/api/v1/schools/crdc/offerings/2017/\"\n",
    "response = urlopen(url)\n",
    "crdc_offerings = loads(response.read())"
   ]
  },
  {
   "cell_type": "code",
   "execution_count": 25,
   "id": "6dfd3036",
   "metadata": {},
   "outputs": [],
   "source": [
    "from urllib.request import urlopen\n",
    "from json import loads\n",
    "url = \"https://educationdata.urban.org/api/v1/schools/crdc/school-finance/2017/\"\n",
    "response = urlopen(url)\n",
    "crdc_school_finance = loads(response.read())"
   ]
  },
  {
   "cell_type": "code",
   "execution_count": 26,
   "id": "d5739115",
   "metadata": {},
   "outputs": [],
   "source": [
    "from urllib.request import urlopen\n",
    "from json import loads\n",
    "url = \"https://educationdata.urban.org/api/v1/schools/crdc/retention/2017/grade-3/race/sex\"\n",
    "response = urlopen(url)\n",
    "crdc_retention = loads(response.read())"
   ]
  },
  {
   "cell_type": "code",
   "execution_count": 28,
   "id": "6e2033e0",
   "metadata": {},
   "outputs": [],
   "source": [
    "from urllib.request import urlopen\n",
    "from json import loads\n",
    "url = \"https://educationdata.urban.org/api/v1/schools/edfacts/assessments/2014/grade-8/\"\n",
    "response = urlopen(url)\n",
    "edfact_assessment = loads(response.read())\n"
   ]
  },
  {
   "cell_type": "code",
   "execution_count": 29,
   "id": "76996fc4",
   "metadata": {},
   "outputs": [],
   "source": [
    "from urllib.request import urlopen\n",
    "from json import loads\n",
    "url = \"https://educationdata.urban.org/api/v1/schools/edfacts/grad-rates/2014/\"\n",
    "response = urlopen(url)\n",
    "edfact_grad_rate = loads(response.read())"
   ]
  },
  {
   "cell_type": "code",
   "execution_count": 30,
   "id": "85cda47f",
   "metadata": {},
   "outputs": [],
   "source": [
    "from urllib.request import urlopen\n",
    "from json import loads\n",
    "url = \"https://educationdata.urban.org/api/v1/schools/nhgis/census-2010/2016/\"\n",
    "response = urlopen(url)\n",
    "nhgis_geografy = loads(response.read())"
   ]
  },
  {
   "cell_type": "code",
   "execution_count": null,
   "id": "76278846",
   "metadata": {},
   "outputs": [],
   "source": []
  }
 ],
 "metadata": {
  "kernelspec": {
   "display_name": "Python 3 (ipykernel)",
   "language": "python",
   "name": "python3"
  },
  "language_info": {
   "codemirror_mode": {
    "name": "ipython",
    "version": 3
   },
   "file_extension": ".py",
   "mimetype": "text/x-python",
   "name": "python",
   "nbconvert_exporter": "python",
   "pygments_lexer": "ipython3",
   "version": "3.9.12"
  }
 },
 "nbformat": 4,
 "nbformat_minor": 5
}
