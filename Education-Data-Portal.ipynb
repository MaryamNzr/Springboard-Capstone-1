{
 "cells": [
  {
   "cell_type": "code",
   "execution_count": 1,
   "id": "49d79c58",
   "metadata": {},
   "outputs": [],
   "source": [
    "import pandas as pd\n",
    "import numpy as np\n",
    "import matplotlib.pyplot as plt\n",
    "import seaborn as sns\n",
    "import os"
   ]
  },
  {
   "cell_type": "markdown",
   "id": "bae3c948",
   "metadata": {},
   "source": [
    "This endpoint contains student membership data for each school by grade. Only operational schools serving one or more grades are required to report membership and only these are included in this endpoint. Source: The Civil Rights Data Collection (CRDC)\n",
    "\n"
   ]
  },
  {
   "cell_type": "code",
   "execution_count": 2,
   "id": "b7dd04b2",
   "metadata": {},
   "outputs": [
    {
     "name": "stderr",
     "output_type": "stream",
     "text": [
      "/var/folders/q1/5l3sndps6dj6yrp14kddr27w0000gn/T/ipykernel_5373/3852495690.py:1: DtypeWarning: Columns (0,2,3,34) have mixed types. Specify dtype option on import or set low_memory=False.\n",
      "  crdc_directory = pd.read_csv(\"schools_crdc_school_characteristics.csv\")\n"
     ]
    },
    {
     "data": {
      "text/html": [
       "<div>\n",
       "<style scoped>\n",
       "    .dataframe tbody tr th:only-of-type {\n",
       "        vertical-align: middle;\n",
       "    }\n",
       "\n",
       "    .dataframe tbody tr th {\n",
       "        vertical-align: top;\n",
       "    }\n",
       "\n",
       "    .dataframe thead th {\n",
       "        text-align: right;\n",
       "    }\n",
       "</style>\n",
       "<table border=\"1\" class=\"dataframe\">\n",
       "  <thead>\n",
       "    <tr style=\"text-align: right;\">\n",
       "      <th></th>\n",
       "      <th>crdc_id</th>\n",
       "      <th>year</th>\n",
       "      <th>ncessch</th>\n",
       "      <th>leaid_crdc</th>\n",
       "      <th>fips</th>\n",
       "      <th>school_name_crdc</th>\n",
       "      <th>schoolid_crdc</th>\n",
       "      <th>lea_name</th>\n",
       "      <th>lea_state</th>\n",
       "      <th>prek</th>\n",
       "      <th>...</th>\n",
       "      <th>charter_crdc</th>\n",
       "      <th>magnet_crdc</th>\n",
       "      <th>entire_school_magnet</th>\n",
       "      <th>alt_school</th>\n",
       "      <th>alt_school_focus</th>\n",
       "      <th>ability_grouped_math_or_eng</th>\n",
       "      <th>ug_elementary_school</th>\n",
       "      <th>ug_middle_school</th>\n",
       "      <th>ug_high_school</th>\n",
       "      <th>leaid</th>\n",
       "    </tr>\n",
       "  </thead>\n",
       "  <tbody>\n",
       "    <tr>\n",
       "      <th>0</th>\n",
       "      <td>10000201705</td>\n",
       "      <td>2011</td>\n",
       "      <td>10000201705.0</td>\n",
       "      <td>100002</td>\n",
       "      <td>1</td>\n",
       "      <td>WALLACE SCH - MT MEIGS CAMPUS</td>\n",
       "      <td>1705</td>\n",
       "      <td>ALABAMA YOUTH SERVICES</td>\n",
       "      <td>AL</td>\n",
       "      <td>0</td>\n",
       "      <td>...</td>\n",
       "      <td>0</td>\n",
       "      <td>0</td>\n",
       "      <td>-2</td>\n",
       "      <td>0</td>\n",
       "      <td>-2.0</td>\n",
       "      <td>0.0</td>\n",
       "      <td>NaN</td>\n",
       "      <td>NaN</td>\n",
       "      <td>NaN</td>\n",
       "      <td>100002.0</td>\n",
       "    </tr>\n",
       "    <tr>\n",
       "      <th>1</th>\n",
       "      <td>10000201705</td>\n",
       "      <td>2013</td>\n",
       "      <td>10000201705.0</td>\n",
       "      <td>100002</td>\n",
       "      <td>1</td>\n",
       "      <td>WALLACE SCH - MT MEIGS CAMPUS</td>\n",
       "      <td>1705</td>\n",
       "      <td>ALABAMA YOUTH SERVICES</td>\n",
       "      <td>AL</td>\n",
       "      <td>0</td>\n",
       "      <td>...</td>\n",
       "      <td>0</td>\n",
       "      <td>0</td>\n",
       "      <td>-2</td>\n",
       "      <td>1</td>\n",
       "      <td>3.0</td>\n",
       "      <td>NaN</td>\n",
       "      <td>-2.0</td>\n",
       "      <td>-2.0</td>\n",
       "      <td>-2.0</td>\n",
       "      <td>100002.0</td>\n",
       "    </tr>\n",
       "    <tr>\n",
       "      <th>2</th>\n",
       "      <td>10000201705</td>\n",
       "      <td>2015</td>\n",
       "      <td>10000201705.0</td>\n",
       "      <td>100002</td>\n",
       "      <td>1</td>\n",
       "      <td>Wallace Sch - Mt Meigs Campus</td>\n",
       "      <td>1705</td>\n",
       "      <td>Alabama Youth Services</td>\n",
       "      <td>AL</td>\n",
       "      <td>0</td>\n",
       "      <td>...</td>\n",
       "      <td>0</td>\n",
       "      <td>0</td>\n",
       "      <td>-2</td>\n",
       "      <td>0</td>\n",
       "      <td>-2.0</td>\n",
       "      <td>NaN</td>\n",
       "      <td>0.0</td>\n",
       "      <td>0.0</td>\n",
       "      <td>1.0</td>\n",
       "      <td>100002.0</td>\n",
       "    </tr>\n",
       "    <tr>\n",
       "      <th>3</th>\n",
       "      <td>10000201705</td>\n",
       "      <td>2017</td>\n",
       "      <td>10000201705.0</td>\n",
       "      <td>100002</td>\n",
       "      <td>1</td>\n",
       "      <td>Wallace Sch - Mt Meigs Campus</td>\n",
       "      <td>1705</td>\n",
       "      <td>Alabama Youth Services</td>\n",
       "      <td>AL</td>\n",
       "      <td>0</td>\n",
       "      <td>...</td>\n",
       "      <td>0</td>\n",
       "      <td>0</td>\n",
       "      <td>-2</td>\n",
       "      <td>0</td>\n",
       "      <td>-2.0</td>\n",
       "      <td>NaN</td>\n",
       "      <td>-2.0</td>\n",
       "      <td>-2.0</td>\n",
       "      <td>-2.0</td>\n",
       "      <td>100002.0</td>\n",
       "    </tr>\n",
       "    <tr>\n",
       "      <th>4</th>\n",
       "      <td>10000201706</td>\n",
       "      <td>2011</td>\n",
       "      <td>10000201706.0</td>\n",
       "      <td>100002</td>\n",
       "      <td>1</td>\n",
       "      <td>MCNEEL SCH - VACCA CAMPUS</td>\n",
       "      <td>1706</td>\n",
       "      <td>ALABAMA YOUTH SERVICES</td>\n",
       "      <td>AL</td>\n",
       "      <td>0</td>\n",
       "      <td>...</td>\n",
       "      <td>0</td>\n",
       "      <td>0</td>\n",
       "      <td>-2</td>\n",
       "      <td>0</td>\n",
       "      <td>-2.0</td>\n",
       "      <td>0.0</td>\n",
       "      <td>NaN</td>\n",
       "      <td>NaN</td>\n",
       "      <td>NaN</td>\n",
       "      <td>100002.0</td>\n",
       "    </tr>\n",
       "  </tbody>\n",
       "</table>\n",
       "<p>5 rows × 35 columns</p>\n",
       "</div>"
      ],
      "text/plain": [
       "       crdc_id  year        ncessch leaid_crdc  fips  \\\n",
       "0  10000201705  2011  10000201705.0     100002     1   \n",
       "1  10000201705  2013  10000201705.0     100002     1   \n",
       "2  10000201705  2015  10000201705.0     100002     1   \n",
       "3  10000201705  2017  10000201705.0     100002     1   \n",
       "4  10000201706  2011  10000201706.0     100002     1   \n",
       "\n",
       "                school_name_crdc  schoolid_crdc                lea_name  \\\n",
       "0  WALLACE SCH - MT MEIGS CAMPUS           1705  ALABAMA YOUTH SERVICES   \n",
       "1  WALLACE SCH - MT MEIGS CAMPUS           1705  ALABAMA YOUTH SERVICES   \n",
       "2  Wallace Sch - Mt Meigs Campus           1705  Alabama Youth Services   \n",
       "3  Wallace Sch - Mt Meigs Campus           1705  Alabama Youth Services   \n",
       "4      MCNEEL SCH - VACCA CAMPUS           1706  ALABAMA YOUTH SERVICES   \n",
       "\n",
       "  lea_state  prek  ...  charter_crdc  magnet_crdc  entire_school_magnet  \\\n",
       "0        AL     0  ...             0            0                    -2   \n",
       "1        AL     0  ...             0            0                    -2   \n",
       "2        AL     0  ...             0            0                    -2   \n",
       "3        AL     0  ...             0            0                    -2   \n",
       "4        AL     0  ...             0            0                    -2   \n",
       "\n",
       "   alt_school  alt_school_focus  ability_grouped_math_or_eng  \\\n",
       "0           0              -2.0                          0.0   \n",
       "1           1               3.0                          NaN   \n",
       "2           0              -2.0                          NaN   \n",
       "3           0              -2.0                          NaN   \n",
       "4           0              -2.0                          0.0   \n",
       "\n",
       "   ug_elementary_school  ug_middle_school  ug_high_school     leaid  \n",
       "0                   NaN               NaN             NaN  100002.0  \n",
       "1                  -2.0              -2.0            -2.0  100002.0  \n",
       "2                   0.0               0.0             1.0  100002.0  \n",
       "3                  -2.0              -2.0            -2.0  100002.0  \n",
       "4                   NaN               NaN             NaN  100002.0  \n",
       "\n",
       "[5 rows x 35 columns]"
      ]
     },
     "execution_count": 2,
     "metadata": {},
     "output_type": "execute_result"
    }
   ],
   "source": [
    "crdc_directory = pd.read_csv(\"schools_crdc_school_characteristics.csv\")\n",
    "crdc_directory.head()"
   ]
  },
  {
   "cell_type": "code",
   "execution_count": 3,
   "id": "2ed82d44",
   "metadata": {},
   "outputs": [
    {
     "data": {
      "text/plain": [
       "385134"
      ]
     },
     "execution_count": 3,
     "metadata": {},
     "output_type": "execute_result"
    }
   ],
   "source": [
    "len(crdc_directory)"
   ]
  },
  {
   "cell_type": "code",
   "execution_count": 7,
   "id": "371bc8c5",
   "metadata": {},
   "outputs": [
    {
     "data": {
      "text/plain": [
       "Index(['crdc_id', 'year', 'ncessch', 'leaid_crdc', 'fips', 'school_name_crdc',\n",
       "       'schoolid_crdc', 'lea_name', 'lea_state', 'prek', 'k', 'g1', 'g2', 'g3',\n",
       "       'g4', 'g5', 'g6', 'g7', 'g8', 'g9', 'g10', 'g11', 'g12', 'ug',\n",
       "       'primarily_serve_students_w_dis', 'charter_crdc', 'magnet_crdc',\n",
       "       'entire_school_magnet', 'alt_school', 'alt_school_focus',\n",
       "       'ability_grouped_math_or_eng', 'ug_elementary_school',\n",
       "       'ug_middle_school', 'ug_high_school', 'leaid'],\n",
       "      dtype='object')"
      ]
     },
     "execution_count": 7,
     "metadata": {},
     "output_type": "execute_result"
    }
   ],
   "source": [
    "crdc_directory.columns"
   ]
  },
  {
   "cell_type": "code",
   "execution_count": 12,
   "id": "ee7caf2b",
   "metadata": {},
   "outputs": [
    {
     "data": {
      "text/plain": [
       "0          100002\n",
       "1          100002\n",
       "2          100002\n",
       "3          100002\n",
       "4          100002\n",
       "           ...   \n",
       "385129    9999094\n",
       "385130    9999095\n",
       "385131    9999096\n",
       "385132    9999097\n",
       "385133    9999098\n",
       "Name: leaid_crdc, Length: 385134, dtype: object"
      ]
     },
     "execution_count": 12,
     "metadata": {},
     "output_type": "execute_result"
    }
   ],
   "source": [
    "#there are two columns for LEA id.\n",
    "crdc_directory[\"leaid_crdc\"]"
   ]
  },
  {
   "cell_type": "code",
   "execution_count": 13,
   "id": "0e555614",
   "metadata": {},
   "outputs": [
    {
     "data": {
      "text/plain": [
       "0         100002.0\n",
       "1         100002.0\n",
       "2         100002.0\n",
       "3         100002.0\n",
       "4         100002.0\n",
       "            ...   \n",
       "385129         NaN\n",
       "385130         NaN\n",
       "385131    614550.0\n",
       "385132    614550.0\n",
       "385133    614550.0\n",
       "Name: leaid, Length: 385134, dtype: object"
      ]
     },
     "execution_count": 13,
     "metadata": {},
     "output_type": "execute_result"
    }
   ],
   "source": [
    "crdc_directory[\"leaid\"]"
   ]
  },
  {
   "cell_type": "code",
   "execution_count": 59,
   "id": "5d71463a",
   "metadata": {},
   "outputs": [
    {
     "data": {
      "text/plain": [
       "0       {'crdc_id': '010000201705', 'ncessch': '010000...\n",
       "1       {'crdc_id': '010000201705', 'ncessch': '010000...\n",
       "2       {'crdc_id': '010000201705', 'ncessch': '010000...\n",
       "3       {'crdc_id': '010000201705', 'ncessch': '010000...\n",
       "4       {'crdc_id': '010000201705', 'ncessch': '010000...\n",
       "                              ...                        \n",
       "9995    {'crdc_id': '010102000458', 'ncessch': '010102...\n",
       "9996    {'crdc_id': '010102000458', 'ncessch': '010102...\n",
       "9997    {'crdc_id': '010102000458', 'ncessch': '010102...\n",
       "9998    {'crdc_id': '010102000458', 'ncessch': '010102...\n",
       "9999    {'crdc_id': '010102000458', 'ncessch': '010102...\n",
       "Name: results, Length: 10000, dtype: object"
      ]
     },
     "execution_count": 59,
     "metadata": {},
     "output_type": "execute_result"
    }
   ],
   "source": [
    "from urllib.request import urlopen\n",
    "from json import loads\n",
    "url = \"https://educationdata.urban.org/api/v1/schools/crdc/enrollment/2013/race/sex/\"\n",
    "response = urlopen(url)\n",
    "enrolment2013 = loads(response.read())\n",
    "enrolment2013 = pd.DataFrame(enrolment2013)\n",
    "#only the results columns is important.\n",
    "enrolment2013= enrolment2013[\"results\"]\n",
    "enrolment2013"
   ]
  },
  {
   "cell_type": "code",
   "execution_count": 61,
   "id": "2be3a67f",
   "metadata": {},
   "outputs": [
    {
     "data": {
      "text/plain": [
       "0       {'crdc_id': '010000201705', 'ncessch': '010000...\n",
       "1       {'crdc_id': '010000201705', 'ncessch': '010000...\n",
       "2       {'crdc_id': '010000201705', 'ncessch': '010000...\n",
       "3       {'crdc_id': '010000201705', 'ncessch': '010000...\n",
       "4       {'crdc_id': '010000201705', 'ncessch': '010000...\n",
       "                              ...                        \n",
       "9995    {'crdc_id': '010102000413', 'ncessch': '010102...\n",
       "9996    {'crdc_id': '010102000413', 'ncessch': '010102...\n",
       "9997    {'crdc_id': '010102000413', 'ncessch': '010102...\n",
       "9998    {'crdc_id': '010102000413', 'ncessch': '010102...\n",
       "9999    {'crdc_id': '010102000413', 'ncessch': '010102...\n",
       "Name: results, Length: 10000, dtype: object"
      ]
     },
     "execution_count": 61,
     "metadata": {},
     "output_type": "execute_result"
    }
   ],
   "source": [
    "from urllib.request import urlopen\n",
    "from json import loads\n",
    "url = \"https://educationdata.urban.org/api/v1/schools/crdc/enrollment/2011/race/sex/\"\n",
    "response = urlopen(url)\n",
    "enrolment2011 = loads(response.read())\n",
    "enrolment2011=pd.DataFrame(enrolment2011)\n",
    "enrolment2011= enrolment2011[\"results\"]\n",
    "enrolment2011"
   ]
  },
  {
   "cell_type": "code",
   "execution_count": 62,
   "id": "0b45e922",
   "metadata": {},
   "outputs": [
    {
     "data": {
      "text/plain": [
       "0       {'crdc_id': '010000201705', 'ncessch': '010000...\n",
       "1       {'crdc_id': '010000201705', 'ncessch': '010000...\n",
       "2       {'crdc_id': '010000201705', 'ncessch': '010000...\n",
       "3       {'crdc_id': '010000201705', 'ncessch': '010000...\n",
       "4       {'crdc_id': '010000201705', 'ncessch': '010000...\n",
       "                              ...                        \n",
       "9995    {'crdc_id': '010102000414', 'ncessch': '010102...\n",
       "9996    {'crdc_id': '010102000414', 'ncessch': '010102...\n",
       "9997    {'crdc_id': '010102000414', 'ncessch': '010102...\n",
       "9998    {'crdc_id': '010102000414', 'ncessch': '010102...\n",
       "9999    {'crdc_id': '010102000414', 'ncessch': '010102...\n",
       "Name: results, Length: 10000, dtype: object"
      ]
     },
     "execution_count": 62,
     "metadata": {},
     "output_type": "execute_result"
    }
   ],
   "source": [
    "from urllib.request import urlopen\n",
    "from json import loads\n",
    "url = \"https://educationdata.urban.org/api/v1/schools/crdc/enrollment/2015/race/sex/\"\n",
    "response = urlopen(url)\n",
    "enrolment2015 = loads(response.read())\n",
    "enrolment2015=pd.DataFrame(enrolment2015)\n",
    "enrolment2015= enrolment2015[\"results\"]\n",
    "enrolment2015"
   ]
  },
  {
   "cell_type": "code",
   "execution_count": 63,
   "id": "1cc2be76",
   "metadata": {},
   "outputs": [
    {
     "data": {
      "text/plain": [
       "0       {'crdc_id': '010000201705', 'ncessch': '010000...\n",
       "1       {'crdc_id': '010000201705', 'ncessch': '010000...\n",
       "2       {'crdc_id': '010000201705', 'ncessch': '010000...\n",
       "3       {'crdc_id': '010000201705', 'ncessch': '010000...\n",
       "4       {'crdc_id': '010000201705', 'ncessch': '010000...\n",
       "                              ...                        \n",
       "9995    {'crdc_id': '010102000400', 'ncessch': '010102...\n",
       "9996    {'crdc_id': '010102000400', 'ncessch': '010102...\n",
       "9997    {'crdc_id': '010102000400', 'ncessch': '010102...\n",
       "9998    {'crdc_id': '010102000400', 'ncessch': '010102...\n",
       "9999    {'crdc_id': '010102000400', 'ncessch': '010102...\n",
       "Name: results, Length: 10000, dtype: object"
      ]
     },
     "execution_count": 63,
     "metadata": {},
     "output_type": "execute_result"
    }
   ],
   "source": [
    "from urllib.request import urlopen\n",
    "from json import loads\n",
    "url = \"https://educationdata.urban.org/api/v1/schools/crdc/enrollment/2017/race/sex/\"\n",
    "response = urlopen(url)\n",
    "enrolment2017 = loads(response.read())\n",
    "enrolment2017=pd.DataFrame(enrolment2017)\n",
    "enrolment2017= enrolment2017[\"results\"]\n",
    "enrolment2017"
   ]
  },
  {
   "cell_type": "code",
   "execution_count": 64,
   "id": "ba736f1e",
   "metadata": {},
   "outputs": [
    {
     "data": {
      "text/plain": [
       "2011  0    {'crdc_id': '010000201705', 'ncessch': '010000...\n",
       "      1    {'crdc_id': '010000201705', 'ncessch': '010000...\n",
       "      2    {'crdc_id': '010000201705', 'ncessch': '010000...\n",
       "      3    {'crdc_id': '010000201705', 'ncessch': '010000...\n",
       "      4    {'crdc_id': '010000201705', 'ncessch': '010000...\n",
       "Name: results, dtype: object"
      ]
     },
     "execution_count": 64,
     "metadata": {},
     "output_type": "execute_result"
    }
   ],
   "source": [
    "#concat the 4 years enrolment data\n",
    "year = [enrolment2011, enrolment2013, enrolment2015, enrolment2017]\n",
    "enrolment = pd.concat(year, keys = [\"2011\",\"2013\",\"2015\", \"2017\"])\n",
    "enrolment.head()"
   ]
  },
  {
   "cell_type": "code",
   "execution_count": 11,
   "id": "fc22cbf0",
   "metadata": {},
   "outputs": [],
   "source": [
    "from urllib.request import urlopen\n",
    "from json import loads\n",
    "url = \"https://educationdata.urban.org/api/v1/schools/crdc/discipline/2013/disability/sex/\"\n",
    "response = urlopen(url)\n",
    "crdc_dicipline = loads(response.read())"
   ]
  },
  {
   "cell_type": "code",
   "execution_count": 12,
   "id": "3f335f97",
   "metadata": {},
   "outputs": [],
   "source": [
    "from urllib.request import urlopen\n",
    "from json import loads\n",
    "url = \"https://educationdata.urban.org/api/v1/schools/crdc/harassment-or-bullying/2015/allegations/\"\n",
    "response = urlopen(url)\n",
    "crdc_harassment = loads(response.read())"
   ]
  },
  {
   "cell_type": "code",
   "execution_count": 13,
   "id": "a333890e",
   "metadata": {},
   "outputs": [],
   "source": [
    "from urllib.request import urlopen\n",
    "from json import loads\n",
    "url = \"https://educationdata.urban.org/api/v1/schools/crdc/chronic-absenteeism/2013/race/sex/\"\n",
    "response = urlopen(url)\n",
    "crdc_absenteeism = loads(response.read())"
   ]
  },
  {
   "cell_type": "code",
   "execution_count": 14,
   "id": "c27fabd0",
   "metadata": {},
   "outputs": [],
   "source": [
    "from urllib.request import urlopen\n",
    "from json import loads\n",
    "url = \"https://educationdata.urban.org/api/v1/schools/crdc/restraint-and-seclusion/2015/instances/\"\n",
    "response = urlopen(url)\n",
    "crdc_restraint = loads(response.read())"
   ]
  },
  {
   "cell_type": "code",
   "execution_count": 15,
   "id": "8977c0c2",
   "metadata": {},
   "outputs": [],
   "source": [
    "from urllib.request import urlopen\n",
    "from json import loads\n",
    "url = \"https://educationdata.urban.org/api/v1/schools/crdc/ap-ib-enrollment/2013/race/sex/\"\n",
    "response = urlopen(url)\n",
    "crdc_ap_enrolment = loads(response.read())"
   ]
  },
  {
   "cell_type": "code",
   "execution_count": 16,
   "id": "2ee826e0",
   "metadata": {},
   "outputs": [],
   "source": [
    "from urllib.request import urlopen\n",
    "from json import loads\n",
    "url = \"https://educationdata.urban.org/api/v1/schools/crdc/ap-exams/2013/race/sex/\"\n",
    "response = urlopen(url)\n",
    "crdc_ap_exam = loads(response.read())"
   ]
  },
  {
   "cell_type": "code",
   "execution_count": 17,
   "id": "b3dd5772",
   "metadata": {},
   "outputs": [],
   "source": [
    "from urllib.request import urlopen\n",
    "from json import loads\n",
    "url = \"https://educationdata.urban.org/api/v1/schools/crdc/sat-act-participation/2013/race/sex/\"\n",
    "response = urlopen(url)\n",
    "crdc_sat_participation = loads(response.read())"
   ]
  },
  {
   "cell_type": "code",
   "execution_count": 18,
   "id": "48dabc3a",
   "metadata": {},
   "outputs": [],
   "source": [
    "from urllib.request import urlopen\n",
    "from json import loads\n",
    "url = \"https://educationdata.urban.org/api/v1/schools/crdc/teachers-staff/2015/\"\n",
    "response = urlopen(url)\n",
    "crdc_teachers = loads(response.read())"
   ]
  },
  {
   "cell_type": "code",
   "execution_count": 20,
   "id": "bfa9944a",
   "metadata": {},
   "outputs": [],
   "source": [
    "from urllib.request import urlopen\n",
    "from json import loads\n",
    "url = \"https://educationdata.urban.org/api/v1/schools/crdc/math-and-science/2017/race/sex/\"\n",
    "response = urlopen(url)\n",
    "crdc_mathscience_enrollment = loads(response.read())"
   ]
  },
  {
   "cell_type": "code",
   "execution_count": 21,
   "id": "95450292",
   "metadata": {},
   "outputs": [],
   "source": [
    "from urllib.request import urlopen\n",
    "from json import loads\n",
    "url = \"https://educationdata.urban.org/api/v1/schools/crdc/algebra1/2017/race/sex/\"\n",
    "response = urlopen(url)\n",
    "crdc_algebra = loads(response.read())\n"
   ]
  },
  {
   "cell_type": "code",
   "execution_count": 22,
   "id": "edc93a22",
   "metadata": {},
   "outputs": [],
   "source": [
    "from urllib.request import urlopen\n",
    "from json import loads\n",
    "url = \"https://educationdata.urban.org/api/v1/schools/crdc/dual-enrollment/2017/race/sex\"\n",
    "response = urlopen(url)\n",
    "crdc_dual_enrollment = loads(response.read())"
   ]
  },
  {
   "cell_type": "code",
   "execution_count": 23,
   "id": "240aae86",
   "metadata": {},
   "outputs": [],
   "source": [
    "from urllib.request import urlopen\n",
    "from json import loads\n",
    "url = \"https://educationdata.urban.org/api/v1/schools/crdc/suspensions-days/2017/race/sex\"\n",
    "response = urlopen(url)\n",
    "crdc_suspensions = loads(response.read())"
   ]
  },
  {
   "cell_type": "code",
   "execution_count": 24,
   "id": "654a77d9",
   "metadata": {},
   "outputs": [],
   "source": [
    "from urllib.request import urlopen\n",
    "from json import loads\n",
    "url = \"https://educationdata.urban.org/api/v1/schools/crdc/offerings/2017/\"\n",
    "response = urlopen(url)\n",
    "crdc_offerings = loads(response.read())"
   ]
  },
  {
   "cell_type": "code",
   "execution_count": 25,
   "id": "6dfd3036",
   "metadata": {},
   "outputs": [],
   "source": [
    "from urllib.request import urlopen\n",
    "from json import loads\n",
    "url = \"https://educationdata.urban.org/api/v1/schools/crdc/school-finance/2017/\"\n",
    "response = urlopen(url)\n",
    "crdc_school_finance = loads(response.read())"
   ]
  },
  {
   "cell_type": "code",
   "execution_count": 26,
   "id": "d5739115",
   "metadata": {},
   "outputs": [],
   "source": [
    "from urllib.request import urlopen\n",
    "from json import loads\n",
    "url = \"https://educationdata.urban.org/api/v1/schools/crdc/retention/2017/grade-3/race/sex\"\n",
    "response = urlopen(url)\n",
    "crdc_retention = loads(response.read())"
   ]
  },
  {
   "cell_type": "code",
   "execution_count": 28,
   "id": "6e2033e0",
   "metadata": {},
   "outputs": [],
   "source": [
    "from urllib.request import urlopen\n",
    "from json import loads\n",
    "url = \"https://educationdata.urban.org/api/v1/schools/edfacts/assessments/2014/grade-8/\"\n",
    "response = urlopen(url)\n",
    "edfact_assessment = loads(response.read())\n"
   ]
  },
  {
   "cell_type": "code",
   "execution_count": 29,
   "id": "76996fc4",
   "metadata": {},
   "outputs": [],
   "source": [
    "from urllib.request import urlopen\n",
    "from json import loads\n",
    "url = \"https://educationdata.urban.org/api/v1/schools/edfacts/grad-rates/2014/\"\n",
    "response = urlopen(url)\n",
    "edfact_grad_rate = loads(response.read())"
   ]
  },
  {
   "cell_type": "code",
   "execution_count": 30,
   "id": "85cda47f",
   "metadata": {},
   "outputs": [],
   "source": [
    "from urllib.request import urlopen\n",
    "from json import loads\n",
    "url = \"https://educationdata.urban.org/api/v1/schools/nhgis/census-2010/2016/\"\n",
    "response = urlopen(url)\n",
    "nhgis_geografy = loads(response.read())"
   ]
  },
  {
   "cell_type": "code",
   "execution_count": null,
   "id": "76278846",
   "metadata": {},
   "outputs": [],
   "source": []
  }
 ],
 "metadata": {
  "kernelspec": {
   "display_name": "Python 3 (ipykernel)",
   "language": "python",
   "name": "python3"
  },
  "language_info": {
   "codemirror_mode": {
    "name": "ipython",
    "version": 3
   },
   "file_extension": ".py",
   "mimetype": "text/x-python",
   "name": "python",
   "nbconvert_exporter": "python",
   "pygments_lexer": "ipython3",
   "version": "3.9.12"
  }
 },
 "nbformat": 4,
 "nbformat_minor": 5
}
